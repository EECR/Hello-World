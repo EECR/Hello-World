{
  "nbformat": 4,
  "nbformat_minor": 0,
  "metadata": {
    "kernelspec": {
      "name": "python3",
      "display_name": "Python 3"
    },
    "colab": {
      "name": "Copy of Capstone Project.ipynb",
      "provenance": [],
      "collapsed_sections": [],
      "include_colab_link": true
    },
    "accelerator": "GPU"
  },
  "cells": [
    {
      "cell_type": "markdown",
      "metadata": {
        "id": "view-in-github",
        "colab_type": "text"
      },
      "source": [
        "<a href=\"https://colab.research.google.com/github/EECR/Hello-World/blob/master/Capstone_Project.ipynb\" target=\"_parent\"><img src=\"https://colab.research.google.com/assets/colab-badge.svg\" alt=\"Open In Colab\"/></a>"
      ]
    },
    {
      "cell_type": "markdown",
      "metadata": {
        "id": "vsX0L1sG1iZj"
      },
      "source": [
        "# Capstone Project\n",
        "## Neural translation model\n",
        "### Instructions\n",
        "\n",
        "In this notebook, you will create a neural network that translates from English to German. You will use concepts from throughout this course, including building more flexible model architectures, freezing layers, data processing pipeline and sequence modelling.\n",
        "\n",
        "This project is peer-assessed. Within this notebook you will find instructions in each section for how to complete the project. Pay close attention to the instructions as the peer review will be carried out according to a grading rubric that checks key parts of the project instructions. Feel free to add extra cells into the notebook as required.\n",
        "\n",
        "### How to submit\n",
        "\n",
        "When you have completed the Capstone project notebook, you will submit a pdf of the notebook for peer review. First ensure that the notebook has been fully executed from beginning to end, and all of the cell outputs are visible. This is important, as the grading rubric depends on the reviewer being able to view the outputs of your notebook. Save the notebook as a pdf (you could download the notebook with File -> Download .ipynb, open the notebook locally, and then File -> Download as -> PDF via LaTeX), and then submit this pdf for review.\n",
        "\n",
        "### Let's get started!\n",
        "\n",
        "We'll start by running some imports, and loading the dataset. For this project you are free to make further imports throughout the notebook as you wish. "
      ]
    },
    {
      "cell_type": "code",
      "metadata": {
        "id": "2VyTvxPN1iZn"
      },
      "source": [
        "import tensorflow as tf\n",
        "import tensorflow_hub as hub\n",
        "import unicodedata\n",
        "import re\n",
        "from IPython.display import Image\n",
        "import random\n",
        "import numpy as np\n",
        "import matplotlib.pyplot as plt\n",
        "%matplotlib inline\n",
        "import time\n",
        "from tensorflow.keras.preprocessing.text import Tokenizer\n",
        "from tensorflow.keras.preprocessing.sequence import pad_sequences\n",
        "from tensorflow.keras.models import Model\n",
        "from tensorflow.keras.layers import Layer, BatchNormalization, Dense, Embedding\n",
        "from tensorflow.keras.layers import Flatten, Add, Masking, LSTM, Concatenate \n",
        "from tensorflow.keras import Input\n",
        "from tensorflow.keras.utils import to_categorical"
      ],
      "execution_count": 1,
      "outputs": []
    },
    {
      "cell_type": "markdown",
      "metadata": {
        "id": "wuIi4lAR1iZt"
      },
      "source": [
        "For the capstone project, you will use a language dataset from http://www.manythings.org/anki/ to build a neural translation model. This dataset consists of over 200,000 pairs of sentences in English and German. In order to make the training quicker, we will restrict to our dataset to 20,000 pairs. Feel free to change this if you wish - the size of the dataset used is not part of the grading rubric.\n",
        "\n",
        "Your goal is to develop a neural translation model from English to German, making use of a pre-trained English word embedding module."
      ]
    },
    {
      "cell_type": "markdown",
      "metadata": {
        "id": "pi9Dq6vv3FVO"
      },
      "source": [
        "#### Import the data\n",
        "\n",
        "The dataset is available for download as a zip file at the following link:\n",
        "\n",
        "https://drive.google.com/open?id=1KczOciG7sYY7SB9UlBeRP1T9659b121Q\n",
        "\n",
        "You should store the unzipped folder in Drive for use in this Colab notebook."
      ]
    },
    {
      "cell_type": "code",
      "metadata": {
        "id": "Nw99tEEQ3bKL"
      },
      "source": [
        "# Run this cell to connect to your Drive folder\n",
        "\n",
        "#from google.colab import drive\n",
        "#drive.mount('/content/sample_data/english_german_sentences/')"
      ],
      "execution_count": 2,
      "outputs": []
    },
    {
      "cell_type": "code",
      "metadata": {
        "id": "o8PetPpw1iZu"
      },
      "source": [
        "# Run this cell to load the dataset\n",
        "\n",
        "NUM_EXAMPLES = 20000\n",
        "data_examples = []\n",
        "with open('/content/sample_data/english_german_sentences/deu.txt',\n",
        "          'r', encoding='utf8') as f:\n",
        "    for line in f.readlines():\n",
        "        if len(data_examples) < NUM_EXAMPLES:\n",
        "            data_examples.append(line)\n",
        "        else:\n",
        "            break"
      ],
      "execution_count": 3,
      "outputs": []
    },
    {
      "cell_type": "code",
      "metadata": {
        "id": "JumLjJ631iZy"
      },
      "source": [
        "# These functions preprocess English and German sentences\n",
        "\n",
        "def unicode_to_ascii(s):\n",
        "    return ''.join(c for c in unicodedata.normalize('NFD', s) if unicodedata.category(c) != 'Mn')\n",
        "\n",
        "def preprocess_sentence(sentence):\n",
        "    sentence = sentence.lower().strip()\n",
        "    sentence = re.sub(r\"ü\", 'ue', sentence)\n",
        "    sentence = re.sub(r\"ä\", 'ae', sentence)\n",
        "    sentence = re.sub(r\"ö\", 'oe', sentence)\n",
        "    sentence = re.sub(r'ß', 'ss', sentence)\n",
        "    \n",
        "    sentence = unicode_to_ascii(sentence)\n",
        "    sentence = re.sub(r\"([?.!,])\", r\" \\1 \", sentence)\n",
        "    sentence = re.sub(r\"[^a-z?.!,']+\", \" \", sentence)\n",
        "    sentence = re.sub(r'[\" \"]+', \" \", sentence)\n",
        "    \n",
        "    return sentence.strip()"
      ],
      "execution_count": 4,
      "outputs": []
    },
    {
      "cell_type": "markdown",
      "metadata": {
        "id": "XFJap-TW1iZ2"
      },
      "source": [
        "#### The custom translation model\n",
        "The following is a schematic of the custom translation model architecture you will develop in this project."
      ]
    },
    {
      "cell_type": "code",
      "metadata": {
        "id": "gBF1K2JN4RFJ",
        "outputId": "ab0922b3-81c4-467c-d517-20ece0343539",
        "colab": {
          "base_uri": "https://localhost:8080/",
          "height": 648
        }
      },
      "source": [
        "# Run this cell to download and view a schematic diagram for the neural translation model\n",
        "\n",
        "!wget -q -O neural_translation_model.png --no-check-certificate \"https://docs.google.com/uc?export=download&id=1XsS1VlXoaEo-RbYNilJ9jcscNZvsSPmd\"\n",
        "Image(\"neural_translation_model.png\")"
      ],
      "execution_count": 5,
      "outputs": [
        {
          "output_type": "execute_result",
          "data": {
            "image/png": "[encoded data removed]",
            "text/plain": [
              "<IPython.core.display.Image object>"
            ]
          },
          "metadata": {
            "tags": []
          },
          "execution_count": 5
        }
      ]
    },
    {
      "cell_type": "markdown",
      "metadata": {
        "id": "0fP7P-yK4RS7"
      },
      "source": [
        "The custom model consists of an encoder RNN and a decoder RNN. The encoder takes words of an English sentence as input, and uses a pre-trained word embedding to embed the words into a 128-dimensional space. To indicate the end of the input sentence, a special end token (in the same 128-dimensional space) is passed in as an input. This token is a TensorFlow Variable that is learned in the training phase (unlike the pre-trained word embedding, which is frozen).\n",
        "\n",
        "The decoder RNN takes the internal state of the encoder network as its initial state. A start token is passed in as the first input, which is embedded using a learned German word embedding. The decoder RNN then makes a prediction for the next German word, which during inference is then passed in as the following input, and this process is repeated until the special `<end>` token is emitted from the decoder."
      ]
    },
    {
      "cell_type": "markdown",
      "metadata": {
        "id": "z70nu6_01iZ3"
      },
      "source": [
        "## 1. Text preprocessing\n",
        "* Create separate lists of English and German sentences, and preprocess them using the `preprocess_sentence` function provided for you above.\n",
        "* Add a special `\"<start>\"` and `\"<end>\"` token to the beginning and end of every German sentence.\n",
        "* Use the Tokenizer class from the `tf.keras.preprocessing.text` module to tokenize the German sentences, ensuring that no character filters are applied. _Hint: use the Tokenizer's \"filter\" keyword argument._\n",
        "* Print out at least 5 randomly chosen examples of (preprocessed) English and German sentence pairs. For the German sentence, print out the text (with start and end tokens) as well as the tokenized sequence.\n",
        "* Pad the end of the tokenized German sequences with zeros, and batch the complete set of sequences into one numpy array."
      ]
    },
    {
      "cell_type": "code",
      "metadata": {
        "scrolled": true,
        "id": "9G20C4bk1iZ4",
        "outputId": "4c9528e5-1330-4f9c-b833-c33ec0f24657",
        "colab": {
          "base_uri": "https://localhost:8080/",
          "height": 71
        }
      },
      "source": [
        "# Create the list for English and German sentences\n",
        "\n",
        "english_sentences = []\n",
        "german_sentences = []\n",
        "data_sentences = []\n",
        "\n",
        "# Separate the sentences and preprocess\n",
        "\n",
        "for sentence in data_examples:\n",
        "    position = sentence.find(\"CC-BY\")\n",
        "    data_sentences.append(sentence[0: position])\n",
        "    \n",
        "for sentence in data_sentences:\n",
        "    position = sentence.find(\".\")\n",
        "    if position != -1:\n",
        "        eng_sent = sentence[0: position]\n",
        "        eng_sent = preprocess_sentence(eng_sent)\n",
        "        english_sentences.append(eng_sent)\n",
        "        ger_sent = sentence[(position+1): ]\n",
        "        ger_sent = preprocess_sentence(ger_sent)\n",
        "        ger_sent = \"<start> \" + ger_sent + \" <end>\"\n",
        "        german_sentences.append(ger_sent)\n",
        "    else:\n",
        "        position = sentence.find(\"!\")\n",
        "        if position != -1:\n",
        "            eng_sent = sentence[0: position]\n",
        "            eng_sent = preprocess_sentence(eng_sent)\n",
        "            english_sentences.append(eng_sent)\n",
        "            ger_sent = sentence[(position+1): ]\n",
        "            ger_sent = preprocess_sentence(ger_sent)\n",
        "            ger_sent = \"<start> \" + ger_sent + \" <end>\"\n",
        "            german_sentences.append(ger_sent)\n",
        "        else:\n",
        "            position = sentence.find(\"?\")\n",
        "            eng_sent = sentence[0: position]\n",
        "            eng_sent = preprocess_sentence(eng_sent)\n",
        "            english_sentences.append(eng_sent)\n",
        "            ger_sent = sentence[(position+1): ]\n",
        "            ger_sent = preprocess_sentence(ger_sent)\n",
        "            ger_sent = \"<start> \" + ger_sent + \" <end>\"\n",
        "            german_sentences.append(ger_sent)   \n",
        "\n",
        "print(english_sentences[20:30])\n",
        "print(german_sentences[20:30])\n"
      ],
      "execution_count": 6,
      "outputs": [
        {
          "output_type": "stream",
          "text": [
            "['eat up', 'freeze', 'freeze', 'got it', 'got it', 'got it', 'he ran', 'he ran', 'hop in', 'hug me']\n",
            "['<start> iss auf . <end>', '<start> keine bewegung ! <end>', '<start> stehenbleiben ! <end>', '<start> kapiert ? <end>', '<start> verstanden ? <end>', '<start> einverstanden ? <end>', '<start> er rannte . <end>', '<start> er lief . <end>', '<start> mach mit ! <end>', '<start> drueck mich ! <end>']\n"
          ],
          "name": "stdout"
        }
      ]
    },
    {
      "cell_type": "code",
      "metadata": {
        "id": "Sxwl-1rB1iZ8"
      },
      "source": [
        "# Tokenize German sentences\n",
        "\n",
        "tokenizer = Tokenizer(num_words=None, \n",
        "                      filters='ˆ',\n",
        "                      lower=False,\n",
        "                      split=\" \"\n",
        "                      )\n",
        "train_sentences = tokenizer.fit_on_texts(german_sentences) \n",
        "\n",
        "sequences = tokenizer.texts_to_sequences(german_sentences)\n"
      ],
      "execution_count": 7,
      "outputs": []
    },
    {
      "cell_type": "code",
      "metadata": {
        "id": "WnIdqZFk1iaA",
        "outputId": "aabb4663-960e-48bc-f6e8-ba69f225b3dd",
        "colab": {
          "base_uri": "https://localhost:8080/",
          "height": 357
        }
      },
      "source": [
        "# Print out 10 randomly chosen examples\n",
        "\n",
        "for dummy in range(10):\n",
        "    index = random.randint(0, len(data_sentences))\n",
        "    print(english_sentences[index])\n",
        "    print(german_sentences[index], sequences[index])\n"
      ],
      "execution_count": 8,
      "outputs": [
        {
          "output_type": "stream",
          "text": [
            "tom lived there\n",
            "<start> dort hat tom gewohnt . <end> [1, 141, 16, 5, 2954, 3, 2]\n",
            "i'm in a bad mood\n",
            "<start> ich bin schlecht gelaunt . <end> [1, 4, 15, 257, 2777, 3, 2]\n",
            "our plan worked\n",
            "<start> unser plan ist aufgegangen . <end> [1, 436, 439, 6, 2885, 3, 2]\n",
            "how is it made\n",
            "<start> wie wird sie gemacht ? <end> [1, 42, 48, 8, 101, 7, 2]\n",
            "tom sees things\n",
            "<start> tom sieht dinge . <end> [1, 5, 97, 1025, 3, 2]\n",
            "i'm nearly ready\n",
            "<start> ich bin gleich so weit . <end> [1, 4, 15, 630, 70, 340, 3, 2]\n",
            "bring the key\n",
            "<start> bring den schluessel mit . <end> [1, 393, 54, 204, 55, 3, 2]\n",
            "mary likes you\n",
            "<start> maria mag dich . <end> [1, 119, 51, 28, 3, 2]\n",
            "is tom bluffing\n",
            "<start> blufft tom ? <end> [1, 2873, 5, 7, 2]\n",
            "i just got up\n",
            "<start> ich bin gerade aufgestanden . <end> [1, 4, 15, 80, 849, 3, 2]\n"
          ],
          "name": "stdout"
        }
      ]
    },
    {
      "cell_type": "code",
      "metadata": {
        "id": "5UlnBdIK1iaE",
        "outputId": "004c7dc5-d24c-4ef4-dd77-c247132e7cba",
        "colab": {
          "base_uri": "https://localhost:8080/",
          "height": 68
        }
      },
      "source": [
        "# Pad the end of the tokenized German sequences\n",
        "\n",
        "padded_sequences = pad_sequences(sequences,\n",
        "                                 maxlen=None,\n",
        "                                 dtype='int32',\n",
        "                                 padding='post',\n",
        "                                 value=0\n",
        "                                 )\n",
        "\n",
        "print(padded_sequences[999])\n",
        "print(type(padded_sequences))\n",
        "print(padded_sequences.shape)\n"
      ],
      "execution_count": 9,
      "outputs": [
        {
          "output_type": "stream",
          "text": [
            "[ 1 30  4 90  7  2  0  0  0  0  0  0  0  0]\n",
            "<class 'numpy.ndarray'>\n",
            "(20000, 14)\n"
          ],
          "name": "stdout"
        }
      ]
    },
    {
      "cell_type": "markdown",
      "metadata": {
        "id": "foL7Ihs21iaP"
      },
      "source": [
        "## 2. Prepare the data"
      ]
    },
    {
      "cell_type": "markdown",
      "metadata": {
        "id": "-9rCEE4z1iaQ"
      },
      "source": [
        "#### Load the embedding layer\n",
        "As part of the dataset preproceessing for this project, you will use a pre-trained English word embedding module from TensorFlow Hub. The URL for the module is https://tfhub.dev/google/tf2-preview/nnlm-en-dim128-with-normalization/1.\n",
        "\n",
        "This embedding takes a batch of text tokens in a 1-D tensor of strings as input. It then embeds the separate tokens into a 128-dimensional space. \n",
        "\n",
        "The code to load and test the embedding layer is provided for you below.\n",
        "\n",
        "**NB:** this model can also be used as a sentence embedding module. The module will process each token by removing punctuation and splitting on spaces. It then averages the word embeddings over a sentence to give a single embedding vector. However, we will use it only as a word embedding module, and will pass each word in the input sentence as a separate token."
      ]
    },
    {
      "cell_type": "code",
      "metadata": {
        "id": "ywZgobCh1iaR"
      },
      "source": [
        "# Load embedding module from Tensorflow Hub\n",
        "\n",
        "embedding_layer = hub.KerasLayer(\"https://tfhub.dev/google/tf2-preview/nnlm-en-dim128/1\", \n",
        "                                 output_shape=[128], input_shape=[], dtype=tf.string)"
      ],
      "execution_count": 10,
      "outputs": []
    },
    {
      "cell_type": "code",
      "metadata": {
        "id": "TiY8QEDp1iaV",
        "outputId": "37c65375-bb0c-4e16-c5fb-a9c580275c64",
        "colab": {
          "base_uri": "https://localhost:8080/",
          "height": 34
        }
      },
      "source": [
        "# Test the layer\n",
        "\n",
        "embedding_layer(tf.constant([\"these\", \"aren't\", \"the\", \"droids\", \"you're\", \"looking\", \"for\"])).shape"
      ],
      "execution_count": 11,
      "outputs": [
        {
          "output_type": "execute_result",
          "data": {
            "text/plain": [
              "TensorShape([7, 128])"
            ]
          },
          "metadata": {
            "tags": []
          },
          "execution_count": 11
        }
      ]
    },
    {
      "cell_type": "markdown",
      "metadata": {
        "id": "KjuzXc-z1iaY"
      },
      "source": [
        "You should now prepare the training and validation Datasets.\n",
        "\n",
        "* Create a random training and validation set split of the data, reserving e.g. 20% of the data for validation (NB: each English dataset example is a single sentence string, and each German dataset example is a sequence of padded integer tokens).\n",
        "* Load the training and validation sets into a tf.data.Dataset object, passing in a tuple of English and German data for both training and validation sets.\n",
        "* Create a function to map over the datasets that splits each English sentence at spaces. Apply this function to both Dataset objects using the map method. _Hint: look at the tf.strings.split function._\n",
        "* Create a function to map over the datasets that embeds each sequence of English words using the loaded embedding layer/model. Apply this function to both Dataset objects using the map method.\n",
        "* Create a function to filter out dataset examples where the English sentence is greater than or equal to than 13 (embedded) tokens in length. Apply this function to both Dataset objects using the filter method.\n",
        "* Create a function to map over the datasets that pads each English sequence of embeddings with some distinct padding value before the sequence, so that each sequence is length 13. Apply this function to both Dataset objects using the map method. _Hint: look at the tf.pad function. You can extract a Tensor shape using tf.shape; you might also find the tf.math.maximum function useful._\n",
        "* Batch both training and validation Datasets with a batch size of 16.\n",
        "* Print the `element_spec` property for the training and validation Datasets. \n",
        "* Using the Dataset `.take(1)` method, print the shape of the English data example from the training Dataset.\n",
        "* Using the Dataset `.take(1)` method, print the German data example Tensor from the validation Dataset."
      ]
    },
    {
      "cell_type": "code",
      "metadata": {
        "id": "Q-BUJOl_1iaZ",
        "outputId": "d2a7fe30-9a3c-4682-bc27-76e78dca0495",
        "colab": {
          "base_uri": "https://localhost:8080/",
          "height": 85
        }
      },
      "source": [
        "# Create the tuple of inputs (english_sentences) and targets (padded_sequences) for the dataset\n",
        "\n",
        "data = []\n",
        "\n",
        "for inputs, targets in zip(english_sentences, padded_sequences):\n",
        "    data.append((inputs, targets))\n",
        "        \n",
        "print(data[99])\n",
        "print(type(data))\n",
        "print(len(data))\n",
        "        "
      ],
      "execution_count": 12,
      "outputs": [
        {
          "output_type": "stream",
          "text": [
            "('get out', array([  1,  59, 285,   9,   2,   0,   0,   0,   0,   0,   0,   0,   0,\n",
            "         0], dtype=int32))\n",
            "<class 'list'>\n",
            "20000\n"
          ],
          "name": "stdout"
        }
      ]
    },
    {
      "cell_type": "code",
      "metadata": {
        "id": "4w6rM8Bl1iad",
        "outputId": "29c63067-b760-418f-e24d-c99494d138e6",
        "colab": {
          "base_uri": "https://localhost:8080/",
          "height": 51
        }
      },
      "source": [
        "# Divide the data in training and validation sets\n",
        "\n",
        "random.shuffle(data)\n",
        "\n",
        "num_data = len(data)\n",
        "training_data = data[0: int(0.8 * num_data)]\n",
        "validation_data = data[int(0.8 * num_data):]\n",
        "\n",
        "print(len(training_data))\n",
        "print(len(validation_data))\n"
      ],
      "execution_count": 13,
      "outputs": [
        {
          "output_type": "stream",
          "text": [
            "16000\n",
            "4000\n"
          ],
          "name": "stdout"
        }
      ]
    },
    {
      "cell_type": "code",
      "metadata": {
        "id": "D7bn3mRs1iaj",
        "outputId": "e3296b3b-68a8-4283-f3f3-a2fd54ba7f5f",
        "colab": {
          "base_uri": "https://localhost:8080/",
          "height": 51
        }
      },
      "source": [
        "# Create the Datasets\n",
        "\n",
        "def separate_data(array_data):\n",
        "    \n",
        "    inputs = []\n",
        "    targets = []\n",
        "    for x, y in data:\n",
        "        inputs.append(x)\n",
        "        targets.append(y)\n",
        "        \n",
        "    return inputs, targets\n",
        "    \n",
        "    \n",
        "train_inputs, train_targets = separate_data(training_data)\n",
        "val_inputs, val_targets = separate_data(validation_data)\n",
        "\n",
        "\n",
        "def make_Dataset(input_array, target_array):\n",
        "    \n",
        "    dataset = tf.data.Dataset.from_tensor_slices((input_array, target_array))\n",
        "    \n",
        "    return dataset\n",
        "\n",
        "\n",
        "train_data = make_Dataset(train_inputs, train_targets)\n",
        "valid_data = make_Dataset(val_inputs, val_targets)\n",
        "\n",
        "print(train_data)\n",
        "print(train_data.element_spec)\n"
      ],
      "execution_count": 14,
      "outputs": [
        {
          "output_type": "stream",
          "text": [
            "<TensorSliceDataset shapes: ((), (14,)), types: (tf.string, tf.int32)>\n",
            "(TensorSpec(shape=(), dtype=tf.string, name=None), TensorSpec(shape=(14,), dtype=tf.int32, name=None))\n"
          ],
          "name": "stdout"
        }
      ]
    },
    {
      "cell_type": "code",
      "metadata": {
        "id": "q0Fdso381ian",
        "outputId": "7bcfef1f-dc02-494a-e2bc-7403ce27ea76",
        "colab": {
          "base_uri": "https://localhost:8080/",
          "height": 34
        }
      },
      "source": [
        "# Function that splits English sentences\n",
        "\n",
        "def map_splits(dataset):\n",
        "    \n",
        "    def aux_func(inputs, targets):\n",
        "        return tf.strings.split(inputs), targets\n",
        "        \n",
        "    return dataset.map(aux_func)\n",
        "\n",
        "\n",
        "train_data = map_splits(train_data)\n",
        "valid_data = map_splits(valid_data)\n",
        "\n",
        "print(train_data.element_spec)\n"
      ],
      "execution_count": 15,
      "outputs": [
        {
          "output_type": "stream",
          "text": [
            "(TensorSpec(shape=(None,), dtype=tf.string, name=None), TensorSpec(shape=(14,), dtype=tf.int32, name=None))\n"
          ],
          "name": "stdout"
        }
      ]
    },
    {
      "cell_type": "code",
      "metadata": {
        "id": "bGqlxuqZ1ias"
      },
      "source": [
        "# Function that embeds each sequence of English words\n",
        "\n",
        "def embed_seq(dataset):\n",
        "    \n",
        "    def aux_func(inputs, targets):\n",
        "        inputs = embedding_layer(inputs)\n",
        "        \n",
        "        return inputs, targets\n",
        "        \n",
        "    return dataset.map(aux_func)\n",
        "\n",
        "train_data = embed_seq(train_data)\n",
        "valid_data = embed_seq(valid_data)\n"
      ],
      "execution_count": 16,
      "outputs": []
    },
    {
      "cell_type": "code",
      "metadata": {
        "id": "MdqSXEoX1iav"
      },
      "source": [
        "# Create a function to filter out dataset examples\n",
        "\n",
        "maxlen = 13\n",
        "\n",
        "def filter_dataset(dataset):\n",
        "    \n",
        "    dataset.filter(lambda inputs, targets: len(inputs) < 12)\n",
        "    \n",
        "    return dataset\n",
        "    \n",
        "\n",
        "train_data = filter_dataset(train_data)\n",
        "valid_data = filter_dataset(valid_data)\n"
      ],
      "execution_count": 17,
      "outputs": []
    },
    {
      "cell_type": "code",
      "metadata": {
        "id": "4bF8FiP-3bKo"
      },
      "source": [
        "# Create a function to map over the datasets that pads each English sequence\n",
        "\n",
        "def map_pads(dataset):\n",
        "    \n",
        "    def aux_func(inputs, targets):\n",
        "        paddings = tf.constant([[13, 0,], [0, 0]])\n",
        "        inputs = tf.pad(inputs, paddings)\n",
        "\n",
        "        return (inputs[-13:,:]), targets\n",
        "\n",
        "    return dataset.map(aux_func)\n",
        "\n",
        "train_data = map_pads(train_data)\n",
        "valid_data = map_pads(valid_data)\n"
      ],
      "execution_count": 18,
      "outputs": []
    },
    {
      "cell_type": "code",
      "metadata": {
        "id": "vwcTHTU-3gPX"
      },
      "source": [
        "# Batch both training and validation Datasets with a batch size of 16.\n",
        "\n",
        "batch_size = 16\n",
        "\n",
        "train_data = train_data.batch(batch_size)\n",
        "valid_data = valid_data.batch(batch_size)\n"
      ],
      "execution_count": 19,
      "outputs": []
    },
    {
      "cell_type": "code",
      "metadata": {
        "id": "4lLiVXQM3gtQ",
        "outputId": "272ed219-9fb8-4bac-cb16-465467565751",
        "colab": {
          "base_uri": "https://localhost:8080/",
          "height": 323
        }
      },
      "source": [
        "# Print the shape of the English data example from the training Dataset.\n",
        "\n",
        "element = next(iter(train_data.take(1)))\n",
        "print(\"Shape of the English data example: \", element[0].shape)\n",
        "\n",
        "\n",
        "# Print the German data example Tensor from the validation Dataset.\n",
        "\n",
        "print(\"German data example Tensor: \", element[1])\n"
      ],
      "execution_count": 20,
      "outputs": [
        {
          "output_type": "stream",
          "text": [
            "Shape of the English data example:  (16, 13, 128)\n",
            "German data example Tensor:  tf.Tensor(\n",
            "[[   1   17  185  475  124    3    2    0    0    0    0    0    0    0]\n",
            " [   1    5  352  104  199    3    2    0    0    0    0    0    0    0]\n",
            " [   1   62  352   47 1430  104 1718    3    2    0    0    0    0    0]\n",
            " [   1   10    6  158 1269    3    2    0    0    0    0    0    0    0]\n",
            " [   1   43   16   11 1071    7    2    0    0    0    0    0    0    0]\n",
            " [   1   23    8  240    7    2    0    0    0    0    0    0    0    0]\n",
            " [   1   14    6 2449    3    2    0    0    0    0    0    0    0    0]\n",
            " [   1  415    5  368    7    2    0    0    0    0    0    0    0    0]\n",
            " [   1  344   85  199    3    2    0    0    0    0    0    0    0    0]\n",
            " [   1    5    6  577    3    2    0    0    0    0    0    0    0    0]\n",
            " [   1 2566    6  322    3    2    0    0    0    0    0    0    0    0]\n",
            " [   1 3785    8    7    2    0    0    0    0    0    0    0    0    0]\n",
            " [   1   14    6   71  412    3    2    0    0    0    0    0    0    0]\n",
            " [   1    4  133   61  292    3    2    0    0    0    0    0    0    0]\n",
            " [   1    4   18  103 3828  494    3    2    0    0    0    0    0    0]\n",
            " [   1 2350  737    3    2    0    0    0    0    0    0    0    0    0]], shape=(16, 14), dtype=int32)\n"
          ],
          "name": "stdout"
        }
      ]
    },
    {
      "cell_type": "markdown",
      "metadata": {
        "id": "isIYhjq01iay"
      },
      "source": [
        "## 3. Create the custom layer\n",
        "You will now create a custom layer to add the learned end token embedding to the encoder model:"
      ]
    },
    {
      "cell_type": "code",
      "metadata": {
        "id": "e22f1Xyh6xvE",
        "outputId": "3572b91f-99ab-4838-adcf-ef1fc4ff17e8",
        "colab": {
          "base_uri": "https://localhost:8080/",
          "height": 423
        }
      },
      "source": [
        "# Run this cell to download and view a schematic diagram for the encoder model\n",
        "\n",
        "!wget -q -O neural_translation_model.png --no-check-certificate \"https://docs.google.com/uc?export=download&id=1JrtNOzUJDaOWrK4C-xv-4wUuZaI12sQI\"\n",
        "Image(\"neural_translation_model.png\")"
      ],
      "execution_count": 21,
      "outputs": [
        {
          "output_type": "execute_result",
          "data": {
            "image/png": "[encoded data removed]",
            "text/plain": [
              "<IPython.core.display.Image object>"
            ]
          },
          "metadata": {
            "tags": []
          },
          "execution_count": 21
        }
      ]
    },
    {
      "cell_type": "markdown",
      "metadata": {
        "id": "M6gLIHG81iaz"
      },
      "source": [
        "You should now build the custom layer.\n",
        "* Using layer subclassing, create a custom layer that takes a batch of English data examples from one of the Datasets, and adds a learned embedded ‘end’ token to the end of each sequence. \n",
        "* This layer should create a TensorFlow Variable (that will be learned during training) that is 128-dimensional (the size of the embedding space). _Hint: you may find it helpful in the call method to use the tf.tile function to replicate the end token embedding across every element in the batch._\n",
        "* Using the Dataset `.take(1)` method, extract a batch of English data examples from the training Dataset and print the shape. Test the custom layer by calling the layer on the English data batch Tensor and print the resulting Tensor shape (the layer should increase the sequence length by one)."
      ]
    },
    {
      "cell_type": "code",
      "metadata": {
        "id": "yg9hjZz11ia0"
      },
      "source": [
        "# Create a custom layer\n",
        "\n",
        "\n",
        "class EncoderLayer(Layer):\n",
        "  \n",
        "    def __init__(self, **kwargs):\n",
        "        super(EncoderLayer, self).__init__(**kwargs)\n",
        "    \n",
        "    def build(self, input_shape):\n",
        "        self.end_token_emb = self.add_weight(shape=(input_shape[-1],),\n",
        "                                             initializer='random_uniform',\n",
        "                                             trainable= True)\n",
        "    def call(self, inputs):\n",
        "        end_token = tf.tile(tf.reshape(self.end_token_emb,\n",
        "                                       shape=(1, 1, self.end_token_emb.shape[0])),\n",
        "                                       [tf.shape(inputs)[0],1,1])\n",
        "        \n",
        "        return Concatenate(axis=1)([inputs, end_token])\n"
      ],
      "execution_count": 22,
      "outputs": []
    },
    {
      "cell_type": "code",
      "metadata": {
        "id": "4PwI32O11ia3",
        "outputId": "5c4b4c28-0df7-4022-c715-47c32f323aa3",
        "colab": {
          "base_uri": "https://localhost:8080/",
          "height": 51
        }
      },
      "source": [
        "# Test the custom layer and print shape    \n",
        "\n",
        "element = next(iter(train_data.take(1)))\n",
        "print(element[0].shape)\n",
        "\n",
        "encoder_layer = EncoderLayer()\n",
        "\n",
        "print(encoder_layer(element[0]).shape)\n"
      ],
      "execution_count": 23,
      "outputs": [
        {
          "output_type": "stream",
          "text": [
            "(16, 13, 128)\n",
            "(16, 14, 128)\n"
          ],
          "name": "stdout"
        }
      ]
    },
    {
      "cell_type": "code",
      "metadata": {
        "id": "ebjK8PmL1ia6"
      },
      "source": [
        ""
      ],
      "execution_count": 23,
      "outputs": []
    },
    {
      "cell_type": "markdown",
      "metadata": {
        "id": "OAd3i4_y1ia-"
      },
      "source": [
        "## 4. Build the encoder network\n",
        "The encoder network follows the schematic diagram above. You should now build the RNN encoder model.\n",
        "* Using the functional API, build the encoder network according to the following spec:\n",
        "    * The model will take a batch of sequences of embedded English words as input, as given by the Dataset objects.\n",
        "    * The next layer in the encoder will be the custom layer you created previously, to add a learned end token embedding to the end of the English sequence.\n",
        "    * This is followed by a Masking layer, with the `mask_value` set to the distinct padding value you used when you padded the English sequences with the Dataset preprocessing above.\n",
        "    * The final layer is an LSTM layer with 512 units, which also returns the hidden and cell states.\n",
        "    * The encoder is a multi-output model. There should be two output Tensors of this model: the hidden state and cell states of the LSTM layer. The output of the LSTM layer is unused.\n",
        "* Using the Dataset `.take(1)` method, extract a batch of English data examples from the training Dataset and test the encoder model by calling it on the English data Tensor, and print the shape of the resulting Tensor outputs.\n",
        "* Print the model summary for the encoder network."
      ]
    },
    {
      "cell_type": "code",
      "metadata": {
        "id": "6R2LqbfV1ia_"
      },
      "source": [
        "# Encoder Network\n",
        "\n",
        "def encoder():\n",
        "    \n",
        "    model_input = Input(shape=(13,128))\n",
        "    h = EncoderLayer()(model_input)\n",
        "    h = Masking([(lambda x: x*0)(x) for x in range(128)])(h)\n",
        "    seq_output, state_h, state_c = LSTM(512, return_sequences=True,\n",
        "                                        return_state=True)(h)\n",
        "    model = Model(inputs=[model_input], outputs=(state_h, state_c))\n",
        "    \n",
        "    return model\n",
        "\n"
      ],
      "execution_count": 24,
      "outputs": []
    },
    {
      "cell_type": "code",
      "metadata": {
        "id": "e5XW6NxL1ibC",
        "outputId": "11708b7f-4eb5-42ed-b0b3-a563269d6cd3",
        "colab": {
          "base_uri": "https://localhost:8080/",
          "height": 306
        }
      },
      "source": [
        "# Print Summary for the Encoder Network function\n",
        "\n",
        "element = next(iter(train_data.take(1)))\n",
        "print(element[0].shape)\n",
        "\n",
        "encoder = encoder()\n",
        "\n",
        "encoder.summary()\n"
      ],
      "execution_count": 25,
      "outputs": [
        {
          "output_type": "stream",
          "text": [
            "(16, 13, 128)\n",
            "Model: \"functional_1\"\n",
            "_________________________________________________________________\n",
            "Layer (type)                 Output Shape              Param #   \n",
            "=================================================================\n",
            "input_1 (InputLayer)         [(None, 13, 128)]         0         \n",
            "_________________________________________________________________\n",
            "encoder_layer_1 (EncoderLaye (None, 14, 128)           128       \n",
            "_________________________________________________________________\n",
            "masking (Masking)            (None, 14, 128)           0         \n",
            "_________________________________________________________________\n",
            "lstm (LSTM)                  [(None, 14, 512), (None,  1312768   \n",
            "=================================================================\n",
            "Total params: 1,312,896\n",
            "Trainable params: 1,312,896\n",
            "Non-trainable params: 0\n",
            "_________________________________________________________________\n"
          ],
          "name": "stdout"
        }
      ]
    },
    {
      "cell_type": "code",
      "metadata": {
        "id": "jEk9ikVh1ibL",
        "outputId": "6e72ff30-eeff-46ae-8156-44d5905165dd",
        "colab": {
          "base_uri": "https://localhost:8080/",
          "height": 85
        }
      },
      "source": [
        "# Test the shapes of Encoder Network\n",
        "\n",
        "layer_outputs = [print(layer.output) for layer in encoder.layers]\n"
      ],
      "execution_count": 26,
      "outputs": [
        {
          "output_type": "stream",
          "text": [
            "Tensor(\"input_1:0\", shape=(None, 13, 128), dtype=float32)\n",
            "Tensor(\"encoder_layer_1/concatenate/concat:0\", shape=(None, 14, 128), dtype=float32)\n",
            "Tensor(\"masking/mul:0\", shape=(None, 14, 128), dtype=float32)\n",
            "[<tf.Tensor 'lstm/PartitionedCall:1' shape=(None, 14, 512) dtype=float32>, <tf.Tensor 'lstm/PartitionedCall:2' shape=(None, 512) dtype=float32>, <tf.Tensor 'lstm/PartitionedCall:3' shape=(None, 512) dtype=float32>]\n"
          ],
          "name": "stdout"
        }
      ]
    },
    {
      "cell_type": "markdown",
      "metadata": {
        "id": "KvkzpCeZ1ibR"
      },
      "source": [
        "## 5. Build the decoder network\n",
        "The decoder network follows the schematic diagram below. "
      ]
    },
    {
      "cell_type": "code",
      "metadata": {
        "id": "yOjEb7cH7Y4S",
        "outputId": "309f3da4-04f9-48b5-c3e2-d86b2321882b",
        "colab": {
          "base_uri": "https://localhost:8080/",
          "height": 501
        }
      },
      "source": [
        "# Run this cell to download and view a schematic diagram for the decoder model\n",
        "\n",
        "!wget -q -O neural_translation_model.png --no-check-certificate \"https://docs.google.com/uc?export=download&id=1DTeaXD8tA8RjkpVrB2mr9csSBOY4LQiW\"\n",
        "Image(\"neural_translation_model.png\")"
      ],
      "execution_count": 27,
      "outputs": [
        {
          "output_type": "execute_result",
          "data": {
            "image/png": "[encoded data removed]",
            "text/plain": [
              "<IPython.core.display.Image object>"
            ]
          },
          "metadata": {
            "tags": []
          },
          "execution_count": 27
        }
      ]
    },
    {
      "cell_type": "markdown",
      "metadata": {
        "id": "VPBK8WGL1ibS"
      },
      "source": [
        "You should now build the RNN decoder model.\n",
        "* Using Model subclassing, build the decoder network according to the following spec:\n",
        "    * The initializer should create the following layers:\n",
        "        * An Embedding layer with vocabulary size set to the number of unique German tokens, embedding dimension 128, and set to mask zero values in the input.\n",
        "        * An LSTM layer with 512 units, that returns its hidden and cell states, and also returns sequences.\n",
        "        * A Dense layer with number of units equal to the number of unique German tokens, and no activation function.\n",
        "    * The call method should include the usual `inputs` argument, as well as the additional keyword arguments `hidden_state` and `cell_state`. The default value for these keyword arguments should be `None`.\n",
        "    * The call method should pass the inputs through the Embedding layer, and then through the LSTM layer. If the `hidden_state` and `cell_state` arguments are provided, these should be used for the initial state of the LSTM layer. _Hint: use the_ `initial_state` _keyword argument when calling the LSTM layer on its input._\n",
        "    * The call method should pass the LSTM output sequence through the Dense layer, and return the resulting Tensor, along with the hidden and cell states of the LSTM layer.\n",
        "* Using the Dataset `.take(1)` method, extract a batch of English and German data examples from the training Dataset. Test the decoder model by first calling the encoder model on the English data Tensor to get the hidden and cell states, and then call the decoder model on the German data Tensor and hidden and cell states, and print the shape of the resulting decoder Tensor outputs.\n",
        "* Print the model summary for the decoder network."
      ]
    },
    {
      "cell_type": "code",
      "metadata": {
        "id": "l50qhnXD1ibT",
        "outputId": "886d0aa1-1c01-43c6-940d-78deee49e1d7",
        "colab": {
          "base_uri": "https://localhost:8080/",
          "height": 86
        }
      },
      "source": [
        "# Get the tokenizer config as a python dict\n",
        "\n",
        "tokenizer_config = tokenizer.get_config()\n",
        "tokenizer_config.keys()\n",
        "\n",
        "# Save the word_counts as a python dictionary\n",
        "\n",
        "import json\n",
        "\n",
        "word_counts = json.loads(tokenizer_config['word_counts'])\n",
        "\n",
        "# View the word_index entry\n",
        "\n",
        "tokenizer_config['word_index']"
      ],
      "execution_count": 28,
      "outputs": [
        {
          "output_type": "execute_result",
          "data": {
            "application/vnd.google.colaboratory.intrinsic+json": {
              "type": "string"
            },
            "text/plain": [
              "'{\"<start>\": 1, \"<end>\": 2, \".\": 3, \"ich\": 4, \"tom\": 5, \"ist\": 6, \"?\": 7, \"sie\": 8, \"!\": 9, \"es\": 10, \"das\": 11, \"nicht\": 12, \"du\": 13, \"er\": 14, \"bin\": 15, \"hat\": 16, \"wir\": 17, \"habe\": 18, \"ein\": 19, \"zu\": 20, \"mir\": 21, \"mich\": 22, \"sind\": 23, \"war\": 24, \",\": 25, \"die\": 26, \"ihr\": 27, \"dich\": 28, \"auf\": 29, \"kann\": 30, \"bist\": 31, \"uns\": 32, \"hier\": 33, \"sich\": 34, \"haben\": 35, \"an\": 36, \"eine\": 37, \"werde\": 38, \"was\": 39, \"einen\": 40, \"aus\": 41, \"wie\": 42, \"wer\": 43, \"ihn\": 44, \"gehen\": 45, \"in\": 46, \"der\": 47, \"wird\": 48, \"gut\": 49, \"mein\": 50, \"mag\": 51, \"dir\": 52, \"sein\": 53, \"den\": 54, \"mit\": 55, \"sehr\": 56, \"hast\": 57, \"euch\": 58, \"geht\": 59, \"meine\": 60, \"jetzt\": 61, \"da\": 62, \"liebe\": 63, \"lass\": 64, \"nach\": 65, \"will\": 66, \"wurde\": 67, \"werden\": 68, \"bitte\": 69, \"so\": 70, \"kein\": 71, \"seid\": 72, \"noch\": 73, \"komm\": 74, \"hause\": 75, \"mal\": 76, \"fuer\": 77, \"alle\": 78, \"mach\": 79, \"gerade\": 80, \"koennen\": 81, \"auto\": 82, \"wo\": 83, \"weiss\": 84, \"muss\": 85, \"machen\": 86, \"hatte\": 87, \"gesehen\": 88, \"geh\": 89, \"helfen\": 90, \"tun\": 91, \"kommen\": 92, \"gib\": 93, \"brauche\": 94, \"warum\": 95, \"schon\": 96, \"sieht\": 97, \"beschaeftigt\": 98, \"niemand\": 99, \"einfach\": 100, \"gemacht\": 101, \"weg\": 102, \"keine\": 103, \"im\": 104, \"ging\": 105, \"hund\": 106, \"dein\": 107, \"kannst\": 108, \"sah\": 109, \"macht\": 110, \"auch\": 111, \"buch\": 112, \"sehen\": 113, \"viel\": 114, \"nichts\": 115, \"deine\": 116, \"gefunden\": 117, \"dem\": 118, \"maria\": 119, \"etwas\": 120, \"hasse\": 121, \"kommt\": 122, \"ihm\": 123, \"ab\": 124, \"ihnen\": 125, \"weiter\": 126, \"schnell\": 127, \"gluecklich\": 128, \"geld\": 129, \"sei\": 130, \"lassen\": 131, \"dass\": 132, \"gehe\": 133, \"darf\": 134, \"kam\": 135, \"um\": 136, \"sicher\": 137, \"allein\": 138, \"lasst\": 139, \"habt\": 140, \"dort\": 141, \"verloren\": 142, \"mehr\": 143, \"wieder\": 144, \"zeit\": 145, \"am\": 146, \"zurueck\": 147, \"gehoert\": 148, \"gerne\": 149, \"tut\": 150, \"leben\": 151, \"hoer\": 152, \"essen\": 153, \"von\": 154, \"nie\": 155, \"toms\": 156, \"muede\": 157, \"alles\": 158, \"nimm\": 159, \"nur\": 160, \"und\": 161, \"gegangen\": 162, \"arbeit\": 163, \"vor\": 164, \"scheint\": 165, \"heute\": 166, \"gross\": 167, \"liebt\": 168, \"diese\": 169, \"spass\": 170, \"krank\": 171, \"moechte\": 172, \"muessen\": 173, \"dieses\": 174, \"versuchen\": 175, \"meinen\": 176, \"kenne\": 177, \"gesagt\": 178, \"alt\": 179, \"komme\": 180, \"weh\": 181, \"getan\": 182, \"s\": 183, \"schau\": 184, \"fahren\": 185, \"bei\": 186, \"heiss\": 187, \"ruhig\": 188, \"fertig\": 189, \"angst\": 190, \"wissen\": 191, \"immer\": 192, \"mann\": 193, \"ganz\": 194, \"vielleicht\": 195, \"weinen\": 196, \"braucht\": 197, \"zum\": 198, \"sterben\": 199, \"recht\": 200, \"brauchen\": 201, \"ihre\": 202, \"gern\": 203, \"schluessel\": 204, \"hin\": 205, \"warten\": 206, \"vater\": 207, \"wuerde\": 208, \"los\": 209, \"koennte\": 210, \"doch\": 211, \"her\": 212, \"fuehle\": 213, \"tag\": 214, \"tuer\": 215, \"nehmen\": 216, \"gegessen\": 217, \"gefallen\": 218, \"spaet\": 219, \"sagen\": 220, \"bleiben\": 221, \"keinen\": 222, \"gewonnen\": 223, \"ordnung\": 224, \"rein\": 225, \"gewinnen\": 226, \"ja\": 227, \"waren\": 228, \"gibt\": 229, \"mache\": 230, \"okay\": 231, \"kalt\": 232, \"lesen\": 233, \"fuehlte\": 234, \"mary\": 235, \"siehst\": 236, \"nett\": 237, \"reich\": 238, \"sag\": 239, \"wuetend\": 240, \"sagte\": 241, \"schwimmen\": 242, \"draussen\": 243, \"angerufen\": 244, \"verrueckt\": 245, \"wirst\": 246, \"ernst\": 247, \"gefaellt\": 248, \"grossartig\": 249, \"verletzt\": 250, \"boston\": 251, \"arbeiten\": 252, \"koennt\": 253, \"hut\": 254, \"augen\": 255, \"katze\": 256, \"schlecht\": 257, \"neu\": 258, \"frei\": 259, \"schlafen\": 260, \"esse\": 261, \"hunger\": 262, \"selbst\": 263, \"seien\": 264, \"herein\": 265, \"tu\": 266, \"sehe\": 267, \"veraergert\": 268, \"uhr\": 269, \"bleib\": 270, \"bereit\": 271, \"wollen\": 272, \"jung\": 273, \"musst\": 274, \"versucht\": 275, \"gekommen\": 276, \"wusste\": 277, \"hoffe\": 278, \"schuld\": 279, \"gekauft\": 280, \"dies\": 281, \"haus\": 282, \"hilfe\": 283, \"hab\": 284, \"raus\": 285, \"steht\": 286, \"halte\": 287, \"leid\": 288, \"aufhoeren\": 289, \"betrunken\": 290, \"eins\": 291, \"besser\": 292, \"wasser\": 293, \"willst\": 294, \"schien\": 295, \"arm\": 296, \"wirklich\": 297, \"funktioniert\": 298, \"bett\": 299, \"vorbei\": 300, \"moegen\": 301, \"bier\": 302, \"schule\": 303, \"man\": 304, \"behalten\": 305, \"laufen\": 306, \"gab\": 307, \"singen\": 308, \"fuss\": 309, \"einmal\": 310, \"stand\": 311, \"junge\": 312, \"zur\": 313, \"bus\": 314, \"kinder\": 315, \"wagen\": 316, \"geben\": 317, \"kaffee\": 318, \"fragen\": 319, \"hol\": 320, \"traurig\": 321, \"schoen\": 322, \"blieb\": 323, \"gestorben\": 324, \"nein\": 325, \"still\": 326, \"hungrig\": 327, \"tot\": 328, \"dumm\": 329, \"kennt\": 330, \"hoeren\": 331, \"deinen\": 332, \"warte\": 333, \"verstehe\": 334, \"schuechtern\": 335, \"dran\": 336, \"finden\": 337, \"setz\": 338, \"ins\": 339, \"weit\": 340, \"lieben\": 341, \"glueck\": 342, \"nervoes\": 343, \"jeder\": 344, \"getroffen\": 345, \"bekommen\": 346, \"wahr\": 347, \"langsam\": 348, \"gute\": 349, \"machte\": 350, \"rot\": 351, \"liegt\": 352, \"waere\": 353, \"frau\": 354, \"sohn\": 355, \"dieser\": 356, \"worden\": 357, \"spielen\": 358, \"rannte\": 359, \"wach\": 360, \"suess\": 361, \"hunde\": 362, \"boese\": 363, \"vermisse\": 364, \"reden\": 365, \"jemand\": 366, \"kennen\": 367, \"fisch\": 368, \"fast\": 369, \"verwirrt\": 370, \"seine\": 371, \"diesen\": 372, \"versuch\": 373, \"frag\": 374, \"dabei\": 375, \"davon\": 376, \"bald\": 377, \"ruhe\": 378, \"tee\": 379, \"nehme\": 380, \"tanzen\": 381, \"mutter\": 382, \"spiele\": 383, \"witze\": 384, \"glaube\": 385, \"zwei\": 386, \"laeuft\": 387, \"kurz\": 388, \"rufen\": 389, \"geschlagen\": 390, \"frueh\": 391, \"damit\": 392, \"bring\": 393, \"wein\": 394, \"vergessen\": 395, \"als\": 396, \"sage\": 397, \"tasche\": 398, \"gegeben\": 399, \"hasst\": 400, \"geworden\": 401, \"eure\": 402, \"magst\": 403, \"sollte\": 404, \"ruf\": 405, \"stehen\": 406, \"vertrauen\": 407, \"zuhause\": 408, \"rennen\": 409, \"bestuerzt\": 410, \"sieh\": 411, \"arzt\": 412, \"rief\": 413, \"daran\": 414, \"isst\": 415, \"maedchen\": 416, \"zeig\": 417, \"klein\": 418, \"meinem\": 419, \"hallo\": 420, \"zieh\": 421, \"perfekt\": 422, \"laechelte\": 423, \"luegt\": 424, \"fehlt\": 425, \"kochen\": 426, \"fernseher\": 427, \"kaputt\": 428, \"lustig\": 429, \"luegen\": 430, \"milch\": 431, \"katzen\": 432, \"holen\": 433, \"hoert\": 434, \"liess\": 435, \"unser\": 436, \"ausruhen\": 437, \"gebracht\": 438, \"plan\": 439, \"wollte\": 440, \"konnte\": 441, \"bezahlt\": 442, \"fort\": 443, \"weinte\": 444, \"dick\": 445, \"sprach\": 446, \"geholfen\": 447, \"sprich\": 448, \"sagt\": 449, \"vertraut\": 450, \"fangen\": 451, \"tue\": 452, \"seinen\": 453, \"nahm\": 454, \"langweilig\": 455, \"hart\": 456, \"arbeitet\": 457, \"wen\": 458, \"vorsichtig\": 459, \"anfangen\": 460, \"wette\": 461, \"bezahlen\": 462, \"neues\": 463, \"dazu\": 464, \"stark\": 465, \"arbeite\": 466, \"witz\": 467, \"sprechen\": 468, \"rauchen\": 469, \"keiner\": 470, \"vermissen\": 471, \"trinken\": 472, \"verdient\": 473, \"freude\": 474, \"morgen\": 475, \"schwer\": 476, \"leicht\": 477, \"genug\": 478, \"naehe\": 479, \"zimmer\": 480, \"wort\": 481, \"denke\": 482, \"ziemlich\": 483, \"wohl\": 484, \"einverstanden\": 485, \"geht\\'s\": 486, \"geschafft\": 487, \"ueber\": 488, \"schwach\": 489, \"blau\": 490, \"verlassen\": 491, \"folgen\": 492, \"stimme\": 493, \"dafuer\": 494, \"dreissig\": 495, \"lebt\": 496, \"fahre\": 497, \"kaufen\": 498, \"sorgen\": 499, \"lese\": 500, \"unrecht\": 501, \"brauchst\": 502, \"haette\": 503, \"leiden\": 504, \"schwarz\": 505, \"zuerst\": 506, \"franzoesisch\": 507, \"zufrieden\": 508, \"familie\": 509, \"ihren\": 510, \"fing\": 511, \"gelogen\": 512, \"klar\": 513, \"starb\": 514, \"guter\": 515, \"klug\": 516, \"mensch\": 517, \"hoere\": 518, \"liebte\": 519, \"verlieren\": 520, \"leise\": 521, \"hatten\": 522, \"faul\": 523, \"alleine\": 524, \"gefragt\": 525, \"mittagessen\": 526, \"entkommen\": 527, \"fallen\": 528, \"musik\": 529, \"taxi\": 530, \"einem\": 531, \"weisst\": 532, \"gekuesst\": 533, \"erkaeltung\": 534, \"freunde\": 535, \"ball\": 536, \"platz\": 537, \"schlechter\": 538, \"jahre\": 539, \"frage\": 540, \"weise\": 541, \"hilf\": 542, \"geweint\": 543, \"hilft\": 544, \"halten\": 545, \"komisch\": 546, \"job\": 547, \"geschickt\": 548, \"drinnen\": 549, \"einsam\": 550, \"sicherheit\": 551, \"schlaeft\": 552, \"geliebt\": 553, \"darueber\": 554, \"oben\": 555, \"karte\": 556, \"stimmt\": 557, \"spricht\": 558, \"einer\": 559, \"freund\": 560, \"fuesse\": 561, \"zusammen\": 562, \"schuldig\": 563, \"sollten\": 564, \"pferd\": 565, \"hoffnung\": 566, \"spiel\": 567, \"ehrlich\": 568, \"warst\": 569, \"grosser\": 570, \"fahrrad\": 571, \"idee\": 572, \"reise\": 573, \"bruder\": 574, \"vom\": 575, \"bis\": 576, \"gemein\": 577, \"setzen\": 578, \"stehe\": 579, \"fang\": 580, \"hierher\": 581, \"anrufen\": 582, \"meins\": 583, \"cool\": 584, \"fuhr\": 585, \"schlief\": 586, \"freundlich\": 587, \"meinung\": 588, \"passiert\": 589, \"sauber\": 590, \"rechnung\": 591, \"oft\": 592, \"drin\": 593, \"hey\": 594, \"kaum\": 595, \"trinke\": 596, \"geschlafen\": 597, \"grosse\": 598, \"singt\": 599, \"gehoeren\": 600, \"muesst\": 601, \"brauchte\": 602, \"oeffnen\": 603, \"sass\": 604, \"wahrheit\": 605, \"wann\": 606, \"bisschen\": 607, \"mitgebracht\": 608, \"klingt\": 609, \"aufhalten\": 610, \"ungerecht\": 611, \"schliess\": 612, \"spaeter\": 613, \"nehmt\": 614, \"wartet\": 615, \"fass\": 616, \"legen\": 617, \"runter\": 618, \"duenn\": 619, \"probier\": 620, \"schaut\": 621, \"schreiben\": 622, \"schrecklich\": 623, \"seltsam\": 624, \"dunkel\": 625, \"bleibt\": 626, \"stoppen\": 627, \"besorgt\": 628, \"fleisch\": 629, \"gleich\": 630, \"problem\": 631, \"sofort\": 632, \"alter\": 633, \"mochte\": 634, \"gesicht\": 635, \"neugierig\": 636, \"diaet\": 637, \"eifersuechtig\": 638, \"gefangen\": 639, \"montag\": 640, \"lange\": 641, \"falsch\": 642, \"kennst\": 643, \"eingeladen\": 644, \"bestes\": 645, \"euer\": 646, \"waffe\": 647, \"abend\": 648, \"hand\": 649, \"verlor\": 650, \"lernen\": 651, \"allen\": 652, \"haar\": 653, \"oeffne\": 654, \"angekommen\": 655, \"redet\": 656, \"welche\": 657, \"enttaeuscht\": 658, \"namen\": 659, \"fenster\": 660, \"gott\": 661, \"lief\": 662, \"fiel\": 663, \"nass\": 664, \"rufe\": 665, \"haesslich\": 666, \"bescheid\": 667, \"fliegen\": 668, \"vergiss\": 669, \"schiessen\": 670, \"halt\": 671, \"gebe\": 672, \"gemeint\": 673, \"warm\": 674, \"lies\": 675, \"unten\": 676, \"bewegen\": 677, \"trink\": 678, \"bekam\": 679, \"anderer\": 680, \"reis\": 681, \"hoerte\": 682, \"panik\": 683, \"erinnere\": 684, \"setzte\": 685, \"beeilen\": 686, \"koch\": 687, \"beruehmt\": 688, \"seite\": 689, \"fehler\": 690, \"hielt\": 691, \"gearbeitet\": 692, \"pech\": 693, \"muehe\": 694, \"krieg\": 695, \"lang\": 696, \"luegner\": 697, \"dagegen\": 698, \"gerettet\": 699, \"gesund\": 700, \"verliebt\": 701, \"schmerzen\": 702, \"verheiratet\": 703, \"genau\": 704, \"egal\": 705, \"pizza\": 706, \"buecher\": 707, \"kanadier\": 708, \"zeigen\": 709, \"unsere\": 710, \"wussten\": 711, \"angelogen\": 712, \"riecht\": 713, \"hinter\": 714, \"lehrer\": 715, \"gewinnt\": 716, \"verraten\": 717, \"geschrieben\": 718, \"spielt\": 719, \"niemals\": 720, \"iss\": 721, \"verstanden\": 722, \"echt\": 723, \"fair\": 724, \"scher\": 725, \"rennt\": 726, \"naeher\": 727, \"ruft\": 728, \"kopf\": 729, \"kuessen\": 730, \"schreibt\": 731, \"toll\": 732, \"sauer\": 733, \"gelangweilt\": 734, \"fest\": 735, \"beginnen\": 736, \"schwimmt\": 737, \"pflicht\": 738, \"suchen\": 739, \"nacht\": 740, \"grausam\": 741, \"kannte\": 742, \"held\": 743, \"ausgegangen\": 744, \"heraus\": 745, \"gebissen\": 746, \"raucht\": 747, \"schalte\": 748, \"lachen\": 749, \"grund\": 750, \"las\": 751, \"eier\": 752, \"feigling\": 753, \"brav\": 754, \"unhoeflich\": 755, \"erzaehlt\": 756, \"treffen\": 757, \"kocht\": 758, \"gebt\": 759, \"beste\": 760, \"darum\": 761, \"sollen\": 762, \"pause\": 763, \"ihrer\": 764, \"schrieb\": 765, \"erschossen\": 766, \"denn\": 767, \"soll\": 768, \"wenig\": 769, \"typ\": 770, \"abendessen\": 771, \"beeindruckt\": 772, \"aendern\": 773, \"ausgeraubt\": 774, \"solltest\": 775, \"wuerdest\": 776, \"brachte\": 777, \"name\": 778, \"wohnt\": 779, \"voll\": 780, \"haare\": 781, \"danke\": 782, \"leine\": 783, \"behalt\": 784, \"ass\": 785, \"hoch\": 786, \"finde\": 787, \"half\": 788, \"verirrt\": 789, \"haltet\": 790, \"gewusst\": 791, \"vertraue\": 792, \"schauen\": 793, \"antworten\": 794, \"voegel\": 795, \"weint\": 796, \"haende\": 797, \"ski\": 798, \"lachte\": 799, \"pleite\": 800, \"froh\": 801, \"gelassen\": 802, \"unterschreiben\": 803, \"pass\": 804, \"gefeuert\": 805, \"maenner\": 806, \"schreien\": 807, \"schreit\": 808, \"schlau\": 809, \"beneide\": 810, \"luft\": 811, \"koche\": 812, \"wichtig\": 813, \"sache\": 814, \"nochmal\": 815, \"mama\": 816, \"ohne\": 817, \"gas\": 818, \"faehrt\": 819, \"schrie\": 820, \"augenblick\": 821, \"durch\": 822, \"wirf\": 823, \"vergeben\": 824, \"beide\": 825, \"kuchen\": 826, \"lebe\": 827, \"naiv\": 828, \"beliebt\": 829, \"geschehen\": 830, \"veraendert\": 831, \"unter\": 832, \"aufmerksam\": 833, \"trank\": 834, \"genie\": 835, \"unschuldig\": 836, \"verhungern\": 837, \"voellig\": 838, \"ohren\": 839, \"gehst\": 840, \"machst\": 841, \"entlassen\": 842, \"passt\": 843, \"erkaeltet\": 844, \"liest\": 845, \"verkauft\": 846, \"geschossen\": 847, \"japaner\": 848, \"aufgestanden\": 849, \"menschen\": 850, \"jemanden\": 851, \"student\": 852, \"kuenstler\": 853, \"anders\": 854, \"gefahr\": 855, \"chef\": 856, \"zog\": 857, \"normal\": 858, \"sechs\": 859, \"vermisst\": 860, \"leute\": 861, \"apfel\": 862, \"getrunken\": 863, \"trug\": 864, \"traum\": 865, \"schulde\": 866, \"mund\": 867, \"brille\": 868, \"tragen\": 869, \"getoetet\": 870, \"koenntest\": 871, \"begann\": 872, \"he\": 873, \"feind\": 874, \"laecheln\": 875, \"sang\": 876, \"verschwinde\": 877, \"verzieh\": 878, \"heim\": 879, \"umarmt\": 880, \"tapfer\": 881, \"beeil\": 882, \"zahlen\": 883, \"gerecht\": 884, \"lauter\": 885, \"wunderbar\": 886, \"weine\": 887, \"luege\": 888, \"folge\": 889, \"ohnmaechtig\": 890, \"amuesiert\": 891, \"genommen\": 892, \"helfe\": 893, \"blind\": 894, \"sieben\": 895, \"jeden\": 896, \"aber\": 897, \"gesprochen\": 898, \"gewaehlt\": 899, \"idiot\": 900, \"eingestellt\": 901, \"geduldig\": 902, \"boden\": 903, \"ueberpruefen\": 904, \"trat\": 905, \"ueberlebt\": 906, \"stadt\": 907, \"rede\": 908, \"schaute\": 909, \"entscheiden\": 910, \"duerfen\": 911, \"dann\": 912, \"kreativ\": 913, \"jungen\": 914, \"esst\": 915, \"schaffen\": 916, \"brot\": 917, \"fand\": 918, \"leichtglaeubig\": 919, \"klarkommen\": 920, \"gesetz\": 921, \"ungewoehnlich\": 922, \"nutzlos\": 923, \"bloed\": 924, \"spazieren\": 925, \"betrogen\": 926, \"laut\": 927, \"erinnern\": 928, \"kaempfen\": 929, \"hingehen\": 930, \"ei\": 931, \"nackt\": 932, \"frauen\": 933, \"schlaefrig\": 934, \"geschieden\": 935, \"beleidigt\": 936, \"krebs\": 937, \"leer\": 938, \"lieber\": 939, \"traeume\": 940, \"mantel\": 941, \"hasste\": 942, \"reizend\": 943, \"bewusstsein\": 944, \"geantwortet\": 945, \"herunter\": 946, \"studiert\": 947, \"lernt\": 948, \"musste\": 949, \"pferde\": 950, \"sport\": 951, \"vertraute\": 952, \"freiwillig\": 953, \"hinein\": 954, \"geheimnis\": 955, \"ausland\": 956, \"mager\": 957, \"gewarnt\": 958, \"regeln\": 959, \"wieso\": 960, \"wart\": 961, \"hoeflich\": 962, \"schoenen\": 963, \"soehne\": 964, \"beim\": 965, \"aufgeregt\": 966, \"sinn\": 967, \"viele\": 968, \"deiner\": 969, \"besuchen\": 970, \"woher\": 971, \"nachricht\": 972, \"schuhe\": 973, \"gestern\": 974, \"lauf\": 975, \"fragt\": 976, \"fett\": 977, \"ordentlich\": 978, \"aufgehoert\": 979, \"richtig\": 980, \"warnen\": 981, \"beobachtet\": 982, \"stimmen\": 983, \"schreib\": 984, \"dollar\": 985, \"geschummelt\": 986, \"gehorchen\": 987, \"soweit\": 988, \"fall\": 989, \"na\": 990, \"herum\": 991, \"schneller\": 992, \"sing\": 993, \"versprochen\": 994, \"schoss\": 995, \"deins\": 996, \"trinkt\": 997, \"nickte\": 998, \"wartete\": 999, \"arbeitete\": 1000, \"moment\": 1001, \"jungs\": 1002, \"verlass\": 1003, \"obst\": 1004, \"pingelig\": 1005, \"aufrichtig\": 1006, \"durst\": 1007, \"ungluecklich\": 1008, \"schneit\": 1009, \"liste\": 1010, \"heisst\": 1011, \"bringen\": 1012, \"wehgetan\": 1013, \"reihe\": 1014, \"kommst\": 1015, \"kuemmern\": 1016, \"ehrgeizig\": 1017, \"beweise\": 1018, \"umarmte\": 1019, \"zucker\": 1020, \"erklaeren\": 1021, \"anwalt\": 1022, \"traeumen\": 1023, \"verschwunden\": 1024, \"dinge\": 1025, \"schmutzig\": 1026, \"unglaublich\": 1027, \"glauben\": 1028, \"fernsehen\": 1029, \"fische\": 1030, \"hinunter\": 1031, \"nase\": 1032, \"bekomme\": 1033, \"weitermachen\": 1034, \"geheiratet\": 1035, \"tennis\": 1036, \"zeige\": 1037, \"ueberzeugt\": 1038, \"zurueckgekommen\": 1039, \"reinkommen\": 1040, \"ende\": 1041, \"reicht\": 1042, \"verliess\": 1043, \"umziehen\": 1044, \"beiden\": 1045, \"schneide\": 1046, \"yoga\": 1047, \"wuensche\": 1048, \"nun\": 1049, \"jahr\": 1050, \"zaehlen\": 1051, \"traegt\": 1052, \"bart\": 1053, \"wegen\": 1054, \"schwestern\": 1055, \"versuche\": 1056, \"wert\": 1057, \"rat\": 1058, \"boot\": 1059, \"nieder\": 1060, \"zweimal\": 1061, \"brueder\": 1062, \"werdet\": 1063, \"koennten\": 1064, \"drei\": 1065, \"langweile\": 1066, \"moechtest\": 1067, \"hinterher\": 1068, \"fleissig\": 1069, \"eile\": 1070, \"bestellt\": 1071, \"billig\": 1072, \"himmel\": 1073, \"waehlerisch\": 1074, \"vergesslich\": 1075, \"hemd\": 1076, \"feuer\": 1077, \"schwimme\": 1078, \"hau\": 1079, \"pack\": 1080, \"fliege\": 1081, \"schlagen\": 1082, \"behaltet\": 1083, \"fassen\": 1084, \"tief\": 1085, \"benutze\": 1086, \"glatze\": 1087, \"schmerzt\": 1088, \"klappt\": 1089, \"erzaehl\": 1090, \"beobachte\": 1091, \"gewinne\": 1092, \"zaeh\": 1093, \"gar\": 1094, \"probieren\": 1095, \"tritt\": 1096, \"uebernehmen\": 1097, \"bord\": 1098, \"irre\": 1099, \"eines\": 1100, \"legte\": 1101, \"kaputtgemacht\": 1102, \"gebaut\": 1103, \"fehlst\": 1104, \"bescheiden\": 1105, \"funktionieren\": 1106, \"vorne\": 1107, \"geblieben\": 1108, \"gehabt\": 1109, \"ding\": 1110, \"tat\": 1111, \"diskret\": 1112, \"vernuenftig\": 1113, \"schnee\": 1114, \"wohne\": 1115, \"benoetige\": 1116, \"besoffen\": 1117, \"kind\": 1118, \"spreche\": 1119, \"wohlhabend\": 1120, \"schmeckt\": 1121, \"ihres\": 1122, \"schick\": 1123, \"gingen\": 1124, \"denk\": 1125, \"voraus\": 1126, \"unterrichtet\": 1127, \"ausser\": 1128, \"waehlen\": 1129, \"gestohlen\": 1130, \"nummer\": 1131, \"zehn\": 1132, \"kuemmere\": 1133, \"gesungen\": 1134, \"gerufen\": 1135, \"steh\": 1136, \"fahr\": 1137, \"aepfel\": 1138, \"uebel\": 1139, \"sushi\": 1140, \"suessigkeiten\": 1141, \"farbe\": 1142, \"zurueckkommen\": 1143, \"sucht\": 1144, \"ohr\": 1145, \"diabetiker\": 1146, \"engel\": 1147, \"studiere\": 1148, \"gruendlich\": 1149, \"erschoepft\": 1150, \"scherz\": 1151, \"dahin\": 1152, \"hassen\": 1153, \"gelacht\": 1154, \"sagten\": 1155, \"antwortete\": 1156, \"meinte\": 1157, \"erledigt\": 1158, \"benutzt\": 1159, \"verstehen\": 1160, \"regen\": 1161, \"erfolgreich\": 1162, \"darfst\": 1163, \"sicherheitsdienst\": 1164, \"blass\": 1165, \"paris\": 1166, \"ahnung\": 1167, \"ausstehen\": 1168, \"gelesen\": 1169, \"maus\": 1170, \"schueler\": 1171, \"ungeduldig\": 1172, \"fach\": 1173, \"versichert\": 1174, \"eilte\": 1175, \"zieht\": 1176, \"kopfschmerzen\": 1177, \"tor\": 1178, \"oeffnet\": 1179, \"frieden\": 1180, \"ziehe\": 1181, \"drehte\": 1182, \"ueberleben\": 1183, \"unfair\": 1184, \"kuehe\": 1185, \"fressen\": 1186, \"motor\": 1187, \"hoerst\": 1188, \"handtuch\": 1189, \"steigen\": 1190, \"lied\": 1191, \"gefolgt\": 1192, \"spinnen\": 1193, \"tisch\": 1194, \"herz\": 1195, \"heimweh\": 1196, \"schwierigkeiten\": 1197, \"ruhestand\": 1198, \"pfeifen\": 1199, \"sommer\": 1200, \"benommen\": 1201, \"faellt\": 1202, \"umgebracht\": 1203, \"strasse\": 1204, \"neidisch\": 1205, \"wenn\": 1206, \"diesem\": 1207, \"unverheiratet\": 1208, \"fussball\": 1209, \"starrte\": 1210, \"kerze\": 1211, \"leisten\": 1212, \"schwester\": 1213, \"brief\": 1214, \"film\": 1215, \"grossen\": 1216, \"schreibtisch\": 1217, \"messer\": 1218, \"unsicher\": 1219, \"aufgehalten\": 1220, \"neben\": 1221, \"waffen\": 1222, \"probiere\": 1223, \"drueck\": 1224, \"verdufte\": 1225, \"acker\": 1226, \"verkruemele\": 1227, \"troll\": 1228, \"zisch\": 1229, \"ne\": 1230, \"schwirr\": 1231, \"sause\": 1232, \"wiedersehen\": 1233, \"schliesse\": 1234, \"drauf\": 1235, \"willkommen\": 1236, \"leg\": 1237, \"reparieren\": 1238, \"deckung\": 1239, \"retten\": 1240, \"log\": 1241, \"erzaehlen\": 1242, \"geschwommen\": 1243, \"beobachten\": 1244, \"wozu\": 1245, \"beruhige\": 1246, \"fuenf\": 1247, \"ohnmacht\": 1248, \"fuerchte\": 1249, \"erster\": 1250, \"schlimm\": 1251, \"verlasse\": 1252, \"dreh\": 1253, \"sitzen\": 1254, \"dorthin\": 1255, \"versuchte\": 1256, \"sahen\": 1257, \"siegen\": 1258, \"schreibe\": 1259, \"acht\": 1260, \"such\": 1261, \"gucken\": 1262, \"gewann\": 1263, \"meint\": 1264, \"eis\": 1265, \"voreingenommen\": 1266, \"gierig\": 1267, \"ruiniert\": 1268, \"kostenlos\": 1269, \"gruen\": 1270, \"gelaechelt\": 1271, \"stimmte\": 1272, \"tanzt\": 1273, \"zwinkerte\": 1274, \"rechts\": 1275, \"verbindung\": 1276, \"schliessen\": 1277, \"nochmals\": 1278, \"fragte\": 1279, \"insekten\": 1280, \"mathe\": 1281, \"mathematik\": 1282, \"schwindlig\": 1283, \"aufstehen\": 1284, \"entspannt\": 1285, \"durstig\": 1286, \"gescheitert\": 1287, \"regnet\": 1288, \"regel\": 1289, \"entspannen\": 1290, \"welt\": 1291, \"biss\": 1292, \"betrog\": 1293, \"letzte\": 1294, \"hellwach\": 1295, \"lag\": 1296, \"schluss\": 1297, \"bewaffnet\": 1298, \"durcheinander\": 1299, \"objektiv\": 1300, \"bringe\": 1301, \"drum\": 1302, \"haelfte\": 1303, \"guten\": 1304, \"erwachsen\": 1305, \"mutig\": 1306, \"mut\": 1307, \"laufpass\": 1308, \"arrogant\": 1309, \"schaeme\": 1310, \"verwundet\": 1311, \"zerbrochen\": 1312, \"singe\": 1313, \"zweifel\": 1314, \"selten\": 1315, \"gedacht\": 1316, \"lieb\": 1317, \"rechtsanwalt\": 1318, \"zuverlaessig\": 1319, \"schlafe\": 1320, \"salz\": 1321, \"unmoralisch\": 1322, \"ueberlass\": 1323, \"erledigen\": 1324, \"nachdenken\": 1325, \"rate\": 1326, \"trafen\": 1327, \"beeilt\": 1328, \"stellen\": 1329, \"summen\": 1330, \"kannten\": 1331, \"niedergeschlagen\": 1332, \"brach\": 1333, \"spion\": 1334, \"launisch\": 1335, \"geraten\": 1336, \"verbluefft\": 1337, \"wahnsinnig\": 1338, \"mittag\": 1339, \"verstecken\": 1340, \"aufgeben\": 1341, \"luegst\": 1342, \"gewachsen\": 1343, \"neuen\": 1344, \"sonst\": 1345, \"fachmann\": 1346, \"toeten\": 1347, \"sangen\": 1348, \"paar\": 1349, \"japanerin\": 1350, \"eingeschlafen\": 1351, \"winter\": 1352, \"scherze\": 1353, \"suesses\": 1354, \"arabisch\": 1355, \"rettete\": 1356, \"fehlen\": 1357, \"beweisen\": 1358, \"ueberrascht\": 1359, \"gewesen\": 1360, \"geschaeft\": 1361, \"minute\": 1362, \"zurueckgehen\": 1363, \"ruecken\": 1364, \"knie\": 1365, \"puppe\": 1366, \"risiko\": 1367, \"irren\": 1368, \"landkarte\": 1369, \"betet\": 1370, \"baby\": 1371, \"noetig\": 1372, \"oeffnete\": 1373, \"beschwipst\": 1374, \"adoptiert\": 1375, \"verlobt\": 1376, \"wurden\": 1377, \"papier\": 1378, \"welches\": 1379, \"summt\": 1380, \"wem\": 1381, \"hineingehen\": 1382, \"scheinen\": 1383, \"anfassen\": 1384, \"selber\": 1385, \"angeln\": 1386, \"park\": 1387, \"golf\": 1388, \"schriftsteller\": 1389, \"onkel\": 1390, \"miteinander\": 1391, \"deinem\": 1392, \"geschenke\": 1393, \"verriet\": 1394, \"kaufte\": 1395, \"gebrochen\": 1396, \"gehalten\": 1397, \"englisch\": 1398, \"ablehnen\": 1399, \"rueber\": 1400, \"danken\": 1401, \"zerstoert\": 1402, \"weihnachten\": 1403, \"zug\": 1404, \"entschuldige\": 1405, \"laufenden\": 1406, \"besitzt\": 1407, \"bewusstlos\": 1408, \"lacht\": 1409, \"zoegert\": 1410, \"herausbekommen\": 1411, \"entschlossen\": 1412, \"partner\": 1413, \"studenten\": 1414, \"koenntet\": 1415, \"wuerden\": 1416, \"nachhause\": 1417, \"krawatte\": 1418, \"glaubt\": 1419, \"traeumt\": 1420, \"schlechte\": 1421, \"antwort\": 1422, \"furchtbar\": 1423, \"ganzen\": 1424, \"redete\": 1425, \"klang\": 1426, \"rolle\": 1427, \"freue\": 1428, \"offen\": 1429, \"hase\": 1430, \"verkaufen\": 1431, \"begeistert\": 1432, \"erneut\": 1433, \"wohin\": 1434, \"verpasst\": 1435, \"telefon\": 1436, \"angefasst\": 1437, \"saft\": 1438, \"vollkommen\": 1439, \"frueher\": 1440, \"alte\": 1441, \"erst\": 1442, \"droge\": 1443, \"wirkte\": 1444, \"unmoeglich\": 1445, \"fantastisch\": 1446, \"entspann\": 1447, \"umarmen\": 1448, \"gerannt\": 1449, \"fasst\": 1450, \"findet\": 1451, \"repariere\": 1452, \"taub\": 1453, \"naechste\": 1454, \"vorsicht\": 1455, \"stirb\": 1456, \"entschuldigung\": 1457, \"legt\": 1458, \"lage\": 1459, \"aufgegeben\": 1460, \"meinst\": 1461, \"kicherte\": 1462, \"traf\": 1463, \"erste\": 1464, \"geschneit\": 1465, \"viertel\": 1466, \"spring\": 1467, \"guck\": 1468, \"schuss\": 1469, \"mach\\'s\": 1470, \"bewegte\": 1471, \"seht\": 1472, \"warteten\": 1473, \"kuemmert\": 1474, \"sterbe\": 1475, \"liege\": 1476, \"suche\": 1477, \"hingegangen\": 1478, \"bewegt\": 1479, \"schrei\": 1480, \"hustete\": 1481, \"zurueckgetreten\": 1482, \"verstecke\": 1483, \"single\": 1484, \"ziehen\": 1485, \"wachsam\": 1486, \"nickerchen\": 1487, \"schmecken\": 1488, \"standen\": 1489, \"stoehnte\": 1490, \"gehorcht\": 1491, \"gebetet\": 1492, \"seufzte\": 1493, \"geschrien\": 1494, \"streng\": 1495, \"strengt\": 1496, \"naechstes\": 1497, \"verlaufen\": 1498, \"gnadenlos\": 1499, \"gedanken\": 1500, \"entlang\": 1501, \"gehasst\": 1502, \"daheim\": 1503, \"verbrannt\": 1504, \"rock\": 1505, \"verschlafen\": 1506, \"lippen\": 1507, \"geirrt\": 1508, \"tanze\": 1509, \"rente\": 1510, \"nichtsnutz\": 1511, \"bedient\": 1512, \"ignoriert\": 1513, \"moeglich\": 1514, \"regnen\": 1515, \"schade\": 1516, \"abgeschlossen\": 1517, \"zweck\": 1518, \"dringend\": 1519, \"versuch\\'s\": 1520, \"teilen\": 1521, \"schaue\": 1522, \"dank\": 1523, \"gutes\": 1524, \"i\": 1525, \"pflanzen\": 1526, \"stell\": 1527, \"schicken\": 1528, \"dieb\": 1529, \"langsamer\": 1530, \"kamen\": 1531, \"laechelten\": 1532, \"blickte\": 1533, \"leidet\": 1534, \"eingebildet\": 1535, \"kniete\": 1536, \"angehalten\": 1537, \"waehle\": 1538, \"fbi\": 1539, \"treten\": 1540, \"herauf\": 1541, \"ok\": 1542, \"trotzdem\": 1543, \"berliner\": 1544, \"super\": 1545, \"toericht\": 1546, \"einfaeltig\": 1547, \"kaese\": 1548, \"schloss\": 1549, \"gefehlt\": 1550, \"schlaf\": 1551, \"dachte\": 1552, \"beweis\": 1553, \"versagen\": 1554, \"hole\": 1555, \"verklagen\": 1556, \"suechtig\": 1557, \"achtzehn\": 1558, \"obdachlos\": 1559, \"heiliger\": 1560, \"stur\": 1561, \"meines\": 1562, \"angefangen\": 1563, \"schweine\": 1564, \"interessiert\": 1565, \"heben\": 1566, \"stelle\": 1567, \"irrt\": 1568, \"verklagt\": 1569, \"gold\": 1570, \"gruselig\": 1571, \"gewitzt\": 1572, \"verschwand\": 1573, \"ausgehen\": 1574, \"scherzen\": 1575, \"scherzt\": 1576, \"amuesieren\": 1577, \"clever\": 1578, \"mitmachen\": 1579, \"ertrunken\": 1580, \"werd\": 1581, \"hinauf\": 1582, \"sogar\": 1583, \"vogel\": 1584, \"blumen\": 1585, \"zahn\": 1586, \"kuss\": 1587, \"kuesste\": 1588, \"erblindete\": 1589, \"schach\": 1590, \"verziehen\": 1591, \"grippe\": 1592, \"ring\": 1593, \"laufe\": 1594, \"abendbrot\": 1595, \"flugzeug\": 1596, \"gemeldet\": 1597, \"meldete\": 1598, \"schaemte\": 1599, \"weckte\": 1600, \"ansehen\": 1601, \"lehrerin\": 1602, \"tourist\": 1603, \"motiviert\": 1604, \"blut\": 1605, \"schlimmer\": 1606, \"geschenk\": 1607, \"falle\": 1608, \"schaden\": 1609, \"befehl\": 1610, \"diesmal\": 1611, \"schwierig\": 1612, \"kontrollieren\": 1613, \"fortfahren\": 1614, \"heisser\": 1615, \"meiner\": 1616, \"kopfweh\": 1617, \"heisse\": 1618, \"fueller\": 1619, \"zuversichtlich\": 1620, \"suppe\": 1621, \"aufgabe\": 1622, \"tasse\": 1623, \"japan\": 1624, \"plaene\": 1625, \"narr\": 1626, \"versteckt\": 1627, \"papa\": 1628, \"reingelegt\": 1629, \"erfolg\": 1630, \"bewundern\": 1631, \"erwischt\": 1632, \"verspaeten\": 1633, \"aerzte\": 1634, \"eltern\": 1635, \"angeschossen\": 1636, \"fastet\": 1637, \"post\": 1638, \"fragst\": 1639, \"solltet\": 1640, \"tiger\": 1641, \"liebst\": 1642, \"versuchung\": 1643, \"fern\": 1644, \"drachen\": 1645, \"amerikaner\": 1646, \"aufgeschlossen\": 1647, \"eindruck\": 1648, \"bereits\": 1649, \"glaubte\": 1650, \"rad\": 1651, \"bein\": 1652, \"schlaganfall\": 1653, \"raetsel\": 1654, \"radio\": 1655, \"kekse\": 1656, \"stuhl\": 1657, \"wiederkommen\": 1658, \"einladen\": 1659, \"gefangene\": 1660, \"fasziniert\": 1661, \"dummkopf\": 1662, \"aufgebracht\": 1663, \"moechten\": 1664, \"unserer\": 1665, \"blond\": 1666, \"erfahren\": 1667, \"tratschen\": 1668, \"preis\": 1669, \"wich\": 1670, \"ueberfallen\": 1671, \"hinterhaeltig\": 1672, \"angezogen\": 1673, \"verzweifelt\": 1674, \"sympathisch\": 1675, \"sitzt\": 1676, \"gepflegt\": 1677, \"wache\": 1678, \"besten\": 1679, \"licht\": 1680, \"skifahren\": 1681, \"zustimmen\": 1682, \"furchtlos\": 1683, \"wasch\": 1684, \"mussten\": 1685, \"respektieren\": 1686, \"hilflos\": 1687, \"weggenommen\": 1688, \"weggeraeumt\": 1689, \"entfernt\": 1690, \"beseitigt\": 1691, \"rote\": 1692, \"vorbereitet\": 1693, \"arbeitest\": 1694, \"zaehlt\": 1695, \"zuleide\": 1696, \"daneben\": 1697, \"fahrt\": 1698, \"rasen\": 1699, \"wirkt\": 1700, \"vierzig\": 1701, \"riskieren\": 1702, \"jedes\": 1703, \"hausaufgaben\": 1704, \"geraeusch\": 1705, \"raum\": 1706, \"rotwein\": 1707, \"beine\": 1708, \"spielte\": 1709, \"gitarre\": 1710, \"wuenschte\": 1711, \"abstreiten\": 1712, \"genossen\": 1713, \"atmet\": 1714, \"bloss\": 1715, \"erfreut\": 1716, \"stift\": 1717, \"pfeffer\": 1718, \"seife\": 1719, \"wohnen\": 1720, \"veraengstigt\": 1721, \"bestanden\": 1722, \"fuetterte\": 1723, \"geaendert\": 1724, \"verrueckter\": 1725, \"saenger\": 1726, \"athletisch\": 1727, \"grosszuegig\": 1728, \"hoffnungsloser\": 1729, \"verschwender\": 1730, \"verschwenderisch\": 1731, \"rechthaberisch\": 1732, \"stich\": 1733, \"zuendete\": 1734, \"blick\": 1735, \"angespannt\": 1736, \"abgenommen\": 1737, \"erschreckt\": 1738, \"herausfinden\": 1739, \"darin\": 1740, \"wisst\": 1741, \"trinkst\": 1742, \"zaehne\": 1743, \"bestellung\": 1744, \"schwert\": 1745, \"pferden\": 1746, \"armbanduhr\": 1747, \"erreichen\": 1748, \"machtlos\": 1749, \"wahl\": 1750, \"neue\": 1751, \"bleistift\": 1752, \"kompliziert\": 1753, \"puls\": 1754, \"person\": 1755, \"sturm\": 1756, \"woche\": 1757, \"erfinderisch\": 1758, \"nachlaessig\": 1759, \"blatt\": 1760, \"gespraechig\": 1761, \"euren\": 1762, \"ganze\": 1763, \"bade\": 1764, \"stuerzte\": 1765, \"verpiss\": 1766, \"nachlassen\": 1767, \"schlage\": 1768, \"drueckt\": 1769, \"zeig\\'s\": 1770, \"ernsthaft\": 1771, \"hab\\'s\": 1772, \"zurecht\": 1773, \"gesprungen\": 1774, \"rasiert\": 1775, \"gewartet\": 1776, \"satt\": 1777, \"schwamm\": 1778, \"beruhigen\": 1779, \"fangt\": 1780, \"entschuldigen\": 1781, \"dj\": 1782, \"traege\": 1783, \"wachte\": 1784, \"knapp\": 1785, \"nuechtern\": 1786, \"gehoere\": 1787, \"geklappt\": 1788, \"vier\": 1789, \"sand\": 1790, \"behalte\": 1791, \"beweg\": 1792, \"sitz\": 1793, \"uebernimm\": 1794, \"waehlte\": 1795, \"ziel\": 1796, \"hoeher\": 1797, \"antworte\": 1798, \"tatsachen\": 1799, \"folgt\": 1800, \"elegant\": 1801, \"springen\": 1802, \"abgesagt\": 1803, \"ansicht\": 1804, \"repariert\": 1805, \"zugehoert\": 1806, \"ueberlebte\": 1807, \"uebergeben\": 1808, \"pummelig\": 1809, \"ledig\": 1810, \"ignorier\": 1811, \"cd\": 1812, \"jesus\": 1813, \"beten\": 1814, \"schlag\": 1815, \"probleme\": 1816, \"ach\": 1817, \"hebe\": 1818, \"ruelpste\": 1819, \"betruegt\": 1820, \"versagt\": 1821, \"schnappte\": 1822, \"cds\": 1823, \"lachten\": 1824, \"gnaedig\": 1825, \"gewappnet\": 1826, \"spezifisch\": 1827, \"teile\": 1828, \"besuch\": 1829, \"setzt\": 1830, \"zaehl\": 1831, \"betruege\": 1832, \"muenze\": 1833, \"davongekommen\": 1834, \"bloedmann\": 1835, \"zwilling\": 1836, \"maeuse\": 1837, \"zoegerte\": 1838, \"stellte\": 1839, \"jazz\": 1840, \"sollst\": 1841, \"ufo\": 1842, \"rieche\": 1843, \"kaufe\": 1844, \"zurechtkommen\": 1845, \"tollpatsch\": 1846, \"krankenschwester\": 1847, \"luegnerin\": 1848, \"bleibe\": 1849, \"fassungslos\": 1850, \"unbewaffnet\": 1851, \"legal\": 1852, \"mitnehmen\": 1853, \"eures\": 1854, \"bringt\": 1855, \"fruehling\": 1856, \"sie\\'s\": 1857, \"loslegen\": 1858, \"genauer\": 1859, \"vielen\": 1860, \"wachsen\": 1861, \"laenger\": 1862, \"probiert\": 1863, \"handelt\": 1864, \"enorm\": 1865, \"schummelte\": 1866, \"entkam\": 1867, \"friert\": 1868, \"dachschaden\": 1869, \"leitung\": 1870, \"aufgeblasen\": 1871, \"bemerkt\": 1872, \"bezahlte\": 1873, \"lehnte\": 1874, \"witzig\": 1875, \"aelter\": 1876, \"wecke\": 1877, \"setzten\": 1878, \"nahe\": 1879, \"zeitig\": 1880, \"stirbt\": 1881, \"polizei\": 1882, \"fuehre\": 1883, \"einzuwenden\": 1884, \"nerv\": 1885, \"nerven\": 1886, \"gewehr\": 1887, \"endlich\": 1888, \"frohe\": 1889, \"dichter\": 1890, \"heldenhaft\": 1891, \"getreten\": 1892, \"maedels\": 1893, \"erbaermlich\": 1894, \"bewundere\": 1895, \"erwarten\": 1896, \"geschnitten\": 1897, \"schwindelig\": 1898, \"blendend\": 1899, \"joggen\": 1900, \"bohnen\": 1901, \"drueckte\": 1902, \"reisen\": 1903, \"klavier\": 1904, \"erschuettert\": 1905, \"kuenstlerisch\": 1906, \"dankbar\": 1907, \"kater\": 1908, \"unverletzt\": 1909, \"gedauert\": 1910, \"pfeife\": 1911, \"voran\": 1912, \"zeigt\": 1913, \"kiefer\": 1914, \"niemanden\": 1915, \"fuchs\": 1916, \"hammer\": 1917, \"suesse\": 1918, \"kontrolle\": 1919, \"gaben\": 1920, \"hoerten\": 1921, \"darauf\": 1922, \"treu\": 1923, \"unordentlich\": 1924, \"vage\": 1925, \"letzter\": 1926, \"niemandem\": 1927, \"nutze\": 1928, \"weck\": 1929, \"gestanden\": 1930, \"mochten\": 1931, \"erbaut\": 1932, \"liegen\": 1933, \"daemlich\": 1934, \"besonders\": 1935, \"tanz\": 1936, \"verstehst\": 1937, \"zeichne\": 1938, \"sekunde\": 1939, \"fuehrt\": 1940, \"ignorierte\": 1941, \"schlittschuh\": 1942, \"menge\": 1943, \"autos\": 1944, \"hereingelegt\": 1945, \"laestig\": 1946, \"oder\": 1947, \"seil\": 1948, \"aufregend\": 1949, \"bewunderte\": 1950, \"moslem\": 1951, \"lerne\": 1952, \"uebertrieben\": 1953, \"gefuettert\": 1954, \"zwiebeln\": 1955, \"loeffel\": 1956, \"zuege\": 1957, \"herbst\": 1958, \"pandas\": 1959, \"heiratete\": 1960, \"beinahe\": 1961, \"spaziergang\": 1962, \"zuhoeren\": 1963, \"nachts\": 1964, \"erlaube\": 1965, \"umbringen\": 1966, \"studentin\": 1967, \"tatverdaechtiger\": 1968, \"uebergewichtig\": 1969, \"unterwegs\": 1970, \"drueben\": 1971, \"unversichert\": 1972, \"ueberaus\": 1973, \"beschaedigt\": 1974, \"eben\": 1975, \"erleichterung\": 1976, \"nervt\": 1977, \"hoffnungslos\": 1978, \"besetzt\": 1979, \"unwahrscheinlich\": 1980, \"haengt\": 1981, \"kontrollier\": 1982, \"kontrolliert\": 1983, \"verschwinden\": 1984, \"kontakt\": 1985, \"eintreten\": 1986, \"fortgehen\": 1987, \"tresor\": 1988, \"mannschaft\": 1989, \"niedlich\": 1990, \"veraendern\": 1991, \"tuere\": 1992, \"einige\": 1993, \"ruehr\": 1994, \"anzugeben\": 1995, \"verschieden\": 1996, \"liebten\": 1997, \"braun\": 1998, \"beifall\": 1999, \"weggehen\": 2000, \"poet\": 2001, \"sparsam\": 2002, \"verliert\": 2003, \"unfreundlich\": 2004, \"erinnert\": 2005, \"genervt\": 2006, \"hinkt\": 2007, \"gewalttaetig\": 2008, \"bitten\": 2009, \"cousins\": 2010, \"feinde\": 2011, \"schockiert\": 2012, \"passierte\": 2013, \"riechst\": 2014, \"huebsch\": 2015, \"benimm\": 2016, \"benutzen\": 2017, \"tod\": 2018, \"sagtest\": 2019, \"salat\": 2020, \"geniessen\": 2021, \"vorfuehrung\": 2022, \"steig\": 2023, \"mitfahren\": 2024, \"schauspieler\": 2025, \"maechtig\": 2026, \"spieler\": 2027, \"kostet\": 2028, \"ihrem\": 2029, \"bekannt\": 2030, \"geglaubt\": 2031, \"kirche\": 2032, \"fieber\": 2033, \"lastwagen\": 2034, \"lkw\": 2035, \"tiere\": 2036, \"bananen\": 2037, \"gebacken\": 2038, \"bar\": 2039, \"verabschiedete\": 2040, \"glas\": 2041, \"gerechtigkeit\": 2042, \"rache\": 2043, \"urlaub\": 2044, \"vergiftet\": 2045, \"polizist\": 2046, \"optimist\": 2047, \"arbeitslos\": 2048, \"verkauf\": 2049, \"versprechen\": 2050, \"wohnung\": 2051, \"ob\": 2052, \"platten\": 2053, \"wird\\'s\": 2054, \"tueren\": 2055, \"heran\": 2056, \"vorueber\": 2057, \"foto\": 2058, \"erfordert\": 2059, \"fix\": 2060, \"verbrechen\": 2061, \"offensichtlich\": 2062, \"quatsch\": 2063, \"logisch\": 2064, \"unsinn\": 2065, \"unverschaemt\": 2066, \"riechen\": 2067, \"idioten\": 2068, \"denkt\": 2069, \"positiv\": 2070, \"loewe\": 2071, \"loch\": 2072, \"fuehlt\": 2073, \"ford\": 2074, \"amuesant\": 2075, \"konzentriert\": 2076, \"durchgedreht\": 2077, \"hilfreich\": 2078, \"geschichte\": 2079, \"liebenswert\": 2080, \"dienst\": 2081, \"anwesend\": 2082, \"zittert\": 2083, \"derjenige\": 2084, \"gescheit\": 2085, \"laerm\": 2086, \"gefuehrt\": 2087, \"gebraucht\": 2088, \"laesst\": 2089, \"risiken\": 2090, \"blutet\": 2091, \"bezaubernd\": 2092, \"harmlos\": 2093, \"boss\": 2094, \"bauch\": 2095, \"sosse\": 2096, \"vertrauten\": 2097, \"fuerchterlich\": 2098, \"land\": 2099, \"welcher\": 2100, \"wofuer\": 2101, \"fuehrung\": 2102, \"wuerdet\": 2103, \"groesste\": 2104, \"deines\": 2105, \"doof\": 2106, \"gefahren\": 2107, \"fallenlassen\": 2108, \"lueg\": 2109, \"vertrau\": 2110, \"hintergangen\": 2111, \"surfen\": 2112, \"fuehlst\": 2113, \"interessant\": 2114, \"sprachlos\": 2115, \"orange\": 2116, \"zunge\": 2117, \"heruntergeladen\": 2118, \"erleichtert\": 2119, \"teppich\": 2120, \"theorie\": 2121, \"haut\": 2122, \"gegend\": 2123, \"baseball\": 2124, \"kartoffeln\": 2125, \"feiere\": 2126, \"boeses\": 2127, \"verstand\": 2128, \"gespielt\": 2129, \"geredet\": 2130, \"entsetzt\": 2131, \"puenktlich\": 2132, \"benachrichtigen\": 2133, \"nichte\": 2134, \"flehe\": 2135, \"beschaemt\": 2136, \"todernst\": 2137, \"giftig\": 2138, \"versalzen\": 2139, \"fluss\": 2140, \"schoener\": 2141, \"ueberraschung\": 2142, \"frisch\": 2143, \"verpack\": 2144, \"wechselgeld\": 2145, \"anprobieren\": 2146, \"anzug\": 2147, \"grau\": 2148, \"flasche\": 2149, \"hierhin\": 2150, \"ohrfeige\": 2151, \"aufgeweckt\": 2152, \"karten\": 2153, \"tabletten\": 2154, \"see\": 2155, \"mond\": 2156, \"soldat\": 2157, \"brunnen\": 2158, \"groessten\": 2159, \"benahm\": 2160, \"angegriffen\": 2161, \"geleistet\": 2162, \"unbehaglich\": 2163, \"gekaempft\": 2164, \"kaninchen\": 2165, \"empoert\": 2166, \"ruecksichtslos\": 2167, \"beunruhigt\": 2168, \"unvoreingenommen\": 2169, \"lebte\": 2170, \"stach\": 2171, \"bad\": 2172, \"wandte\": 2173, \"cousin\": 2174, \"neffe\": 2175, \"brachten\": 2176, \"zoo\": 2177, \"wusstest\": 2178, \"wusstet\": 2179, \"ueberheblich\": 2180, \"seinem\": 2181, \"flexibler\": 2182, \"jemals\": 2183, \"wollt\": 2184, \"moegt\": 2185, \"wohnst\": 2186, \"taeuschen\": 2187, \"erwischen\": 2188, \"sprecht\": 2189, \"erklaert\": 2190, \"treppe\": 2191, \"gegen\": 2192, \"angelt\": 2193, \"gemalt\": 2194, \"spielzeug\": 2195, \"huete\": 2196, \"pruefung\": 2197, \"phantastisch\": 2198, \"halloween\": 2199, \"stifte\": 2200, \"band\": 2201, \"auge\": 2202, \"computer\": 2203, \"weigerte\": 2204, \"bereue\": 2205, \"besuchte\": 2206, \"kampf\": 2207, \"wusch\": 2208, \"bank\": 2209, \"sonntag\": 2210, \"bestraft\": 2211, \"fahrer\": 2212, \"journalist\": 2213, \"mitglied\": 2214, \"total\": 2215, \"schlimmeres\": 2216, \"gefaehrlich\": 2217, \"schneien\": 2218, \"bedeutet\": 2219, \"waschen\": 2220, \"links\": 2221, \"verrichten\": 2222, \"poker\": 2223, \"dose\": 2224, \"behutsam\": 2225, \"kiste\": 2226, \"befoerdert\": 2227, \"groesse\": 2228, \"verraeter\": 2229, \"gefaengnis\": 2230, \"nimmt\": 2231, \"hockey\": 2232, \"bauer\": 2233, \"angewiesen\": 2234, \"welch\": 2235, \"endet\": 2236, \"terminkalender\": 2237, \"billiger\": 2238, \"juenger\": 2239, \"redselig\": 2240, \"nachvollziehen\": 2241, \"anderen\": 2242, \"krankenwagen\": 2243, \"krankenhaus\": 2244, \"ort\": 2245, \"beabsichtigt\": 2246, \"haustier\": 2247, \"tage\": 2248, \"maennern\": 2249, \"kurze\": 2250, \"aufenthalt\": 2251, \"hamburger\": 2252, \"vorwurf\": 2253, \"stil\": 2254, \"verdanke\": 2255, \"kunden\": 2256, \"stopp\": 2257, \"bewegung\": 2258, \"kapiert\": 2259, \"umarme\": 2260, \"zahlte\": 2261, \"helft\": 2262, \"schnarche\": 2263, \"bin\\'s\": 2264, \"kuesst\": 2265, \"wachen\": 2266, \"reg\": 2267, \"handschellen\": 2268, \"vergnuegen\": 2269, \"feier\": 2270, \"weigere\": 2271, \"rasierte\": 2272, \"gaehnte\": 2273, \"seins\": 2274, \"eintritt\": 2275, \"verboten\": 2276, \"rette\": 2277, \"hervorragend\": 2278, \"sagenhaft\": 2279, \"versuchten\": 2280, \"zielen\": 2281, \"gesundheit\": 2282, \"bellen\": 2283, \"knicken\": 2284, \"willen\": 2285, \"fuege\": 2286, \"aufgelegt\": 2287, \"begegnet\": 2288, \"abbrechen\": 2289, \"beduerftig\": 2290, \"stecke\": 2291, \"beachte\": 2292, \"beachten\": 2293, \"halb\": 2294, \"geoeffnet\": 2295, \"locker\": 2296, \"stueck\": 2297, \"natuerlich\": 2298, \"hat\\'s\": 2299, \"o\": 2300, \"doeste\": 2301, \"winkte\": 2302, \"einig\": 2303, \"unterhalten\": 2304, \"stinkt\": 2305, \"stinken\": 2306, \"irgendwen\": 2307, \"nuetzlich\": 2308, \"trag\": 2309, \"pruefe\": 2310, \"fruehzeitig\": 2311, \"grab\": 2312, \"schubsen\": 2313, \"untersuchen\": 2314, \"brennt\": 2315, \"vergib\": 2316, \"ausreichend\": 2317, \"liebenswuerdig\": 2318, \"schaffte\": 2319, \"menschlich\": 2320, \"sieger\": 2321, \"kunst\": 2322, \"geriet\": 2323, \"verwende\": 2324, \"moench\": 2325, \"verliere\": 2326, \"bewege\": 2327, \"hinterlistig\": 2328, \"laune\": 2329, \"nah\": 2330, \"steckt\": 2331, \"windig\": 2332, \"kommentar\": 2333, \"ersetzen\": 2334, \"beeile\": 2335, \"riech\": 2336, \"schummelt\": 2337, \"vergass\": 2338, \"kaempfte\": 2339, \"gehauen\": 2340, \"aechzte\": 2341, \"malt\": 2342, \"telefonierte\": 2343, \"telefoniert\": 2344, \"betete\": 2345, \"rauchte\": 2346, \"schnarcht\": 2347, \"strengen\": 2348, \"groessere\": 2349, \"holz\": 2350, \"schuldest\": 2351, \"form\": 2352, \"tolerant\": 2353, \"fischen\": 2354, \"lach\": 2355, \"ausbrechen\": 2356, \"starren\": 2357, \"sorge\": 2358, \"werfen\": 2359, \"werft\": 2360, \"mumm\": 2361, \"lenkte\": 2362, \"stockbesoffen\": 2363, \"merkwuerdig\": 2364, \"doesen\": 2365, \"online\": 2366, \"netz\": 2367, \"groesser\": 2368, \"dreihundert\": 2369, \"bargeld\": 2370, \"jazzmusik\": 2371, \"rindfleisch\": 2372, \"erholt\": 2373, \"gesorgt\": 2374, \"benzin\": 2375, \"gelegen\": 2376, \"geruehrt\": 2377, \"teilnehmen\": 2378, \"absagen\": 2379, \"nachsehen\": 2380, \"verwenden\": 2381, \"siebzehn\": 2382, \"eigenbroetler\": 2383, \"krankenpfleger\": 2384, \"angsthase\": 2385, \"summe\": 2386, \"schulden\": 2387, \"selbstsuechtig\": 2388, \"erschrocken\": 2389, \"ignoriere\": 2390, \"naechster\": 2391, \"neblig\": 2392, \"zugelassen\": 2393, \"waer\\'s\": 2394, \"real\": 2395, \"brechen\": 2396, \"yen\": 2397, \"faelschung\": 2398, \"geheim\": 2399, \"drueber\": 2400, \"wir\\'s\": 2401, \"studieren\": 2402, \"wuensch\": 2403, \"agree\": 2404, \"schickt\": 2405, \"handeln\": 2406, \"vorbeigekommen\": 2407, \"umarmten\": 2408, \"mist\": 2409, \"blinzelte\": 2410, \"jubelte\": 2411, \"klatschte\": 2412, \"entschieden\": 2413, \"ertrank\": 2414, \"drein\": 2415, \"versteht\": 2416, \"grinste\": 2417, \"deprimiert\": 2418, \"guetig\": 2419, \"eitel\": 2420, \"malte\": 2421, \"abgelehnt\": 2422, \"schwitzte\": 2423, \"geschwitzt\": 2424, \"stolperte\": 2425, \"scharf\": 2426, \"betruebt\": 2427, \"aussteigen\": 2428, \"bescheuert\": 2429, \"unzuverlaessig\": 2430, \"unternehmungslustig\": 2431, \"drehe\": 2432, \"waehlt\": 2433, \"stecken\": 2434, \"gemogelt\": 2435, \"geweckt\": 2436, \"gibt\\'s\": 2437, \"auszugehen\": 2438, \"realistisch\": 2439, \"seh\": 2440, \"sachte\": 2441, \"geister\": 2442, \"ostern\": 2443, \"froehliche\": 2444, \"imbiss\": 2445, \"meidet\": 2446, \"stritt\": 2447, \"sitzenlassen\": 2448, \"franzose\": 2449, \"unleidlich\": 2450, \"hinaus\": 2451, \"laeufer\": 2452, \"unterstuetze\": 2453, \"barbarisch\": 2454, \"romantisch\": 2455, \"entschuldigte\": 2456, \"stoert\": 2457, \"lebendig\": 2458, \"kuli\": 2459, \"improvisierte\": 2460, \"improvisiert\": 2461, \"erfunden\": 2462, \"sputen\": 2463, \"angestrengt\": 2464, \"verspaete\": 2465, \"nachschauen\": 2466, \"jaeger\": 2467, \"purist\": 2468, \"veranlagt\": 2469, \"erwartet\": 2470, \"kaempfe\": 2471, \"verkatert\": 2472, \"heilige\": 2473, \"erbarmen\": 2474, \"erschreckte\": 2475, \"fluch\": 2476, \"skurril\": 2477, \"renn\": 2478, \"ratet\": 2479, \"raten\": 2480, \"aufhoert\": 2481, \"unterbrechen\": 2482, \"taten\": 2483, \"blicke\": 2484, \"heb\": 2485, \"hebt\": 2486, \"schaem\": 2487, \"erschoss\": 2488, \"weilchen\": 2489, \"filmen\": 2490, \"kommando\": 2491, \"heissen\": 2492, \"entkamen\": 2493, \"nahrung\": 2494, \"unseres\": 2495, \"ekelhaft\": 2496, \"schnitt\": 2497, \"grimassen\": 2498, \"schimpfte\": 2499, \"veteran\": 2500, \"ex\": 2501, \"moege\": 2502, \"widersprach\": 2503, \"ausgebrochen\": 2504, \"thomas\": 2505, \"erzaehlte\": 2506, \"verspaetete\": 2507, \"pfiff\": 2508, \"erstaunt\": 2509, \"heult\": 2510, \"traue\": 2511, \"gebrauch\": 2512, \"unheimlich\": 2513, \"assen\": 2514, \"schauten\": 2515, \"sassen\": 2516, \"fuerchten\": 2517, \"vorurteile\": 2518, \"geschlossen\": 2519, \"niete\": 2520, \"faengt\": 2521, \"stirbst\": 2522, \"scharfsinnig\": 2523, \"hinzu\": 2524, \"irgendwelche\": 2525, \"fan\": 2526, \"langweilt\": 2527, \"langweilen\": 2528, \"backen\": 2529, \"artig\": 2530, \"reinigen\": 2531, \"weggegangen\": 2532, \"toete\": 2533, \"hosentraeger\": 2534, \"englaender\": 2535, \"rollschuh\": 2536, \"gefiel\": 2537, \"bekifft\": 2538, \"erblindet\": 2539, \"miesepeter\": 2540, \"tokyo\": 2541, \"blutete\": 2542, \"verspaetet\": 2543, \"huste\": 2544, \"niese\": 2545, \"zusehen\": 2546, \"befehle\": 2547, \"manches\": 2548, \"knoblauch\": 2549, \"filme\": 2550, \"reggae\": 2551, \"lachs\": 2552, \"tulpen\": 2553, \"natur\": 2554, \"veranlasst\": 2555, \"faust\": 2556, \"gekocht\": 2557, \"zubereitet\": 2558, \"wehren\": 2559, \"geige\": 2560, \"violine\": 2561, \"respektiere\": 2562, \"twitter\": 2563, \"besucht\": 2564, \"zumute\": 2565, \"wandern\": 2566, \"gedichte\": 2567, \"gefiele\": 2568, \"zulassen\": 2569, \"verhindern\": 2570, \"patient\": 2571, \"rotschopf\": 2572, \"schuelerin\": 2573, \"geschmeichelt\": 2574, \"wahrhaben\": 2575, \"lama\": 2576, \"ernstes\": 2577, \"peruecke\": 2578, \"latein\": 2579, \"rechtens\": 2580, \"tatsaechlich\": 2581, \"m\": 2582, \"samstag\": 2583, \"trifft\": 2584, \"gelaufen\": 2585, \"ofen\": 2586, \"wunderschoen\": 2587, \"verbessert\": 2588, \"zahle\": 2589, \"befindet\": 2590, \"feger\": 2591, \"rueckenschmerzen\": 2592, \"feuchtes\": 2593, \"eulen\": 2594, \"lest\": 2595, \"wuerfel\": 2596, \"wuerfle\": 2597, \"wuerfele\": 2598, \"wuerfeln\": 2599, \"abserviert\": 2600, \"aktiv\": 2601, \"laeuferin\": 2602, \"fuchsteufelswild\": 2603, \"deutlich\": 2604, \"lasse\": 2605, \"misch\": 2606, \"richte\": 2607, \"kopie\": 2608, \"tatsache\": 2609, \"zeichen\": 2610, \"glocke\": 2611, \"gewannen\": 2612, \"besteht\": 2613, \"verschwanden\": 2614, \"gutgehen\": 2615, \"dvd\": 2616, \"rannten\": 2617, \"gespendet\": 2618, \"gebeichtet\": 2619, \"trainiert\": 2620, \"sportler\": 2621, \"vati\": 2622, \"verrucht\": 2623, \"stuermte\": 2624, \"zeigte\": 2625, \"gezeigt\": 2626, \"angeschrieben\": 2627, \"beaengstigend\": 2628, \"erblasste\": 2629, \"westen\": 2630, \"zoomte\": 2631, \"verunsichert\": 2632, \"humpelt\": 2633, \"packt\": 2634, \"ruht\": 2635, \"prima\": 2636, \"werkzeug\": 2637, \"fasten\": 2638, \"freundinnen\": 2639, \"befreundet\": 2640, \"sinken\": 2641, \"angestellt\": 2642, \"wirkst\": 2643, \"verdorben\": 2644, \"scheinst\": 2645, \"geeignet\": 2646, \"schlaefst\": 2647, \"kaefig\": 2648, \"haelften\": 2649, \"schneiden\": 2650, \"abgeschnitten\": 2651, \"haeltst\": 2652, \"leugnen\": 2653, \"aergere\": 2654, \"kauf\": 2655, \"geniesse\": 2656, \"reihen\": 2657, \"steige\": 2658, \"steigt\": 2659, \"entledigen\": 2660, \"glueckwunsch\": 2661, \"fuerchtet\": 2662, \"haelt\": 2663, \"respektiert\": 2664, \"gelaehmt\": 2665, \"fanatiker\": 2666, \"faulpelz\": 2667, \"tier\": 2668, \"gesetzloser\": 2669, \"bremse\": 2670, \"eurem\": 2671, \"schuechterner\": 2672, \"hundemuede\": 2673, \"london\": 2674, \"befinde\": 2675, \"banane\": 2676, \"statt\": 2677, \"zaehle\": 2678, \"verachtet\": 2679, \"treibe\": 2680, \"uebers\": 2681, \"fruehaufsteher\": 2682, \"nietenhose\": 2683, \"juristen\": 2684, \"dreizehn\": 2685, \"laster\": 2686, \"nudeln\": 2687, \"jagen\": 2688, \"schildkroeten\": 2689, \"karotten\": 2690, \"hobby\": 2691, \"privatsphaere\": 2692, \"operiert\": 2693, \"schluckauf\": 2694, \"besitze\": 2695, \"bezahle\": 2696, \"koreanisch\": 2697, \"unterrichte\": 2698, \"nannte\": 2699, \"bog\": 2700, \"normalerweise\": 2701, \"gefoltert\": 2702, \"trage\": 2703, \"mitbringen\": 2704, \"erschiessen\": 2705, \"tante\": 2706, \"freier\": 2707, \"reicher\": 2708, \"eilig\": 2709, \"meditiere\": 2710, \"ferien\": 2711, \"ueberarbeitet\": 2712, \"aelteste\": 2713, \"untalentiert\": 2714, \"talent\": 2715, \"laechelt\": 2716, \"lecker\": 2717, \"nagelneu\": 2718, \"riskant\": 2719, \"entschuldigt\": 2720, \"ueberlasse\": 2721, \"ueberlasst\": 2722, \"ueberlassen\": 2723, \"ueben\": 2724, \"starben\": 2725, \"gesetzt\": 2726, \"preise\": 2727, \"robben\": 2728, \"bestellen\": 2729, \"verehrt\": 2730, \"wild\": 2731, \"aergerte\": 2732, \"schwanger\": 2733, \"erzaehle\": 2734, \"waeren\": 2735, \"huhn\": 2736, \"korrekt\": 2737, \"illegal\": 2738, \"lautet\": 2739, \"dach\": 2740, \"haken\": 2741, \"konnten\": 2742, \"gestritten\": 2743, \"erreicht\": 2744, \"denken\": 2745, \"ueberlegen\": 2746, \"ueberlegt\": 2747, \"beschwert\": 2748, \"grub\": 2749, \"geschnappt\": 2750, \"rosen\": 2751, \"schritt\": 2752, \"eingeschritten\": 2753, \"minderjaehrig\": 2754, \"hingebungsvoll\": 2755, \"geizig\": 2756, \"ungezogen\": 2757, \"keucht\": 2758, \"freut\": 2759, \"egoistisch\": 2760, \"besonderes\": 2761, \"verwoehnt\": 2762, \"unbeeindruckt\": 2763, \"unversehrt\": 2764, \"bleich\": 2765, \"innen\": 2766, \"erinnerte\": 2767, \"gruessen\": 2768, \"gestochen\": 2769, \"gestoppt\": 2770, \"heulte\": 2771, \"sanft\": 2772, \"empfindlich\": 2773, \"verhandeln\": 2774, \"eifrig\": 2775, \"verbessern\": 2776, \"gelaunt\": 2777, \"trauert\": 2778, \"mittellos\": 2779, \"labil\": 2780, \"wasche\": 2781, \"passen\": 2782, \"vermaehlt\": 2783, \"anhalten\": 2784, \"brauchten\": 2785, \"ausgetrickst\": 2786, \"haetten\": 2787, \"geldautomaten\": 2788, \"trinkgeld\": 2789, \"widerst\": 2790, \"lernst\": 2791, \"summst\": 2792, \"gewinnst\": 2793, \"eurer\": 2794, \"getraenke\": 2795, \"geist\": 2796, \"honig\": 2797, \"benehmt\": 2798, \"benehmen\": 2799, \"buerste\": 2800, \"aufmachen\": 2801, \"raeum\": 2802, \"kraehen\": 2803, \"zugestimmt\": 2804, \"reagiert\": 2805, \"glaubst\": 2806, \"vertraust\": 2807, \"beleidige\": 2808, \"parken\": 2809, \"wunde\": 2810, \"taschen\": 2811, \"schoene\": 2812, \"froesche\": 2813, \"sachen\": 2814, \"mitleid\": 2815, \"kamera\": 2816, \"reizt\": 2817, \"maler\": 2818, \"uebersinnliche\": 2819, \"erwaehnt\": 2820, \"lernte\": 2821, \"gaertner\": 2822, \"linkshaender\": 2823, \"fotogen\": 2824, \"album\": 2825, \"gekostet\": 2826, \"verabscheue\": 2827, \"tokio\": 2828, \"patsche\": 2829, \"apfelsine\": 2830, \"reserviert\": 2831, \"rauch\": 2832, \"genauso\": 2833, \"einzukaufen\": 2834, \"kaelte\": 2835, \"hochzeiten\": 2836, \"trockene\": 2837, \"eingezogen\": 2838, \"geduscht\": 2839, \"niesen\": 2840, \"lache\": 2841, \"interesse\": 2842, \"wiedergesehen\": 2843, \"eingeschaetzt\": 2844, \"armee\": 2845, \"leiter\": 2846, \"rasieren\": 2847, \"schuettelte\": 2848, \"roch\": 2849, \"speck\": 2850, \"vitamine\": 2851, \"gestimmt\": 2852, \"gleiche\": 2853, \"zeuge\": 2854, \"geboren\": 2855, \"skeptisch\": 2856, \"gabel\": 2857, \"verteidigen\": 2858, \"kooperieren\": 2859, \"mitarbeiten\": 2860, \"gast\": 2861, \"rivale\": 2862, \"detektiv\": 2863, \"schuetze\": 2864, \"hausfrau\": 2865, \"professor\": 2866, \"professorin\": 2867, \"bereich\": 2868, \"streite\": 2869, \"beharrlich\": 2870, \"peinlich\": 2871, \"autistisch\": 2872, \"blufft\": 2873, \"kaempft\": 2874, \"gutaussehend\": 2875, \"freitag\": 2876, \"notwendig\": 2877, \"abkuerzung\": 2878, \"wetter\": 2879, \"laecherlich\": 2880, \"rest\": 2881, \"betrachte\": 2882, \"serviert\": 2883, \"aendert\": 2884, \"aufgegangen\": 2885, \"feiern\": 2886, \"setze\": 2887, \"drogen\": 2888, \"worauf\": 2889, \"saengerin\": 2890, \"ohrfeigte\": 2891, \"erstochen\": 2892, \"langgeht\": 2893, \"buchstabieren\": 2894, \"glatt\": 2895, \"kindisch\": 2896, \"kleid\": 2897, \"persoenlich\": 2898, \"stank\": 2899, \"bezahlung\": 2900, \"strom\": 2901, \"trocken\": 2902, \"melonen\": 2903, \"verdienen\": 2904, \"fuhren\": 2905, \"ignorierten\": 2906, \"russen\": 2907, \"streiten\": 2908, \"hotel\": 2909, \"jene\": 2910, \"zeiten\": 2911, \"jedem\": 2912, \"backte\": 2913, \"stumm\": 2914, \"verursacht\": 2915, \"leistete\": 2916, \"beitrag\": 2917, \"bestritten\": 2918, \"ruehrte\": 2919, \"geniesst\": 2920, \"erregt\": 2921, \"gesellschaft\": 2922, \"geheimnisse\": 2923, \"vorschriften\": 2924, \"inspiriert\": 2925, \"einsiedler\": 2926, \"prinz\": 2927, \"rassist\": 2928, \"raucher\": 2929, \"komischer\": 2930, \"barfuss\": 2931, \"sorglos\": 2932, \"charmant\": 2933, \"froehlich\": 2934, \"ahnungslos\": 2935, \"ausschlaggebend\": 2936, \"ertrinkt\": 2937, \"flexibel\": 2938, \"unbeweglich\": 2939, \"schock\": 2940, \"kniet\": 2941, \"gehorsam\": 2942, \"einkaufen\": 2943, \"angewidert\": 2944, \"unruhig\": 2945, \"kontaktfreudig\": 2946, \"verhungert\": 2947, \"starrkoepfig\": 2948, \"selbstmordgefaehrdet\": 2949, \"taff\": 2950, \"sprang\": 2951, \"toetete\": 2952, \"beugte\": 2953, \"gewohnt\": 2954, \"toller\": 2955, \"baeren\": 2956, \"bremste\": 2957, \"ergeben\": 2958, \"beleidigend\": 2959, \"alarmiert\": 2960, \"fliehen\": 2961, \"charmeur\": 2962, \"genial\": 2963, \"aufzuhalten\": 2964, \"verhafteten\": 2965, \"verhaftet\": 2966, \"nahmen\": 2967, \"umgezogen\": 2968, \"getrennt\": 2969, \"seelenverwandt\": 2970, \"hattest\": 2971, \"sagst\": 2972, \"kumpel\": 2973, \"kamm\": 2974, \"beitraege\": 2975, \"weshalb\": 2976, \"erholen\": 2977, \"leidtun\": 2978, \"traeumst\": 2979, \"spielst\": 2980, \"ans\": 2981, \"katholisch\": 2982, \"studierst\": 2983, \"irgendwas\": 2984, \"aufpassen\": 2985, \"atmen\": 2986, \"zwinge\": 2987, \"bekennen\": 2988, \"bedacht\": 2989, \"unterricht\": 2990, \"spiegel\": 2991, \"konzentriere\": 2992, \"beherrsche\": 2993, \"reiss\": 2994, \"normales\": 2995, \"etwa\": 2996, \"lebst\": 2997, \"stoere\": 2998, \"taeusche\": 2999, \"verpetzt\": 3000, \"blieben\": 3001, \"gemerkt\": 3002, \"erklaere\": 3003, \"tank\": 3004, \"getraenk\": 3005, \"schirm\": 3006, \"muffins\": 3007, \"buk\": 3008, \"verhalten\": 3009, \"jagt\": 3010, \"alkohol\": 3011, \"freigesprochen\": 3012, \"frankreich\": 3013, \"gentleman\": 3014, \"historiker\": 3015, \"geschichtswissenschaftler\": 3016, \"intelligent\": 3017, \"hiess\": 3018, \"seiner\": 3019, \"gewalt\": 3020, \"auswaerts\": 3021, \"scheiss\": 3022, \"schwitzen\": 3023, \"beklagen\": 3024, \"ertragen\": 3025, \"comics\": 3026, \"gestellt\": 3027, \"keines\": 3028, \"schmerz\": 3029, \"muetze\": 3030, \"schaetze\": 3031, \"schlimme\": 3032, \"chemie\": 3033, \"pest\": 3034, \"quittung\": 3035, \"video\": 3036, \"home\": 3037, \"run\": 3038, \"vornamen\": 3039, \"australien\": 3040, \"sprachen\": 3041, \"strand\": 3042, \"portemonnaie\": 3043, \"abenteuer\": 3044, \"klempner\": 3045, \"hose\": 3046, \"bestellte\": 3047, \"heimgehen\": 3048, \"beschuetzen\": 3049, \"uebersetzerin\": 3050, \"uebersetzer\": 3051, \"backe\": 3052, \"unzufrieden\": 3053, \"amerika\": 3054, \"lade\": 3055, \"rechtshaenderin\": 3056, \"hochzufrieden\": 3057, \"eignet\": 3058, \"bissig\": 3059, \"zappenduster\": 3060, \"stockfinster\": 3061, \"bestimmt\": 3062, \"bequem\": 3063, \"verrichte\": 3064, \"triff\": 3065, \"planet\": 3066, \"deutsches\": 3067, \"juckt\": 3068, \"kennenzulernen\": 3069, \"schweiss\": 3070, \"stehengeblieben\": 3071, \"zuruecktreten\": 3072, \"reifen\": 3073, \"artikel\": 3074, \"tuberkulose\": 3075, \"scheiden\": 3076, \"bmw\": 3077, \"eigensinnig\": 3078, \"abgekommen\": 3079, \"kamel\": 3080, \"ueberraschte\": 3081, \"verspaetung\": 3082, \"schluck\": 3083, \"duftet\": 3084, \"vorhang\": 3085, \"klingel\": 3086, \"nennt\": 3087, \"verfolgen\": 3088, \"pathetisch\": 3089, \"pathos\": 3090, \"bewundert\": 3091, \"schlug\": 3092, \"warf\": 3093, \"erhielt\": 3094, \"aengstlich\": 3095, \"aufgewachsen\": 3096, \"ehrgeiz\": 3097, \"immunitaet\": 3098, \"oliven\": 3099, \"schwarze\": 3100, \"boeser\": 3101, \"hellseher\": 3102, \"engagiert\": 3103, \"kompetent\": 3104, \"gestoert\": 3105, \"impulsiv\": 3106, \"unausstehlich\": 3107, \"widerspenstig\": 3108, \"schwaecher\": 3109, \"kauft\": 3110, \"schob\": 3111, \"arbeitsplatz\": 3112, \"schalt\": 3113, \"schlurfte\": 3114, \"studierte\": 3115, \"eingeaeschert\": 3116, \"eingesperrt\": 3117, \"ermordet\": 3118, \"trophaee\": 3119, \"stellt\": 3120, \"ebenfalls\": 3121, \"fruehstueck\": 3122, \"meditieren\": 3123, \"albtraum\": 3124, \"alptraum\": 3125, \"ausgang\": 3126, \"hamlet\": 3127, \"wessen\": 3128, \"zitieren\": 3129, \"therapie\": 3130, \"rotes\": 3131, \"kerzen\": 3132, \"hierhergekommen\": 3133, \"beschaeftigten\": 3134, \"maisgruetze\": 3135, \"enttaeusch\": 3136, \"enttaeuschen\": 3137, \"fehle\": 3138, \"schrien\": 3139, \"irgendwo\": 3140, \"braune\": 3141, \"braunes\": 3142, \"kurzes\": 3143, \"kleine\": 3144, \"verdrehte\": 3145, \"gleichen\": 3146, \"verlange\": 3147, \"sauerkraut\": 3148, \"gemocht\": 3149, \"zurueckgelassen\": 3150, \"schwebe\": 3151, \"gruess\": 3152, \"potzdonner\": 3153, \"donnerwetter\": 3154, \"huelf\": 3155, \"aha\": 3156, \"stehenbleiben\": 3157, \"hingefallen\": 3158, \"gestuerzt\": 3159, \"ausgeschlossen\": 3160, \"keinster\": 3161, \"leb\": 3162, \"tschuess\": 3163, \"schlagt\": 3164, \"druecken\": 3165, \"halt\\'s\": 3166, \"maul\": 3167, \"laeufst\": 3168, \"beheben\": 3169, \"behebe\": 3170, \"hinlegen\": 3171, \"greif\": 3172, \"runden\": 3173, \"trete\": 3174, \"dageblieben\": 3175, \"gegaehnt\": 3176, \"glatzkoepfig\": 3177, \"zutritt\": 3178, \"kuesse\": 3179, \"heirate\": 3180, \"rettet\": 3181, \"gezahlt\": 3182, \"warne\": 3183, \"ausgeschieden\": 3184, \"fire\": 3185, \"fange\": 3186, \"fuehl\": 3187, \"hol\\'s\": 3188, \"plattenaufleger\": 3189, \"versprech\\'s\": 3190, \"verspreche\": 3191, \"kasse\": 3192, \"geheilt\": 3193, \"brannte\": 3194, \"verbrannte\": 3195, \"fuenfundvierzig\": 3196, \"neun\": 3197, \"kuehl\": 3198, \"unsers\": 3199, \"lieg\": 3200, \"hinten\": 3201, \"rutsch\": 3202, \"selbstverstaendlich\": 3203, \"ah\": 3204, \"siehe\": 3205, \"unterschreibe\": 3206, \"unterschreib\": 3207, \"harre\": 3208, \"uebernehmt\": 3209, \"k\": 3210, \"war\\'s\": 3211, \"fielen\": 3212, \"stuerzten\": 3213, \"schwammen\": 3214, \"verneigte\": 3215, \"erstarrte\": 3216, \"strickt\": 3217, \"entsperr\": 3218, \"stimmten\": 3219, \"herrlich\": 3220, \"faehrst\": 3221, \"faengst\": 3222, \"stinkst\": 3223, \"hast\\'s\": 3224, \"zielt\": 3225, \"antwortet\": 3226, \"obacht\": 3227, \"pruefen\": 3228, \"volltanken\": 3229, \"existiert\": 3230, \"fies\": 3231, \"schweizer\": 3232, \"absurd\": 3233, \"tragisch\": 3234, \"geb\": 3235, \"kaue\": 3236, \"kaugummi\": 3237, \"getrunkten\": 3238, \"vernommen\": 3239, \"gefaellst\": 3240, \"tust\": 3241, \"gekotzt\": 3242, \"erbrochen\": 3243, \"ruppig\": 3244, \"reingehen\": 3245, \"blutarmut\": 3246, \"mollig\": 3247, \"immun\": 3248, \"reif\": 3249, \"ausgeruht\": 3250, \"modeerscheinung\": 3251, \"voruebergehende\": 3252, \"sperrig\": 3253, \"unhandlich\": 3254, \"glaenzt\": 3255, \"lasset\": 3256, \"abstimmen\": 3257, \"vorausschauend\": 3258, \"kuck\": 3259, \"draus\": 3260, \"beruhigt\": 3261, \"ersetze\": 3262, \"tausche\": 3263, \"tauschen\": 3264, \"ersetzt\": 3265, \"tauscht\": 3266, \"beginne\": 3267, \"lern\": 3268, \"schmeck\": 3269, \"betrueblich\": 3270, \"mogeln\": 3271, \"schummeln\": 3272, \"betruegen\": 3273, \"schliefen\": 3274, \"abgestimmt\": 3275, \"genuegen\": 3276, \"stiess\": 3277, \"mogelt\": 3278, \"tanzte\": 3279, \"versagte\": 3280, \"japste\": 3281, \"dummen\": 3282, \"gehorchte\": 3283, \"fuegte\": 3284, \"gefuegt\": 3285, \"inne\": 3286, \"geraucht\": 3287, \"heulen\": 3288, \"abbiegen\": 3289, \"wart\\'\": 3290, \"unseren\": 3291, \"rasteten\": 3292, \"quitt\": 3293, \"bestimmst\": 3294, \"troeste\": 3295, \"troestet\": 3296, \"troesten\": 3297, \"streitet\": 3298, \"starr\": 3299, \"starrt\": 3300, \"vergebt\": 3301, \"verhasst\": 3302, \"stinkreich\": 3303, \"stockbetrunken\": 3304, \"steht\\'s\": 3305, \"geschwaenzt\": 3306, \"gezoegert\": 3307, \"beides\": 3308, \"kleber\": 3309, \"fliegende\": 3310, \"untertasse\": 3311, \"ergebe\": 3312, \"bares\": 3313, \"langweilte\": 3314, \"einsteigen\": 3315, \"baecker\": 3316, \"faste\": 3317, \"verschuldet\": 3318, \"hinweg\": 3319, \"ignorieren\": 3320, \"gesetzlich\": 3321, \"schmeckt\\'s\": 3322, \"nebel\": 3323, \"fuenfzig\": 3324, \"bewoelkt\": 3325, \"gift\": 3326, \"eilt\": 3327, \"dringlich\": 3328, \"hinueber\": 3329, \"nachpruefen\": 3330, \"angriff\": 3331, \"hochgehen\": 3332, \"praeg\": 3333, \"praegt\": 3334, \"praegen\": 3335, \"regiert\": 3336, \"timing\": 3337, \"schiesst\": 3338, \"verabschiede\": 3339, \"verabschiedet\": 3340, \"erroetete\": 3341, \"thief\": 3342, \"beiss\": 3343, \"handele\": 3344, \"geil\": 3345, \"gratis\": 3346, \"brannten\": 3347, \"riefen\": 3348, \"tanzten\": 3349, \"drueckten\": 3350, \"kuessten\": 3351, \"veraenderte\": 3352, \"atmete\": 3353, \"runzelte\": 3354, \"stirn\": 3355, \"finster\": 3356, \"freute\": 3357, \"haemisch\": 3358, \"zwaengen\": 3359, \"zwangserkrankung\": 3360, \"eingeatmet\": 3361, \"schallplattenunterhalter\": 3362, \"kahl\": 3363, \"hammertyp\": 3364, \"ruepel\": 3365, \"weggelaufen\": 3366, \"entspannte\": 3367, \"rutschte\": 3368, \"ausgerutscht\": 3369, \"nieste\": 3370, \"gestolpert\": 3371, \"angesagt\": 3372, \"cnn\": 3373, \"hoelle\": 3374, \"drecksloch\": 3375, \"verlust\": 3376, \"team\": 3377, \"ego\": 3378, \"gejubelt\": 3379, \"zubereiten\": 3380, \"woran\": 3381, \"gehoerst\": 3382, \"melde\": 3383, \"meldet\": 3384, \"tretet\": 3385, \"melden\": 3386, \"beschreibe\": 3387, \"unterschrieben\": 3388, \"rauchst\": 3389, \"lehrst\": 3390, \"merkt\": 3391, \"graeme\": 3392, \"porzellankiste\": 3393, \"holt\": 3394, \"existieren\": 3395, \"drumrum\": 3396, \"haendige\": 3397, \"schneidet\": 3398, \"stinkig\": 3399, \"speist\": 3400, \"soeben\": 3401, \"treuherzig\": 3402, \"religioeser\": 3403, \"eiferer\": 3404, \"unterstuetzen\": 3405, \"unterstuetzt\": 3406, \"ehrlichkeit\": 3407, \"zahlt\": 3408, \"beruehrend\": 3409, \"chinese\": 3410, \"chinesin\": 3411, \"bete\": 3412, \"kaviar\": 3413, \"ruelpse\": 3414, \"zeichnen\": 3415, \"verdiene\": 3416, \"tests\": 3417, \"nesselsucht\": 3418, \"umarmung\": 3419, \"loewen\": 3420, \"stern\": 3421, \"vorbeikommen\": 3422, \"kriege\": 3423, \"verfallen\": 3424, \"blute\": 3425, \"bluffe\": 3426, \"einigermassen\": 3427, \"ertrinke\": 3428, \"ertrinken\": 3429, \"legastheniker\": 3430, \"legasthenikerin\": 3431, \"friere\": 3432, \"hausarrest\": 3433, \"perth\": 3434, \"stau\": 3435, \"aufstaendischer\": 3436, \"aufstaendische\": 3437, \"ruhelos\": 3438, \"schiesse\": 3439, \"untroestlich\": 3440, \"kitzlig\": 3441, \"nachgeschaut\": 3442, \"spinne\": 3443, \"eisen\": 3444, \"hirsch\": 3445, \"wolf\": 3446, \"begonnen\": 3447, \"frucht\": 3448, \"pflanze\": 3449, \"schnaeppchen\": 3450, \"fuers\": 3451, \"hagelt\": 3452, \"geruecht\": 3453, \"niedrig\": 3454, \"rauskommst\": 3455, \"red\": 3456, \"dazwischengehen\": 3457, \"huefte\": 3458, \"scherte\": 3459, \"enspannt\": 3460, \"enspann\": 3461, \"fassung\": 3462, \"glotzen\": 3463, \"traeum\": 3464, \"nimm\\'s\": 3465, \"jubelten\": 3466, \"weigerten\": 3467, \"entspannten\": 3468, \"erholten\": 3469, \"hielten\": 3470, \"schwitzten\": 3471, \"merken\": 3472, \"mitkriegen\": 3473, \"gefaelscht\": 3474, \"grauslich\": 3475, \"klappen\": 3476, \"billigt\": 3477, \"eingebrochen\": 3478, \"baute\": 3479, \"gluckste\": 3480, \"anwerben\": 3481, \"verirrte\": 3482, \"grimassierte\": 3483, \"verzog\": 3484, \"murrte\": 3485, \"maulte\": 3486, \"motzte\": 3487, \"akne\": 3488, \"beharrte\": 3489, \"bestand\": 3490, \"brutal\": 3491, \"gebrechlich\": 3492, \"beglueckt\": 3493, \"fettleibig\": 3494, \"pfiffig\": 3495, \"albern\": 3496, \"veganer\": 3497, \"weisser\": 3498, \"erhob\": 3499, \"einspruch\": 3500, \"versprach\": 3501, \"eingelenkt\": 3502, \"nachgegeben\": 3503, \"zitterte\": 3504, \"zuckte\": 3505, \"achseln\": 3506, \"geblinzelt\": 3507, \"stottert\": 3508, \"keinem\": 3509, \"abwarten\": 3510, \"araber\": 3511, \"bereiteten\": 3512, \"blickten\": 3513, \"trauen\": 3514, \"greifen\": 3515, \"angreifen\": 3516, \"null\": 3517, \"schande\": 3518, \"dankst\": 3519, \"daumen\": 3520, \"vergingen\": 3521, \"amuesierst\": 3522, \"mitkommen\": 3523, \"erhitzt\": 3524, \"beaengstigst\": 3525, \"beaengstigen\": 3526, \"bleibst\": 3527, \"liegst\": 3528, \"eklig\": 3529, \"durchtrieben\": 3530, \"drueckst\": 3531, \"angefahren\": 3532, \"langweilst\": 3533, \"untergliedere\": 3534, \"abreissen\": 3535, \"detailliere\": 3536, \"buchstabier\": 3537, \"skaten\": 3538, \"kapierst\": 3539, \"beachtet\": 3540, \"schubs\": 3541, \"schubst\": 3542, \"reagier\": 3543, \"hetz\": 3544, \"kreis\": 3545, \"spuel\": 3546, \"erbsen\": 3547, \"ausatmen\": 3548, \"fuettere\": 3549, \"fuettert\": 3550, \"bluehen\": 3551, \"spiegelei\": 3552, \"ruhen\": 3553, \"verzisch\": 3554, \"segne\": 3555, \"augenblickchen\": 3556, \"schinken\": 3557, \"beraet\": 3558, \"netztagebuch\": 3559, \"zahnspange\": 3560, \"skateboard\": 3561, \"skatet\": 3562, \"vorzeitig\": 3563, \"belogen\": 3564, \"fortgeschickt\": 3565, \"bemueht\": 3566, \"gesteinigt\": 3567, \"oesterreicher\": 3568, \"noergler\": 3569, \"meckerfritze\": 3570, \"jesuit\": 3571, \"autist\": 3572, \"bedien\": 3573, \"bedienen\": 3574, \"hieressen\": 3575, \"amerikanerin\": 3576, \"spueren\": 3577, \"herbeigefuehrt\": 3578, \"beigetragen\": 3579, \"verachte\": 3580, \"hingesehen\": 3581, \"spuere\": 3582, \"flau\": 3583, \"schlechtes\": 3584, \"gewissen\": 3585, \"ausgeflippt\": 3586, \"ausgerastet\": 3587, \"sellerie\": 3588, \"schnupfen\": 3589, \"leide\": 3590, \"verabredung\": 3591, \"visum\": 3592, \"gesuendigt\": 3593, \"franzoesische\": 3594, \"uhren\": 3595, \"kamele\": 3596, \"spielfilme\": 3597, \"aufgegossen\": 3598, \"rausgehen\": 3599, \"weigern\": 3600, \"ankaempfen\": 3601, \"kredit\": 3602, \"briefmarken\": 3603, \"zurueckgetan\": 3604, \"bedankte\": 3605, \"krone\": 3606, \"kann\\'s\": 3607, \"pferdchen\": 3608, \"pony\": 3609, \"schwimmbecken\": 3610, \"geschaemt\": 3611, \"zugesehen\": 3612, \"lieder\": 3613, \"ausrufen\": 3614, \"uebernehme\": 3615, \"sag\\'s\": 3616, \"krueppel\": 3617, \"patientin\": 3618, \"suechtiger\": 3619, \"waisenkind\": 3620, \"depressiv\": 3621, \"gang\": 3622, \"fledermaus\": 3623, \"auseinander\": 3624, \"ueblen\": 3625, \"geruch\": 3626, \"frostig\": 3627, \"wehtun\": 3628, \"abends\": 3629, \"pilz\": 3630, \"unmenschlich\": 3631, \"mitternacht\": 3632, \"veraltet\": 3633, \"bullen\": 3634, \"schiech\": 3635, \"entsperrt\": 3636, \"freigeschaltet\": 3637, \"kontrollier\\'s\": 3638, \"kontrolliert\\'s\": 3639, \"verzieht\": 3640, \"verschwindet\": 3641, \"beschaeftige\": 3642, \"trab\": 3643, \"klettere\": 3644, \"klettern\": 3645, \"klettert\": 3646, \"fasse\": 3647, \"paddel\": 3648, \"paddeln\": 3649, \"belassen\": 3650, \"sterblich\": 3651, \"kreischte\": 3652, \"gefressen\": 3653, \"nacken\": 3654, \"nackenschmerzen\": 3655, \"oh\": 3656, \"beliebige\": 3657, \"bademantel\": 3658, \"schinden\": 3659, \"wiederschauen\": 3660, \"bueckte\": 3661, \"verabscheute\": 3662, \"falsche\": 3663, \"hoffnungen\": 3664, \"vorgemacht\": 3665, \"hoerig\": 3666, \"schnelle\": 3667, \"wut\": 3668, \"blauaeugig\": 3669, \"ruehrt\": 3670, \"zusammenbleiben\": 3671, \"feg\": 3672, \"duschen\": 3673, \"abfuehren\": 3674, \"geschmaecker\": 3675, \"unsres\": 3676, \"unsrer\": 3677, \"unsre\": 3678, \"saturn\": 3679, \"faktum\": 3680, \"mythos\": 3681, \"baum\": 3682, \"machbar\": 3683, \"laeutete\": 3684, \"zerbrach\": 3685, \"siegten\": 3686, \"gesiegt\": 3687, \"kuendigten\": 3688, \"asiaten\": 3689, \"zornig\": 3690, \"dummkoepfe\": 3691, \"spione\": 3692, \"wortspiel\": 3693, \"wahnsinn\": 3694, \"himmelt\": 3695, \"applaudierte\": 3696, \"spendete\": 3697, \"geklatscht\": 3698, \"applaudiert\": 3699, \"gestand\": 3700, \"beichtete\": 3701, \"ertuechtigte\": 3702, \"ertuechtigt\": 3703, \"hochschule\": 3704, \"abschluss\": 3705, \"geknuddelt\": 3706, \"chaot\": 3707, \"weichei\": 3708, \"parteiisch\": 3709, \"pummel\": 3710, \"gerissen\": 3711, \"doest\": 3712, \"schlummert\": 3713, \"witzelt\": 3714, \"liebevoll\": 3715, \"raffiniert\": 3716, \"gesellte\": 3717, \"protestierte\": 3718, \"schubste\": 3719, \"aufgezogen\": 3720, \"wankte\": 3721, \"davor\": 3722, \"achtzig\": 3723, \"aufdringlich\": 3724, \"wortkarg\": 3725, \"angetrunken\": 3726, \"gen\": 3727, \"durchfallen\": 3728, \"erstaunlich\": 3729, \"erstickt\": 3730, \"wuergen\": 3731, \"fuessen\": 3732, \"geschnarcht\": 3733, \"rueckendeckung\": 3734, \"bohnere\": 3735, \"fussboden\": 3736, \"haben\\'s\": 3737, \"halfen\": 3738, \"einziehen\": 3739, \"werden\\'s\": 3740, \"schaemen\": 3741, \"rechtsanwaelte\": 3742, \"stocken\": 3743, \"gewinner\": 3744, \"wurdest\": 3745, \"zirkus\": 3746, \"zugetragen\": 3747, \"uebriggeblieben\": 3748, \"uebrig\": 3749, \"zuschieben\": 3750, \"hilfst\": 3751, \"irrst\": 3752, \"aussichtslos\": 3753, \"schaust\": 3754, \"scheitern\": 3755, \"befangen\": 3756, \"beliebst\": 3757, \"belieben\": 3758, \"verlierst\": 3759, \"bezahlst\": 3760, \"niedertraechtig\": 3761, \"cola\": 3762, \"kleinen\": 3763, \"gestatten\": 3764, \"junggeselle\": 3765, \"voegeln\": 3766, \"boote\": 3767, \"untergehen\": 3768, \"bereiten\": 3769, \"behilflich\": 3770, \"gesellen\": 3771, \"reinige\": 3772, \"gras\": 3773, \"mitten\": 3774, \"halbiere\": 3775, \"entzwei\": 3776, \"sagtet\": 3777, \"mach\\'\": 3778, \"erledige\": 3779, \"schnurren\": 3780, \"leugnest\": 3781, \"betreibst\": 3782, \"betreibt\": 3783, \"betreiben\": 3784, \"recyceln\": 3785, \"recycelst\": 3786, \"recycelt\": 3787, \"aergern\": 3788, \"beschwer\": 3789, \"kuemmer\": 3790, \"gehorch\": 3791, \"fuehren\": 3792, \"bezahlten\": 3793, \"bildet\": 3794, \"bilden\": 3795, \"federn\": 3796, \"entledige\": 3797, \"ran\": 3798, \"leih\": 3799, \"helfende\": 3800, \"kuess\": 3801, \"frohes\": 3802, \"glueckliches\": 3803, \"herzlichen\": 3804, \"geburtstag\": 3805, \"feiertage\": 3806, \"gebeten\": 3807, \"kandidiert\": 3808, \"zwoelf\": 3809, \"zierlich\": 3810, \"rasch\": 3811, \"fleischhauer\": 3812, \"samurai\": 3813, \"jasager\": 3814, \"autor\": 3815, \"exknacki\": 3816, \"pantoffelheld\": 3817, \"schlichtweg\": 3818, \"versteck\": 3819, \"hoehe\": 3820, \"breit\": 3821, \"entgegen\": 3822, \"geheult\": 3823, \"ungar\": 3824, \"ungarin\": 3825, \"leihe\": 3826, \"deinetwegen\": 3827, \"verwendung\": 3828, \"gebrauchen\": 3829, \"durchgefallen\": 3830, \"gluecksspiel\": 3831, \"kapier\": 3832, \"tomaten\": 3833, \"folgte\": 3834, \"garantiere\": 3835, \"herbeigewinkt\": 3836, \"herbeigewunken\": 3837, \"montage\": 3838, \"absolut\": 3839, \"buegeln\": 3840, \"karaoke\": 3841, \"spinat\": 3842, \"pick\": 3843, \"up\": 3844, \"camion\": 3845, \"gedaechtnis\": 3846, \"gedaechtnisverlust\": 3847, \"ehefrau\": 3848, \"schloesser\": 3849, \"angle\": 3850, \"ketchup\": 3851, \"mahjong\": 3852, \"mahjongg\": 3853, \"austern\": 3854, \"saschimi\": 3855, \"meeresfruechte\": 3856, \"geschichten\": 3857, \"unterhalte\": 3858, \"sonne\": 3859, \"angel\": 3860, \"harvard\": 3861, \"mandeln\": 3862, \"nachtisch\": 3863, \"lasagne\": 3864, \"ipod\": 3865, \"partys\": 3866, \"puzzles\": 3867, \"sonnenuntergaenge\": 3868, \"universitaet\": 3869, \"zigarette\": 3870, \"briefmarke\": 3871, \"unterstuetzung\": 3872, \"hickse\": 3873, \"bekenne\": 3874, \"zuechte\": 3875, \"vieh\": 3876, \"rauskommt\": 3877, \"koechin\": 3878, \"verkaufe\": 3879, \"diene\": 3880, \"franzoesischunterricht\": 3881, \"gepaeck\": 3882, \"hundewelpen\": 3883, \"gehaltserhoehung\": 3884, \"popcorn\": 3885, \"ventilator\": 3886, \"kuendigen\": 3887, \"angeheuert\": 3888, \"brillentraeger\": 3889, \"anzeigen\": 3890, \"runterkommen\": 3891, \"hinfahren\": 3892, \"schimpfen\": 3893, \"unterrichten\": 3894, \"anstrengen\": 3895, \"anfaengerin\": 3896, \"anfaenger\": 3897, \"botaniker\": 3898, \"botanikerin\": 3899, \"diabetikerin\": 3900, \"musiker\": 3901, \"musikerin\": 3902, \"netter\": 3903, \"pazifist\": 3904, \"pazifistin\": 3905, \"strafgefangener\": 3906, \"strafgefangene\": 3907, \"gefangener\": 3908, \"verkaeufer\": 3909, \"handelsvertreter\": 3910, \"vertreter\": 3911, \"teenager\": 3912, \"leider\": 3913, \"atheist\": 3914, \"offizier\": 3915, \"todmuede\": 3916, \"weitsichtig\": 3917, \"amuesiere\": 3918, \"analphabet\": 3919, \"analphabetin\": 3920, \"bereite\": 3921, \"aufgibt\": 3922, \"optimistisch\": 3923, \"uebergewicht\": 3924, \"eintopf\": 3925, \"baer\": 3926, \"wink\": 3927, \"becher\": 3928, \"gebuehr\": 3929, \"absicht\": 3930, \"schneite\": 3931, \"bestens\": 3932, \"mittwoch\": 3933, \"abgemacht\": 3934, \"klassiker\": 3935, \"neuer\": 3936, \"bewundernswert\": 3937, \"ueberfall\": 3938, \"hinterhalt\": 3939, \"beleidigung\": 3940, \"brandneu\": 3941, \"koestlich\": 3942, \"anderes\": 3943, \"inkorrekt\": 3944, \"sinnlos\": 3945, \"ueberfluessig\": 3946, \"hauptverkehrszeit\": 3947, \"hauptgeschaeftszeit\": 3948, \"stosszeit\": 3949, \"entscheidung\": 3950, \"geschieht\": 3951, \"knaben\": 3952, \"vorangehen\": 3953, \"anschliessen\": 3954, \"dazusetzen\": 3955, \"hinsetzen\": 3956, \"habgierig\": 3957, \"doofkoepfe\": 3958, \"schlicht\": 3959, \"brust\": 3960, \"gelenke\": 3961, \"handgelenk\": 3962, \"daraus\": 3963, \"bruellte\": 3964, \"kenntnis\": 3965, \"begreifst\": 3966, \"begreift\": 3967, \"begreifen\": 3968, \"schmoll\": 3969, \"zeug\": 3970, \"melodie\": 3971, \"entferne\": 3972, \"weitergehen\": 3973, \"unterlassen\": 3974, \"gestiegen\": 3975, \"wissenschaft\": 3976, \"ernaehren\": 3977, \"hinreissend\": 3978, \"schwaermt\": 3979, \"erwuergt\": 3980, \"genarrt\": 3981, \"krankenpflegerin\": 3982, \"unbeholfen\": 3983, \"bach\": 3984, \"tippt\": 3985, \"schaedlich\": 3986, \"murren\": 3987, \"schnueffeln\": 3988, \"sprache\": 3989, \"ideal\": 3990, \"zauberhaft\": 3991, \"selbstverstaendlichkeit\": 3992, \"turm\": 3993, \"satz\": 3994, \"plastik\": 3995, \"typisch\": 3996, \"bellte\": 3997, \"stieg\": 3998, \"leckt\": 3999, \"abgefahren\": 4000, \"applaudierten\": 4001, \"spendeten\": 4002, \"hassten\": 4003, \"ruinierten\": 4004, \"tuechtig\": 4005, \"defekt\": 4006, \"trost\": 4007, \"ueberleg\": 4008, \"aergert\": 4009, \"beisst\": 4010, \"bissiger\": 4011, \"test\": 4012, \"haarstraeubend\": 4013, \"aufzustehen\": 4014, \"naeherte\": 4015, \"zusammengeschlagen\": 4016, \"radelte\": 4017, \"zusammengebrochen\": 4018, \"notruf\": 4019, \"beklagt\": 4020, \"beklagte\": 4021, \"unterbrochen\": 4022, \"zeichnet\": 4023, \"gegraben\": 4024, \"muehelos\": 4025, \"anruf\": 4026, \"dicker\": 4027, \"gehackt\": 4028, \"zuechtete\": 4029, \"baut\": 4030, \"d\": 4031, \"dr\": 4032, \"phil\": 4033, \"asthma\": 4034, \"skorbut\": 4035, \"ratten\": 4036, \"reh\": 4037, \"beachtete\": 4038, \"radfahrer\": 4039, \"motorradfahrer\": 4040, \"trinker\": 4041, \"zwerg\": 4042, \"waechter\": 4043, \"wachmann\": 4044, \"verlierer\": 4045, \"bergmann\": 4046, \"minenarbeiter\": 4047, \"pilot\": 4048, \"rabbi\": 4049, \"schaemt\": 4050, \"durchschnittlich\": 4051, \"ungelenk\": 4052, \"gefuehllos\": 4053, \"vielschichtig\": 4054, \"zynisch\": 4055, \"fragwuerdig\": 4056, \"staubt\": 4057, \"schnappt\": 4058, \"griesgram\": 4059, \"abscheulich\": 4060, \"intensiv\": 4061, \"idol\": 4062, \"neutral\": 4063, \"nickt\": 4064, \"obszoen\": 4065, \"praezise\": 4066, \"uebersinnlich\": 4067, \"radikal\": 4068, \"oberflaechlich\": 4069, \"aehnlich\": 4070, \"klueger\": 4071, \"schluchzt\": 4072, \"vollgegessen\": 4073, \"taktvoll\": 4074, \"neckisch\": 4075, \"beruehrt\": 4076, \"unbewegt\": 4077, \"boesartig\": 4078, \"jammert\": 4079, \"willig\": 4080, \"gaehnt\": 4081, \"pistolen\": 4082, \"nuesse\": 4083, \"thunfisch\": 4084, \"ueberblick\": 4085, \"weggezogen\": 4086, \"gezwickt\": 4087, \"umgeschrieben\": 4088, \"anscheinend\": 4089, \"netten\": 4090, \"verschlief\": 4091, \"gerochen\": 4092, \"gestartet\": 4093, \"tatenlos\": 4094, \"hintergrund\": 4095, \"zurueckgehalten\": 4096, \"notizen\": 4097, \"hinters\": 4098, \"abwesend\": 4099, \"flennte\": 4100, \"muerrisch\": 4101, \"zweiter\": 4102, \"naehen\": 4103, \"naehte\": 4104, \"spiesser\": 4105, \"beissen\": 4106, \"grinsen\": 4107, \"bauchgefuehl\": 4108, \"suessigkeit\": 4109, \"charme\": 4110, \"ewig\": 4111, \"zogen\": 4112, \"mordsspass\": 4113, \"streit\": 4114, \"bauernhof\": 4115, \"gaeste\": 4116, \"helden\": 4117, \"kapitulierten\": 4118, \"meldeten\": 4119, \"schi\": 4120, \"sternhagelvoll\": 4121, \"begraben\": 4122, \"anmalen\": 4123, \"genies\": 4124, \"gedanke\": 4125, \"passieren\": 4126, \"nuetzt\": 4127, \"verletzen\": 4128, \"beisammen\": 4129, \"wisch\": 4130, \"wischen\": 4131, \"widern\": 4132, \"schmeichelst\": 4133, \"verstoert\": 4134, \"wirds\": 4135, \"schaffst\": 4136, \"feiges\": 4137, \"fit\": 4138, \"nichtsnutze\": 4139, \"fuenfzehn\": 4140, \"kenterte\": 4141, \"guckst\": 4142, \"rentner\": 4143, \"laechelst\": 4144, \"stattdessen\": 4145, \"baelle\": 4146, \"rund\": 4147, \"bienen\": 4148, \"ehemann\": 4149, \"tuete\": 4150, \"anschaffen\": 4151, \"beteiligen\": 4152, \"danach\": 4153, \"auslassen\": 4154, \"du\\'s\": 4155, \"kartons\": 4156, \"klatsche\": 4157, \"klapp\": 4158, \"grunde\": 4159, \"protestiert\": 4160, \"gemundet\": 4161, \"liebtest\": 4162, \"meintest\": 4163, \"meinten\": 4164, \"grabe\": 4165, \"tiefes\": 4166, \"rap\": 4167, \"erinnerst\": 4168, \"moechtet\": 4169, \"snob\": 4170, \"knausrig\": 4171, \"flipp\": 4172, \"betrink\": 4173, \"beleidigen\": 4174, \"unterbrich\": 4175, \"uebertreib\": 4176, \"widersetze\": 4177, \"streu\": 4178, \"erschiesse\": 4179, \"necke\": 4180, \"schaf\": 4181, \"sich\\'s\": 4182, \"beteten\": 4183, \"werkzeugkiste\": 4184, \"goenne\": 4185, \"goennen\": 4186, \"goennt\": 4187, \"fackelt\": 4188, \"morgengrauen\": 4189, \"erfuellte\": 4190, \"holte\": 4191, \"strebsam\": 4192, \"aethiopier\": 4193, \"unmoeglicher\": 4194, \"traeumer\": 4195, \"medium\": 4196, \"geisteskraefte\": 4197, \"kraefte\": 4198, \"schlauer\": 4199, \"fussballfreund\": 4200, \"vertreibt\": 4201, \"radios\": 4202, \"whisky\": 4203, \"zugewinkt\": 4204, \"wellenreiten\": 4205, \"komoediant\": 4206, \"studentenverbindung\": 4207, \"verbindungsstudent\": 4208, \"unsozial\": 4209, \"bekommt\": 4210, \"querschnittsgelaehmt\": 4211, \"helium\": 4212, \"hellte\": 4213, \"heiterer\": 4214, \"know\": 4215, \"you\": 4216, \"ausweis\": 4217, \"getuerkt\": 4218, \"hisst\": 4219, \"segel\": 4220, \"dreiviertel\": 4221, \"gewagt\": 4222, \"fuehlen\": 4223, \"enden\": 4224, \"totmuede\": 4225, \"einzudoesen\": 4226, \"spanien\": 4227, \"sitze\": 4228, \"entkleide\": 4229, \"schaetzen\": 4230, \"geruelpst\": 4231, \"verleugnen\": 4232, \"zurueckkehren\": 4233, \"ungeschehen\": 4234, \"beriet\": 4235, \"kontaktiert\": 4236, \"tode\": 4237, \"schippe\": 4238, \"fiebrig\": 4239, \"isoliert\": 4240, \"uebergangen\": 4241, \"aussen\": 4242, \"gefuehlt\": 4243, \"erhalten\": 4244, \"beerdigungen\": 4245, \"politik\": 4246, \"waschbaeren\": 4247, \"reptilien\": 4248, \"kriechtiere\": 4249, \"esel\": 4250, \"laptop\": 4251, \"trommel\": 4252, \"ellbogen\": 4253, \"grad\": 4254, \"gespieben\": 4255, \"andauernd\": 4256, \"typen\": 4257, \"gelernt\": 4258, \"cartoons\": 4259, \"zeichentrickfilme\": 4260, \"auberginen\": 4261, \"broccoli\": 4262, \"komoedien\": 4263, \"western\": 4264, \"zufuegen\": 4265, \"eventuell\": 4266, \"unbedingt\": 4267, \"internet\": 4268, \"brauch\": 4269, \"eimer\": 4270, \"taschentuch\": 4271, \"koffein\": 4272, \"konzentrieren\": 4273, \"treffe\": 4274, \"rechnungen\": 4275, \"bevorzuge\": 4276, \"aufgesetzt\": 4277, \"ausgelesen\": 4278, \"empfehle\": 4279, \"geahnt\": 4280, \"ahnte\": 4281, \"giraffe\": 4282, \"muster\": 4283, \"schwedisch\": 4284, \"unterstuetzte\": 4285, \"duschbad\": 4286, \"duschte\": 4287, \"dasselbe\": 4288, \"losgehen\": 4289, \"zuschauen\": 4290, \"gedemuetigt\": 4291, \"gingest\": 4292, \"dauern\": 4293, \"nachgeben\": 4294, \"einlenken\": 4295, \"notiert\": 4296, \"aufgeschrieben\": 4297, \"limonade\": 4298, \"ausprobieren\": 4299, \"bliebe\": 4300, \"umhoeren\": 4301, \"ruf\\'\": 4302, \"begleite\": 4303, \"informieren\": 4304, \"nachschlagen\": 4305, \"erwaehnen\": 4306, \"bestelle\": 4307, \"jackson\": 4308, \"tv\": 4309, \"fernsehsuechtig\": 4310, \"zimmermann\": 4311, \"schreiner\": 4312, \"tischler\": 4313, \"chauffeur\": 4314, \"stadtmaedchen\": 4315, \"kommunistin\": 4316, \"gluecklicher\": 4317, \"masochist\": 4318, \"nachteule\": 4319, \"nachtmensch\": 4320, \"nachtschwaermer\": 4321, \"risikofreudig\": 4322, \"abenteuerlustig\": 4323, \"sternzeichen\": 4324, \"wassermann\": 4325, \"ingenieur\": 4326, \"optimistin\": 4327, \"langerweile\": 4328, \"farbenblind\": 4329, \"farbenfehlsichtig\": 4330, \"verstopfung\": 4331, \"kooperiere\": 4332, \"tagtraeumen\": 4333, \"altere\": 4334, \"eigener\": 4335, \"kurzsichtig\": 4336, \"schlitzohr\": 4337, \"diebin\": 4338, \"schreie\": 4339, \"ersetzbar\": 4340, \"spontan\": 4341, \"copilot\": 4342, \"gucke\": 4343, \"kellner\": 4344, \"faxen\": 4345, \"dicke\": 4346, \"plappert\": 4347, \"infiziert\": 4348, \"aerztin\": 4349, \"zebra\": 4350, \"erlaubt\": 4351, \"cafe\": 4352, \"ethisch\": 4353, \"umgehauen\": 4354, \"kaputtgegangen\": 4355, \"eigenartig\": 4356, \"erscheinen\": 4357, \"schmeckte\": 4358, \"suessen\": 4359, \"geschmack\": 4360, \"herrschte\": 4361, \"frost\": 4362, \"schmerzlos\": 4363, \"gelohnt\": 4364, \"spassig\": 4365, \"\\'ne\": 4366, \"arge\": 4367, \"sackgasse\": 4368, \"fasan\": 4369, \"akzeptabel\": 4370, \"annehmbar\": 4371, \"spottbillig\": 4372, \"verdientes\": 4373, \"schoenes\": 4374, \"unpassend\": 4375, \"irrelevant\": 4376, \"belanglos\": 4377, \"belang\": 4378, \"zauberei\": 4379, \"irrefuehrend\": 4380, \"bombe\": 4381, \"langt\": 4382, \"erschreckend\": 4383, \"uebe\": 4384, \"uebt\": 4385, \"bewahren\": 4386, \"knete\": 4387, \"teig\": 4388, \"blei\": 4389, \"metall\": 4390, \"hinterlasse\": 4391, \"hinterlassen\": 4392, \"verlasst\": 4393, \"zitronen\": 4394, \"vortritt\": 4395, \"saufen\": 4396, \"betrinken\": 4397, \"giessen\": 4398, \"improvisieren\": 4399, \"zuckerschlecken\": 4400, \"ponyhof\": 4401, \"entscheide\": 4402, \"verkleinere\": 4403, \"kleiner\": 4404, \"verwitwet\": 4405, \"unvermeidlich\": 4406, \"benoetigt\": 4407, \"jeans\": 4408, \"eingelaufen\": 4409, \"quietschen\": 4410, \"erkennen\": 4411, \"oktober\": 4412, \"streiche\": 4413, \"zaun\": 4414, \"schael\": 4415, \"druecke\": 4416, \"druckknopf\": 4417, \"puzzlespielen\": 4418, \"zurueckweisung\": 4419, \"donut\": 4420, \"naturwissenschaften\": 4421, \"sichere\": 4422, \"hinauswill\": 4423, \"schicke\": 4424, \"haie\": 4425, \"vergab\": 4426, \"huebsche\": 4427, \"botengaenge\": 4428, \"sturkopf\": 4429, \"gekniffen\": 4430, \"erstach\": 4431, \"fuehrte\": 4432, \"fesselte\": 4433, \"gefesselt\": 4434, \"weisse\": 4435, \"durchsetzungsvermoegen\": 4436, \"aufrecht\": 4437, \"spanisch\": 4438, \"stiehl\": 4439, \"unterlasse\": 4440, \"wimmern\": 4441, \"aspirin\": 4442, \"geschichtchen\": 4443, \"freiheraus\": 4444, \"kostete\": 4445, \"pagode\": 4446, \"betrug\": 4447, \"bezweifeln\": 4448, \"zweifelhaft\": 4449, \"gewiss\": 4450, \"zeugs\": 4451, \"feucht\": 4452, \"knurrte\": 4453, \"erstarb\": 4454, \"blaetter\": 4455, \"eroetete\": 4456, \"meer\": 4457, \"wind\": 4458, \"keinerlei\": 4459, \"redeten\": 4460, \"piloten\": 4461, \"scheren\": 4462, \"vermissten\": 4463, \"fehlte\": 4464, \"besuchten\": 4465, \"dreckig\": 4466, \"lagen\": 4467, \"denen\": 4468, \"vettern\": 4469, \"praktikanten\": 4470, \"assistenzaerzte\": 4471, \"pfirsich\": 4472, \"schicksal\": 4473, \"stumpfsinnig\": 4474, \"unnuetz\": 4475, \"neuigkeit\": 4476, \"beschleunigte\": 4477, \"beschleunigt\": 4478, \"handelte\": 4479, \"betrunkener\": 4480, \"dazugegeben\": 4481, \"zugegeben\": 4482, \"ums\": 4483, \"genehmigt\": 4484, \"lippe\": 4485, \"malen\": 4486, \"verfolgte\": 4487, \"ausgecheckt\": 4488, \"hinterging\": 4489, \"entworfen\": 4490, \"gejagt\": 4491, \"ekelt\": 4492, \"duckte\": 4493, \"uebertrieb\": 4494, \"uebertreibt\": 4495, \"verstummte\": 4496, \"ungutes\": 4497, \"gefuehl\": 4498, \"narren\": 4499, \"wehrte\": 4500, \"flippte\": 4501, \"geaergert\": 4502, \"panisch\": 4503, \"husten\": 4504, \"buckel\": 4505, \"gewisser\": 4506, \"hicks\": 4507, \"ausgesorgt\": 4508, \"mehrere\": 4509, \"moeglichkeiten\": 4510, \"durchhaltevermoegen\": 4511, \"oper\": 4512, \"barbier\": 4513, \"eremit\": 4514, \"legende\": 4515, \"pirat\": 4516, \"toepfer\": 4517, \"priester\": 4518, \"wahnsinniger\": 4519, \"rapper\": 4520, \"einsteiger\": 4521, \"seemann\": 4522, \"senior\": 4523, \"wellenreiter\": 4524, \"schneider\": 4525, \"kauz\": 4526, \"schraeger\": 4527, \"agnostisch\": 4528, \"magersuechtig\": 4529, \"hustet\": 4530, \"glaubwuerdig\": 4531, \"kultiviert\": 4532, \"geistesgestoert\": 4533, \"untreu\": 4534, \"umstaenden\": 4535, \"entsprechend\": 4536, \"unschluessig\": 4537, \"durchnaesst\": 4538, \"gebildet\": 4539, \"beredt\": 4540, \"ueberzeugend\": 4541, \"flieht\": 4542, \"ausgehungert\": 4543, \"kraftvoll\": 4544, \"kichert\": 4545, \"grinst\": 4546, \"stoehnt\": 4547, \"beinen\": 4548, \"heimwehkrank\": 4549, \"humorvoll\": 4550, \"unreif\": 4551, \"involviert\": 4552, \"klopft\": 4553, \"verwaltet\": 4554, \"barmherzig\": 4555, \"neurotisch\": 4556, \"pervers\": 4557, \"angenehm\": 4558, \"rational\": 4559, \"reformiert\": 4560, \"rastlos\": 4561, \"verrichtet\": 4562, \"einkaeufe\": 4563, \"uebermuetig\": 4564, \"aufgekratzt\": 4565, \"niest\": 4566, \"temperamentvoll\": 4567, \"schwitzt\": 4568, \"taktlos\": 4569, \"talentiert\": 4570, \"endstadium\": 4571, \"kitzelig\": 4572, \"unermuedlich\": 4573, \"entnervt\": 4574, \"kleinlich\": 4575, \"smart\": 4576, \"erschien\": 4577, \"freilassung\": 4578, \"kaution\": 4579, \"gerichtsverhandlung\": 4580, \"guckte\": 4581, \"weitergegessen\": 4582, \"weiterbewegt\": 4583, \"weiterversucht\": 4584, \"blues\": 4585, \"salsa\": 4586, \"streichholz\": 4587, \"kaltem\": 4588, \"verfroren\": 4589, \"flott\": 4590, \"festgefahren\": 4591, \"chili\": 4592, \"supergerne\": 4593, \"aussagen\": 4594, \"moeglicherweise\": 4595, \"vermisste\": 4596, \"ausserhalb\": 4597, \"ueberreagiert\": 4598, \"verschied\": 4599, \"rugby\": 4600, \"aufgenommen\": 4601, \"bereitwillig\": 4602, \"stoisch\": 4603, \"tenor\": 4604, \"schlueckchen\": 4605, \"bewahrte\": 4606, \"badete\": 4607, \"fotos\": 4608, \"dressiert\": 4609, \"warnte\": 4610, \"unnachgiebig\": 4611, \"geblendet\": 4612, \"gemobbt\": 4613, \"niedergeschmettert\": 4614, \"trotzig\": 4615, \"bedenken\": 4616, \"betagt\": 4617, \"ausweichend\": 4618, \"nachsichtig\": 4619, \"unartig\": 4620, \"keuchte\": 4621, \"schluchzte\": 4622, \"niedergestochen\": 4623, \"taser\": 4624, \"beschossen\": 4625, \"begleitete\": 4626, \"empfaengt\": 4627, \"benuetzen\": 4628, \"medaille\": 4629, \"einwendungen\": 4630, \"ruehren\": 4631, \"handschuhe\": 4632, \"experte\": 4633, \"sank\": 4634, \"gesunken\": 4635, \"saukomisch\": 4636, \"verantwortlich\": 4637, \"abstossend\": 4638, \"gaehnen\": 4639, \"schaltet\": 4640, \"schalten\": 4641, \"waende\": 4642, \"hintrittst\": 4643, \"zehen\": 4644, \"nennen\": 4645, \"machten\": 4646, \"erklaerten\": 4647, \"rohen\": 4648, \"picknicks\": 4649, \"waffeln\": 4650, \"fachleute\": 4651, \"duschten\": 4652, \"zurueckhaben\": 4653, \"wiederhaben\": 4654, \"lager\": 4655, \"aufschlagen\": 4656, \"kampieren\": 4657, \"kooperativ\": 4658, \"hinkommen\": 4659, \"angler\": 4660, \"stammen\": 4661, \"nachbarn\": 4662, \"optimisten\": 4663, \"verwandte\": 4664, \"gefuerchtet\": 4665, \"riesiger\": 4666, \"schlips\": 4667, \"grober\": 4668, \"motivation\": 4669, \"wieviel\": 4670, \"schiefgelaufen\": 4671, \"worum\": 4672, \"gewinn\": 4673, \"beruflich\": 4674, \"ruder\": 4675, \"beschimpft\": 4676, \"ergab\": 4677, \"fragten\": 4678, \"waerest\": 4679, \"betreffende\": 4680, \"versteckst\": 4681, \"dahinter\": 4682, \"schoenheit\": 4683, \"sexist\": 4684, \"stoerst\": 4685, \"nervst\": 4686, \"enervierend\": 4687, \"blutest\": 4688, \"bluten\": 4689, \"taeuschst\": 4690, \"betruegst\": 4691, \"schummelst\": 4692, \"partnerin\": 4693, \"bemitleidenswert\": 4694, \"abgelaufen\": 4695, \"weniger\": 4696, \"bellt\": 4697, \"des\": 4698, \"wegs\": 4699, \"sicherung\": 4700, \"durchgebrannt\": 4701, \"unsichtbar\": 4702, \"zauberer\": 4703, \"sportlich\": 4704, \"erroetest\": 4705, \"erroeten\": 4706, \"erroetet\": 4707, \"interessiert\\'s\": 4708, \"atlantis\": 4709, \"achtung\": 4710, \"fluegel\": 4711, \"zuegele\": 4712, \"atme\": 4713, \"putzt\": 4714, \"putzen\": 4715, \"fordere\": 4716, \"irgendwann\": 4717, \"leihen\": 4718, \"irgendjemand\": 4719, \"erlauben\": 4720, \"kirschen\": 4721, \"schliesst\": 4722, \"graben\": 4723, \"grabt\": 4724, \"riemen\": 4725, \"ueberquere\": 4726, \"gedraengt\": 4727, \"gebellt\": 4728, \"je\": 4729, \"kanntest\": 4730, \"riech\\'\": 4731, \"weinst\": 4732, \"lehnst\": 4733, \"pasta\": 4734, \"ruhst\": 4735, \"tofu\": 4736, \"besitzen\": 4737, \"solch\": 4738, \"unbesorgt\": 4739, \"taeuscht\": 4740, \"stoer\": 4741, \"rase\": 4742, \"belaestige\": 4743, \"weitermachst\": 4744, \"laerme\": 4745, \"treib\": 4746, \"spielchen\": 4747, \"bescheiss\": 4748, \"verpetz\": 4749, \"verpetzen\": 4750, \"linie\": 4751, \"erfuellung\": 4752, \"eiweis\": 4753, \"sprangen\": 4754, \"merkten\": 4755, \"aufgefallen\": 4756, \"fuell\": 4757, \"beende\": 4758, \"befolge\": 4759, \"welchem\": 4760, \"weiche\": 4761, \"zurueckgekehrt\": 4762, \"wunderschoenen\": 4763, \"aufgegessen\": 4764, \"verstiess\": 4765, \"fremdgegangen\": 4766, \"mittags\": 4767, \"kurzem\": 4768, \"erfuellt\": 4769, \"faszinierte\": 4770, \"rueckwaerts\": 4771, \"reparierte\": 4772, \"flog\": 4773, \"graues\": 4774, \"picasso\": 4775, \"langes\": 4776, \"verabscheut\": 4777, \"hoeflicher\": 4778, \"bub\": 4779, \"aggressiv\": 4780, \"italiener\": 4781, \"ungesellig\": 4782, \"heimgekommen\": 4783, \"tagebuch\": 4784, \"diesbezueglich\": 4785, \"orangen\": 4786, \"tierlieb\": 4787, \"fischt\": 4788, \"hisste\": 4789, \"flagge\": 4790, \"geschuettelt\": 4791, \"stunde\": 4792, \"geworfen\": 4793, \"belog\": 4794, \"wendete\": 4795, \"schlafanzug\": 4796, \"sonntags\": 4797, \"erwachsener\": 4798, \"rettungsschwimmer\": 4799, \"nichtraucher\": 4800, \"kluger\": 4801, \"gespannt\": 4802, \"senil\": 4803, \"klasse\": 4804, \"knauserig\": 4805, \"brieftasche\": 4806, \"plaedieren\": 4807, \"sonderbar\": 4808, \"ungemein\": 4809, \"verkuehlung\": 4810, \"katarrh\": 4811, \"pflichte\": 4812, \"runtergehauen\": 4813, \"auslaender\": 4814, \"brasilien\": 4815, \"norwegen\": 4816, \"brate\": 4817, \"hexe\": 4818, \"verbeugte\": 4819, \"erretten\": 4820, \"behaupten\": 4821, \"bunt\": 4822, \"zurueckhalten\": 4823, \"eingefangen\": 4824, \"sammle\": 4825, \"entgegengetreten\": 4826, \"erwaegung\": 4827, \"gezogen\": 4828, \"pizzalieferant\": 4829, \"pizzalieferantin\": 4830, \"akzeptiere\": 4831, \"keins\": 4832, \"fremd\": 4833, \"allesesser\": 4834, \"gebauchpinselt\": 4835, \"beschuetzt\": 4836, \"erquickt\": 4837, \"beruf\": 4838, \"geholt\": 4839, \"impfen\": 4840, \"gruende\": 4841, \"rechner\": 4842, \"heuchelei\": 4843, \"granate\": 4844, \"roller\": 4845, \"wenige\": 4846, \"heuschnupfen\": 4847, \"sodbrennen\": 4848, \"anweisungen\": 4849, \"zukunft\": 4850, \"lungenentzuendung\": 4851, \"zwanzig\": 4852, \"erzielt\": 4853, \"erzielte\": 4854, \"muehsam\": 4855, \"rechte\": 4856, \"uebung\": 4857, \"erlaubte\": 4858, \"hereinzukommen\": 4859, \"samstage\": 4860, \"astrologie\": 4861, \"schokolade\": 4862, \"elefanten\": 4863, \"frische\": 4864, \"frischen\": 4865, \"roman\": 4866, \"popmusik\": 4867, \"ueberraschungen\": 4868, \"achte\": 4869, \"suchte\": 4870, \"pfund\": 4871, \"fotoapparat\": 4872, \"astronomie\": 4873, \"sternenkunde\": 4874, \"dinosaurier\": 4875, \"gartenarbeit\": 4876, \"eiscreme\": 4877, \"afroamerikanische\": 4878, \"kueche\": 4879, \"seelennahrung\": 4880, \"wald\": 4881, \"weggeschickt\": 4882, \"begangen\": 4883, \"angefertigt\": 4884, \"kochte\": 4885, \"spaghetti\": 4886, \"brechstange\": 4887, \"brecheisen\": 4888, \"umschlaege\": 4889, \"ueberlistet\": 4890, \"passte\": 4891, \"schlagzeug\": 4892, \"sprit\": 4893, \"tinte\": 4894, \"times\": 4895, \"etikett\": 4896, \"hoffen\": 4897, \"erkannte\": 4898, \"erkannt\": 4899, \"rieb\": 4900, \"ausgegeben\": 4901, \"regelmaessig\": 4902, \"selbstgespraeche\": 4903, \"scheidung\": 4904, \"martini\": 4905, \"aufessen\": 4906, \"frustriert\": 4907, \"damals\": 4908, \"erniedrigt\": 4909, \"siegreich\": 4910, \"uebersetzen\": 4911, \"freuen\": 4912, \"hierbleiben\": 4913, \"bestrafen\": 4914, \"allem\": 4915, \"verzeihen\": 4916, \"langgehen\": 4917, \"abnehmen\": 4918, \"abwasch\": 4919, \"fuenfundzwanzig\": 4920, \"mentor\": 4921, \"buerger\": 4922, \"vereinigten\": 4923, \"staaten\": 4924, \"groggy\": 4925, \"langschlaefer\": 4926, \"fotonarr\": 4927, \"hobbyfotograf\": 4928, \"alleinerziehende\": 4929, \"verdrossen\": 4930, \"beidhaenderin\": 4931, \"beidhaender\": 4932, \"haenden\": 4933, \"gleichermassen\": 4934, \"ehemaliger\": 4935, \"marinesoldat\": 4936, \"vermeide\": 4937, \"uebertreibe\": 4938, \"high\": 4939, \"werd\\'\": 4940, \"dicht\": 4941, \"dachboden\": 4942, \"lobby\": 4943, \"foyer\": 4944, \"quicklebendig\": 4945, \"ueberdrehe\": 4946, \"stolz\": 4947, \"komplett\": 4948, \"bankrott\": 4949, \"pensioniert\": 4950, \"gestresst\": 4951, \"vorurteilsfrei\": 4952, \"riesendurst\": 4953, \"diener\": 4954, \"ausfindig\": 4955, \"verfuegbar\": 4956, \"selbstsicher\": 4957, \"erreichbar\": 4958, \"ansteckend\": 4959, \"blume\": 4960, \"verkaeuflich\": 4961, \"euro\": 4962, \"interessierte\": 4963, \"stockdunkel\": 4964, \"springt\": 4965, \"bedeutung\": 4966, \"erscheint\": 4967, \"warmer\": 4968, \"dauert\": 4969, \"gruppe\": 4970, \"handy\": 4971, \"angewohnheit\": 4972, \"messe\": 4973, \"traumjob\": 4974, \"vollmond\": 4975, \"verrueckte\": 4976, \"sonnenblume\": 4977, \"sonniger\": 4978, \"windiger\": 4979, \"illusion\": 4980, \"mild\": 4981, \"bitterkalt\": 4982, \"klart\": 4983, \"denkbar\": 4984, \"hergeholt\": 4985, \"gefroren\": 4986, \"reine\": 4987, \"glueckssache\": 4988, \"waschtag\": 4989, \"affenfleisch\": 4990, \"trick\": 4991, \"gesetzeswidrig\": 4992, \"sofa\": 4993, \"regnerisch\": 4994, \"bedauerlich\": 4995, \"deren\": 4996, \"transparent\": 4997, \"unnoetig\": 4998, \"bitter\": 4999, \"klebrig\": 5000, \"schwuel\": 5001, \"stickig\": 5002, \"privatvergnuegen\": 5003, \"asien\": 5004, \"nenn\": 5005, \"nenne\": 5006, \"werk\": 5007, \"kuehlen\": 5008, \"ruebergehen\": 5009, \"lass\\'\": 5010, \"steck\": 5011, \"zuende\": 5012, \"unsterblich\": 5013, \"senke\": 5014, \"senken\": 5015, \"leiser\": 5016, \"sende\": 5017, \"mars\": 5018, \"wildfang\": 5019, \"verpasste\": 5020, \"nachher\": 5021, \"deutschen\": 5022, \"floehe\": 5023, \"entzuendet\": 5024, \"zuckt\": 5025, \"goldfisch\": 5026, \"winzig\": 5027, \"posteingang\": 5028, \"langweilige\": 5029, \"socken\": 5030, \"bauchschmerzen\": 5031, \"magenschmerzen\": 5032, \"geldbeutel\": 5033, \"schlaegt\": 5034, \"interessieren\": 5035, \"fleiss\": 5036, \"unterrichtete\": 5037, \"nix\": 5038, \"gehorche\": 5039, \"wenden\": 5040, \"pumpen\": 5041, \"pump\": 5042, \"beschweren\": 5043, \"begrabbeln\": 5044, \"eher\": 5045, \"wirklichkeit\": 5046, \"rom\": 5047, \"italien\": 5048, \"griff\": 5049, \"angelaufen\": 5050, \"bezwungen\": 5051, \"bezwang\": 5052, \"verachtete\": 5053, \"trockenes\": 5054, \"vergoetterte\": 5055, \"vergoettert\": 5056, \"beleidigte\": 5057, \"pianistin\": 5058, \"laessig\": 5059, \"hartnaeckig\": 5060, \"angeschaut\": 5061, \"zurueckgewiesen\": 5062, \"geritten\": 5063, \"ritt\": 5064, \"lebewohl\": 5065, \"angelaechelt\": 5066, \"wucht\": 5067, \"haeuschen\": 5068, \"schlangen\": 5069, \"deswegen\": 5070, \"starte\": 5071, \"meckern\": 5072, \"unterlass\": 5073, \"tagtraeumerei\": 5074, \"hauen\": 5075, \"einzumischen\": 5076, \"anzuluegen\": 5077, \"beluegen\": 5078, \"erschrecken\": 5079, \"prahlen\": 5080, \"sekkieren\": 5081, \"supermann\": 5082, \"pille\": 5083, \"vorkehrungen\": 5084, \"vorsichtsmassnahmen\": 5085, \"trefft\": 5086, \"sicherheitsvorkehrungen\": 5087, \"jemandem\": 5088, \"neuigkeiten\": 5089, \"hingehauen\": 5090, \"ergibt\": 5091, \"ungeschickt\": 5092, \"vermeiden\": 5093, \"umgehen\": 5094, \"ueberfragt\": 5095, \"freudige\": 5096, \"irrsinnig\": 5097, \"eitles\": 5098, \"geschwaetz\": 5099, \"unheilbar\": 5100, \"lachhaft\": 5101, \"angelegenheit\": 5102, \"weder\": 5103, \"punkt\": 5104, \"aergerlich\": 5105, \"schaedel\": 5106, \"zweiundvierzig\": 5107, \"batterie\": 5108, \"beule\": 5109, \"riesig\": 5110, \"gequietscht\": 5111, \"ziege\": 5112, \"meckerte\": 5113, \"loeste\": 5114, \"gilt\": 5115, \"mikrophon\": 5116, \"untergegangen\": 5117, \"party\": 5118, \"fete\": 5119, \"beendet\": 5120, \"vereist\": 5121, \"rau\": 5122, \"stuermisch\": 5123, \"schalter\": 5124, \"zwillinge\": 5125, \"ertoente\": 5126, \"verheilte\": 5127, \"ausgehoben\": 5128, \"achten\": 5129, \"entdeckt\": 5130, \"gedankt\": 5131, \"verschlossen\": 5132, \"wiederkehren\": 5133, \"klatschnass\": 5134, \"knabe\": 5135, \"kritisch\": 5136, \"trainer\": 5137, \"schwachsinn\": 5138, \"sabotage\": 5139, \"tom\\'s\": 5140, \"stoppte\": 5141, \"ereignen\": 5142, \"schluchzen\": 5143, \"broetchen\": 5144, \"tagesanbruch\": 5145, \"hervor\": 5146, \"angerannt\": 5147, \"gewechselt\": 5148, \"eindeutig\": 5149, \"kletterte\": 5150, \"konzentrierte\": 5151, \"berichtigte\": 5152, \"verbesserte\": 5153, \"korrigierte\": 5154, \"erschaffen\": 5155, \"dekoriert\": 5156, \"einwaende\": 5157, \"h\": 5158, \"kleidet\": 5159, \"weiteten\": 5160, \"verliebte\": 5161, \"behandelt\": 5162, \"verzeiht\": 5163, \"vergibt\": 5164, \"briet\": 5165, \"taetowieren\": 5166, \"vision\": 5167, \"alibi\": 5168, \"hausdiener\": 5169, \"geschwuer\": 5170, \"charisma\": 5171, \"huehner\": 5172, \"fertiggemacht\": 5173, \"sommersprossen\": 5174, \"schlafstoerungen\": 5175, \"leukaemie\": 5176, \"trunkenheit\": 5177, \"steuer\": 5178, \"belangt\": 5179, \"sueden\": 5180, \"sirenen\": 5181, \"hoffte\": 5182, \"summte\": 5183, \"verletzte\": 5184, \"beeindruckte\": 5185, \"marie\": 5186, \"marys\": 5187, \"hochstapler\": 5188, \"schlagzeuger\": 5189, \"schlagzeugspieler\": 5190, \"faschist\": 5191, \"turner\": 5192, \"pianist\": 5193, \"installateur\": 5194, \"realist\": 5195, \"makler\": 5196, \"immobilienmakler\": 5197, \"fluechtling\": 5198, \"lastwagenfahrer\": 5199, \"lasterfahrer\": 5200, \"sager\": 5201, \"jodler\": 5202, \"anpassungsfaehig\": 5203, \"selbstbewusst\": 5204, \"abkoemmlich\": 5205, \"bartlos\": 5206, \"bilingual\": 5207, \"verpflichtet\": 5208, \"zuvorkommend\": 5209, \"betruegerisch\": 5210, \"defensiv\": 5211, \"delirium\": 5212, \"anspruchsvoll\": 5213, \"unehrlich\": 5214, \"exzentrisch\": 5215, \"effektiv\": 5216, \"effizient\": 5217, \"woanders\": 5218, \"emotional\": 5219, \"energisch\": 5220, \"ausgezeichnet\": 5221, \"ueberschwaenglich\": 5222, \"fanatisch\": 5223, \"tollkuehn\": 5224, \"grotesk\": 5225, \"murrt\": 5226, \"urkomisch\": 5227, \"ehrenhaft\": 5228, \"hitzkoepfig\": 5229, \"unlogisch\": 5230, \"unparteiisch\": 5231, \"teilnahmslos\": 5232, \"fortschritte\": 5233, \"bande\": 5234, \"unaufrichtig\": 5235, \"luestern\": 5236, \"legendaer\": 5237, \"unbarmherzig\": 5238, \"miserabel\": 5239, \"murmelt\": 5240, \"obsessiv\": 5241, \"organisiert\": 5242, \"fuehrer\": 5243, \"freimuetig\": 5244, \"uebergluecklich\": 5245, \"perplex\": 5246, \"besessen\": 5247, \"praktisch\": 5248, \"bedauert\": 5249, \"zurueckhaltend\": 5250, \"serioes\": 5251, \"belastbar\": 5252, \"sarkastisch\": 5253, \"geheimnisvoll\": 5254, \"sensibel\": 5255, \"schamlos\": 5256, \"hemdlos\": 5257, \"skizziert\": 5258, \"hockt\": 5259, \"suspendiert\": 5260, \"unentschieden\": 5261, \"alleinstehend\": 5262, \"unbeliebt\": 5263, \"begriff\": 5264, \"wacht\": 5265, \"pfeift\": 5266, \"jude\": 5267, \"langweiler\": 5268, \"familienmitglied\": 5269, \"aufgefuehrt\": 5270, \"stabil\": 5271, \"drogeneinfluss\": 5272, \"geniest\": 5273, \"zugeschaut\": 5274, \"wuehlte\": 5275, \"packte\": 5276, \"weitergesungen\": 5277, \"textete\": 5278, \"menschenkenntnis\": 5279, \"naturfreund\": 5280, \"ponys\": 5281, \"boxt\": 5282, \"vorn\": 5283, \"angesehen\": 5284, \"geistreich\": 5285, \"wackelig\": 5286, \"anmerken\": 5287, \"genickt\": 5288, \"belauscht\": 5289, \"zwickte\": 5290, \"bridge\": 5291, \"vorhergesagt\": 5292, \"senden\": 5293, \"druck\": 5294, \"wahrscheinlich\": 5295, \"gekuendigt\": 5296, \"romane\": 5297, \"achtet\": 5298, \"baumstamm\": 5299, \"nachrichten\": 5300, \"punktete\": 5301, \"herrisch\": 5302, \"widerstandsfaehig\": 5303, \"gutzugehen\": 5304, \"scheusslich\": 5305, \"stiehlt\": 5306, \"erstarrt\": 5307, \"vorgeschlagen\": 5308, \"flucht\": 5309, \"yogaunterricht\": 5310, \"kitzelte\": 5311, \"quaelte\": 5312, \"veraenderung\": 5313, \"landwirt\": 5314, \"plapperte\": 5315, \"bluffte\": 5316, \"prahlte\": 5317, \"aufgeraeumt\": 5318, \"aufmunternd\": 5319, \"besiegt\": 5320, \"deportiert\": 5321, \"treulos\": 5322, \"traeumte\": 5323, \"ekstatisch\": 5324, \"hingerichtet\": 5325, \"starke\": 5326, \"begnadigt\": 5327, \"freigelassen\": 5328, \"ausgewaehlt\": 5329, \"hungerte\": 5330, \"unrasiert\": 5331, \"beobachtete\": 5332, \"jogging\": 5333, \"bettnaesser\": 5334, \"wettlauf\": 5335, \"bemerken\": 5336, \"akzeptieren\": 5337, \"zusagen\": 5338, \"einwilligen\": 5339, \"wahnhafte\": 5340, \"stoerungen\": 5341, \"erbleichte\": 5342, \"hysterisch\": 5343, \"innovativ\": 5344, \"klingelte\": 5345, \"ungeschlagen\": 5346, \"folter\": 5347, \"auszubrechen\": 5348, \"biegen\": 5349, \"heizung\": 5350, \"lauft\": 5351, \"giess\": 5352, \"fingen\": 5353, \"verlangen\": 5354, \"stoerten\": 5355, \"verabscheuen\": 5356, \"vernahmen\": 5357, \"schuesse\": 5358, \"armen\": 5359, \"wollten\": 5360, \"kennengelernt\": 5361, \"irrten\": 5362, \"gestrandet\": 5363, \"sieg\": 5364, \"davongetragen\": 5365, \"schrieben\": 5366, \"nachfolgen\": 5367, \"klassenkameraden\": 5368, \"nicken\": 5369, \"osten\": 5370, \"analphabeten\": 5371, \"furchtsam\": 5372, \"verwandt\": 5373, \"umzingelt\": 5374, \"ausprobiert\": 5375, \"aussicht\": 5376, \"ausblick\": 5377, \"lustiger\": 5378, \"schwere\": 5379, \"heuchler\": 5380, \"kluges\": 5381, \"kerlchen\": 5382, \"besagt\": 5383, \"wovon\": 5384, \"ziehst\": 5385, \"wunsch\": 5386, \"zoll\": 5387, \"sitzplatz\": 5388, \"mami\": 5389, \"festgenommen\": 5390, \"hergebracht\": 5391, \"dame\": 5392, \"benachrichtigt\": 5393, \"gesperrt\": 5394, \"eigelbe\": 5395, \"gelb\": 5396, \"vermasselt\": 5397, \"kucken\": 5398, \"leistest\": 5399, \"steckenpferd\": 5400, \"schienst\": 5401, \"loegest\": 5402, \"loeget\": 5403, \"loegen\": 5404, \"freundin\": 5405, \"starrsinnig\": 5406, \"schreist\": 5407, \"versicherung\": 5408, \"vogelscheuche\": 5409, \"wertlos\": 5410, \"hosenstall\": 5411, \"regnete\": 5412, \"heftig\": 5413, \"heftiger\": 5414, \"gewitter\": 5415, \"unwetter\": 5416, \"fuegen\": 5417, \"einzige\": 5418, \"ammoniak\": 5419, \"lauge\": 5420, \"bettwanzen\": 5421, \"vampire\": 5422, \"vampir\": 5423, \"zweisprachig\": 5424, \"buergermeister\": 5425, \"polizisten\": 5426, \"schutzmann\": 5427, \"meide\": 5428, \"schlechten\": 5429, \"umgang\": 5430, \"warnung\": 5431, \"dieben\": 5432, \"bauen\": 5433, \"nester\": 5434, \"faszinieren\": 5435, \"ausleihen\": 5436, \"bissen\": 5437, \"verschieben\": 5438, \"springschnurspringen\": 5439, \"schleife\": 5440, \"binden\": 5441, \"rausschmeissen\": 5442, \"feuern\": 5443, \"champagner\": 5444, \"kokain\": 5445, \"vergleiche\": 5446, \"fakten\": 5447, \"rueckgeld\": 5448, \"verhandlung\": 5449, \"vertagt\": 5450, \"lohnt\": 5451, \"verteidigt\": 5452, \"genannt\": 5453, \"rausgeworfen\": 5454, \"gezeichnet\": 5455, \"wohntest\": 5456, \"wohntet\": 5457, \"wohnten\": 5458, \"alarmanlage\": 5459, \"ameisen\": 5460, \"zuliebe\": 5461, \"stimmst\": 5462, \"rose\": 5463, \"verkaufst\": 5464, \"sahne\": 5465, \"gewogen\": 5466, \"relevant\": 5467, \"palme\": 5468, \"erwaehne\": 5469, \"wiederhol\": 5470, \"wiederholen\": 5471, \"menschenseele\": 5472, \"droh\": 5473, \"erde\": 5474, \"mutti\": 5475, \"mamma\": 5476, \"busse\": 5477, \"jede\": 5478, \"krischen\": 5479, \"ueberlebten\": 5480, \"butter\": 5481, \"heiz\": 5482, \"grill\": 5483, \"teuer\": 5484, \"brat\": 5485, \"bratet\": 5486, \"braten\": 5487, \"bettfertig\": 5488, \"decken\": 5489, \"tempotuch\": 5490, \"geradeaus\": 5491, \"damen\": 5492, \"hamster\": 5493, \"gelaeutet\": 5494, \"heu\": 5495, \"wohlbehalten\": 5496, \"rasend\": 5497, \"erpresste\": 5498, \"erpresst\": 5499, \"blockierte\": 5500, \"neigte\": 5501, \"stock\": 5502, \"aufgetaucht\": 5503, \"letztes\": 5504, \"verstorben\": 5505, \"abgekratzt\": 5506, \"abgegeben\": 5507, \"lotus\": 5508, \"pickup\": 5509, \"vase\": 5510, \"lebensunterhalt\": 5511, \"erfroren\": 5512, \"schachtel\": 5513, \"steckte\": 5514, \"tipp\": 5515, \"ermuedete\": 5516, \"erholte\": 5517, \"genas\": 5518, \"ergriff\": 5519, \"erhaengte\": 5520, \"haengte\": 5521, \"blonde\": 5522, \"blondes\": 5523, \"gruene\": 5524, \"reue\": 5525, \"geborener\": 5526, \"mutiger\": 5527, \"draufgaenger\": 5528, \"dramatiker\": 5529, \"physiker\": 5530, \"echter\": 5531, \"wissenschaftler\": 5532, \"ungefaehr\": 5533, \"unrettbar\": 5534, \"inkompetent\": 5535, \"unfaehig\": 5536, \"einflussreich\": 5537, \"vertrauenswuerdig\": 5538, \"momentan\": 5539, \"sms\": 5540, \"beging\": 5541, \"selbstmord\": 5542, \"hals\": 5543, \"abgereist\": 5544, \"kyoto\": 5545, \"osaka\": 5546, \"ehre\": 5547, \"augenlicht\": 5548, \"offenbar\": 5549, \"beiseite\": 5550, \"hob\": 5551, \"meilen\": 5552, \"chinesisch\": 5553, \"russisch\": 5554, \"aufgeblieben\": 5555, \"stahl\": 5556, \"lehrt\": 5557, \"freigenommen\": 5558, \"uebte\": 5559, \"verrat\": 5560, \"verstossen\": 5561, \"uebertreten\": 5562, \"strahlte\": 5563, \"aeusserst\": 5564, \"rastete\": 5565, \"hinwegkommen\": 5566, \"studienanfaenger\": 5567, \"anfangssemestern\": 5568, \"hochverschuldet\": 5569, \"georgia\": 5570, \"georgien\": 5571, \"knast\": 5572, \"sahnt\": 5573, \"vertrauensselig\": 5574, \"naegel\": 5575, \"bitteschoen\": 5576, \"adresse\": 5577, \"gelaender\": 5578, \"schatz\": 5579, \"waer\": 5580, \"wende\": 5581, \"pflichtete\": 5582, \"vierundzwanzig\": 5583, \"ecuador\": 5584, \"england\": 5585, \"taeglich\": 5586, \"vw\": 5587, \"bulli\": 5588, \"kaktus\": 5589, \"hybrid\": 5590, \"ploetzlich\": 5591, \"finger\": 5592, \"buerstete\": 5593, \"anbrennen\": 5594, \"wachschutz\": 5595, \"wachdienst\": 5596, \"chopin\": 5597, \"heiraten\": 5598, \"einordnen\": 5599, \"aufs\": 5600, \"ertrage\": 5601, \"umentschieden\": 5602, \"gekriegt\": 5603, \"rueckverguetung\": 5604, \"besseres\": 5605, \"universitaetsabschluss\": 5606, \"gekannt\": 5607, \"steuererklaerung\": 5608, \"werfe\": 5609, \"pool\": 5610, \"bedauere\": 5611, \"durchgefahren\": 5612, \"klausur\": 5613, \"schliesslich\": 5614, \"letztendlich\": 5615, \"schal\": 5616, \"ausweg\": 5617, \"note\": 5618, \"reifenpanne\": 5619, \"umsonst\": 5620, \"blauen\": 5621, \"eingefallen\": 5622, \"unfall\": 5623, \"interviews\": 5624, \"vorstellungsgespraeche\": 5625, \"regnerische\": 5626, \"regentage\": 5627, \"wueste\": 5628, \"tochter\": 5629, \"schnelles\": 5630, \"schnellen\": 5631, \"rosa\": 5632, \"rosafarbenes\": 5633, \"vorschlag\": 5634, \"loesung\": 5635, \"ohrenschmerzen\": 5636, \"altes\": 5637, \"mundgeruch\": 5638, \"vorstehende\": 5639, \"sonnenbrille\": 5640, \"nichten\": 5641, \"unterbrach\": 5642, \"marine\": 5643, \"hierhergezogen\": 5644, \"fliegt\": 5645, \"selbstvertrauen\": 5646, \"herausforderungen\": 5647, \"volkslieder\": 5648, \"rockmusik\": 5649, \"sandwiches\": 5650, \"farben\": 5651, \"modell\": 5652, \"komfortabel\": 5653, \"scharfes\": 5654, \"photo\": 5655, \"feilsche\": 5656, \"hingerissen\": 5657, \"hab\\'\": 5658, \"serie\": 5659, \"minuten\": 5660, \"kalender\": 5661, \"tastatur\": 5662, \"zahnpasta\": 5663, \"verschlafe\": 5664, \"football\": 5665, \"zerrung\": 5666, \"zugezogen\": 5667, \"ampel\": 5668, \"treibstoff\": 5669, \"huegel\": 5670, \"empfohlen\": 5671, \"sonnenaufgang\": 5672, \"geschaut\": 5673, \"mitteilen\": 5674, \"unterschrieb\": 5675, \"formular\": 5676, \"kaefer\": 5677, \"verschluckt\": 5678, \"erdkundelehrer\": 5679, \"erdkundelehrerin\": 5680, \"deucht\": 5681, \"highway\": 5682, \"fernstrasse\": 5683, \"geraecht\": 5684, \"gewoehnlich\": 5685, \"wasserbett\": 5686, \"teller\": 5687, \"hereinkommen\": 5688, \"jacke\": 5689, \"mitgefuehl\": 5690, \"sympathie\": 5691, \"pfadfinder\": 5692, \"schuechternes\": 5693, \"fremder\": 5694, \"entmutigt\": 5695, \"daemmerte\": 5696, \"ueberwaeltigt\": 5697, \"gewaschen\": 5698, \"getraeumt\": 5699, \"herumgeschaekert\": 5700, \"aufgewacht\": 5701, \"lotto\": 5702, \"anziehen\": 5703, \"arbeitszeit\": 5704, \"ausfuehren\": 5705, \"besorge\": 5706, \"zurueckgeben\": 5707, \"hinkriegen\": 5708, \"freilassen\": 5709, \"ueberraschen\": 5710, \"verstaendigen\": 5711, \"zahnarzt\": 5712, \"opa\": 5713, \"frisoer\": 5714, \"verheirateter\": 5715, \"geduldiger\": 5716, \"voelliges\": 5717, \"wrack\": 5718, \"astronom\": 5719, \"einzelkind\": 5720, \"gewissenhaft\": 5721, \"erwarte\": 5722, \"baff\": 5723, \"springe\": 5724, \"unersetzlich\": 5725, \"austauschbar\": 5726, \"lediglich\": 5727, \"vermute\": 5728, \"fanatikerin\": 5729, \"spielerin\": 5730, \"ungeheuer\": 5731, \"monster\": 5732, \"hellsehen\": 5733, \"kuenstlerin\": 5734, \"eigentuemer\": 5735, \"eigentuemerin\": 5736, \"besitzer\": 5737, \"besitzerin\": 5738, \"allzu\": 5739, \"dienstmaedchen\": 5740, \"altmodisch\": 5741, \"siebten\": 5742, \"wolke\": 5743, \"atem\": 5744, \"direkt\": 5745, \"mitbewohner\": 5746, \"mitbewohnerin\": 5747, \"vertrieben\": 5748}'"
            ]
          },
          "metadata": {
            "tags": []
          },
          "execution_count": 28
        }
      ]
    },
    {
      "cell_type": "code",
      "metadata": {
        "id": "vG5CRIXV1ibi",
        "outputId": "80b1c7e0-334e-4984-c69b-11abb5545005",
        "colab": {
          "base_uri": "https://localhost:8080/",
          "height": 34
        }
      },
      "source": [
        "# Save word_index and index_word as python dictionaries\n",
        "\n",
        "index_word = json.loads(tokenizer_config['index_word'])\n",
        "word_index = json.loads(tokenizer_config['word_index'])\n",
        "\n",
        "# Get the vocabulary size of the tokenizer\n",
        "\n",
        "vocab_size = len(word_counts.keys())+1\n",
        "print(vocab_size)"
      ],
      "execution_count": 29,
      "outputs": [
        {
          "output_type": "stream",
          "text": [
            "5749\n"
          ],
          "name": "stdout"
        }
      ]
    },
    {
      "cell_type": "code",
      "metadata": {
        "id": "SvqqT_ET1ibl"
      },
      "source": [
        "# Decoder Model\n",
        "\n",
        "class Decoder(Model):\n",
        "    \n",
        "    def __init__(self, **kwargs):\n",
        "        super(Decoder, self).__init__(**kwargs)\n",
        "        self.embedding = Embedding(input_dim=vocab_size,\n",
        "                                   output_dim=128, mask_zero=True)\n",
        "        self.lstm = LSTM(512, return_sequences=True, return_state=True)\n",
        "        self.dense = Dense(vocab_size)\n",
        "    \n",
        "    \n",
        "    def call(self, inputs, hidden_state=None, cell_state=None):\n",
        "        x = self.embedding(inputs)\n",
        "        seq_output, state_h, state_c = self.lstm(inputs=x,\n",
        "                                                 initial_state=[hidden_state,\n",
        "                                                                cell_state])\n",
        "        x = self.dense(seq_output)\n",
        "        \n",
        "        return x, state_h, state_c\n",
        "\n",
        "    \n",
        "    def summary(self):\n",
        "    \n",
        "        x = Input(shape=(14))\n",
        "        hidden_state = Input(shape=(512))\n",
        "        cell_state = Input(shape=(512))\n",
        "        model = Model(inputs=[x, hidden_state, cell_state],\n",
        "                      outputs=self.call(x, state_h, state_c))\n",
        "        \n",
        "        return model.summary()\n"
      ],
      "execution_count": 30,
      "outputs": []
    },
    {
      "cell_type": "code",
      "metadata": {
        "id": "HFZYJTiq4XtS",
        "outputId": "0bb94ad0-dec7-4947-fdb6-b694b383c1eb",
        "colab": {
          "base_uri": "https://localhost:8080/",
          "height": 442
        }
      },
      "source": [
        "element = next(iter(train_data.take(1)))\n",
        "print(element[1].shape)\n",
        "\n",
        "state_h, state_c = encoder(element[0])\n",
        "\n",
        "decoder = Decoder()\n",
        "decoder(inputs=element[1], hidden_state=state_h, cell_state=state_c)\n",
        "\n",
        "decoder.summary()\n",
        "\n",
        "# Test the shapes of Encoder Network\n",
        "\n",
        "layer_outputs = [print(layer.output) for layer in encoder.layers]"
      ],
      "execution_count": 31,
      "outputs": [
        {
          "output_type": "stream",
          "text": [
            "(16, 14)\n",
            "Model: \"functional_3\"\n",
            "__________________________________________________________________________________________________\n",
            "Layer (type)                    Output Shape         Param #     Connected to                     \n",
            "==================================================================================================\n",
            "input_2 (InputLayer)            [(None, 14)]         0                                            \n",
            "__________________________________________________________________________________________________\n",
            "embedding (Embedding)           (None, 14, 128)      735872      input_2[0][0]                    \n",
            "__________________________________________________________________________________________________\n",
            "lstm_1 (LSTM)                   [(16, 14, 512), (16, 1312768     embedding[0][0]                  \n",
            "__________________________________________________________________________________________________\n",
            "input_3 (InputLayer)            [(None, 512)]        0                                            \n",
            "__________________________________________________________________________________________________\n",
            "input_4 (InputLayer)            [(None, 512)]        0                                            \n",
            "__________________________________________________________________________________________________\n",
            "dense (Dense)                   (16, 14, 5749)       2949237     lstm_1[0][0]                     \n",
            "==================================================================================================\n",
            "Total params: 4,997,877\n",
            "Trainable params: 4,997,877\n",
            "Non-trainable params: 0\n",
            "__________________________________________________________________________________________________\n",
            "Tensor(\"input_1:0\", shape=(None, 13, 128), dtype=float32)\n",
            "Tensor(\"encoder_layer_1/concatenate/concat:0\", shape=(None, 14, 128), dtype=float32)\n",
            "Tensor(\"masking/mul:0\", shape=(None, 14, 128), dtype=float32)\n",
            "[<tf.Tensor 'lstm/PartitionedCall:1' shape=(None, 14, 512) dtype=float32>, <tf.Tensor 'lstm/PartitionedCall:2' shape=(None, 512) dtype=float32>, <tf.Tensor 'lstm/PartitionedCall:3' shape=(None, 512) dtype=float32>]\n"
          ],
          "name": "stdout"
        }
      ]
    },
    {
      "cell_type": "code",
      "metadata": {
        "id": "pqXlqxCM4ZKe",
        "outputId": "072dd99e-7328-4967-9733-0ec3b64c462f",
        "colab": {
          "base_uri": "https://localhost:8080/",
          "height": 77
        }
      },
      "source": [
        "from tensorflow.keras.utils import plot_model\n",
        "\n",
        "plot_model(decoder, \"my_first_model.png\", show_shapes=True, show_layer_names=True)"
      ],
      "execution_count": 32,
      "outputs": [
        {
          "output_type": "execute_result",
          "data": {
            "image/png": "[encoded data removed]",
            "text/plain": [
              "<IPython.core.display.Image object>"
            ]
          },
          "metadata": {
            "tags": []
          },
          "execution_count": 32
        }
      ]
    },
    {
      "cell_type": "markdown",
      "metadata": {
        "id": "pST9XGJ81ibo"
      },
      "source": [
        "## 6. Make a custom training loop\n",
        "You should now write a custom training loop to train your custom neural translation model.\n",
        "* Define a function that takes a Tensor batch of German data (as extracted from the training Dataset), and returns a tuple containing German inputs and outputs for the decoder model (refer to schematic diagram above).\n",
        "* Define a function that computes the forward and backward pass for your translation model. This function should take an English input, German input and German output as arguments, and should do the following:\n",
        "    * Pass the English input into the encoder, to get the hidden and cell states of the encoder LSTM.\n",
        "    * These hidden and cell states are then passed into the decoder, along with the German inputs, which returns a sequence of outputs (the hidden and cell state outputs of the decoder LSTM are unused in this function).\n",
        "    * The loss should then be computed between the decoder outputs and the German output function argument.\n",
        "    * The function returns the loss and gradients with respect to the encoder and decoder’s trainable variables.\n",
        "    * Decorate the function with `@tf.function`\n",
        "* Define and run a custom training loop for a number of epochs (for you to choose) that does the following:\n",
        "    * Iterates through the training dataset, and creates decoder inputs and outputs from the German sequences.\n",
        "    * Updates the parameters of the translation model using the gradients of the function above and an optimizer object.\n",
        "    * Every epoch, compute the validation loss on a number of batches from the validation and save the epoch training and validation losses.\n",
        "* Plot the learning curves for loss vs epoch for both training and validation sets.\n",
        "\n",
        "_Hint: This model is computationally demanding to train. The quality of the model or length of training is not a factor in the grading rubric. However, to obtain a better model we recommend using the GPU accelerator hardware on Colab._"
      ]
    },
    {
      "cell_type": "code",
      "metadata": {
        "id": "7hJHbWqs1ibr"
      },
      "source": [
        "# Define number of epochs\n",
        "\n",
        "num_epochs = 10\n",
        "val_steps = 250\n",
        "\n",
        "# Create the optimizer and loss\n",
        "\n",
        "optimizer_obj = tf.keras.optimizers.Adam()\n",
        "loss_obj = tf.keras.losses.SparseCategoricalCrossentropy(\n",
        "    from_logits=True, reduction='none')\n"
      ],
      "execution_count": 33,
      "outputs": []
    },
    {
      "cell_type": "code",
      "metadata": {
        "id": "Jvu4J4-u1ibu",
        "outputId": "3a0cb407-1f99-4730-99f1-8485f432cdf1",
        "colab": {
          "base_uri": "https://localhost:8080/",
          "height": 1000
        }
      },
      "source": [
        "# Function to train German data\n",
        "\n",
        "def german_info(german_data):\n",
        "    \n",
        "    comparison = tf.equal(german_data, tf.constant(2))    \n",
        "    german_inputs = (tf.where(comparison,\n",
        "                              tf.zeros_like(german_data), german_data))\n",
        "    \n",
        "    zeros = tf.zeros(shape=(16, 1), dtype=tf.int32)\n",
        "    german_outputs = tf.concat([german_data[:,1:], zeros], 1)\n",
        "    \n",
        "    return (german_inputs, german_outputs)\n",
        "\n",
        "print(german_info(element[1]))"
      ],
      "execution_count": 34,
      "outputs": [
        {
          "output_type": "stream",
          "text": [
            "(<tf.Tensor: shape=(16, 14), dtype=int32, numpy=\n",
            "array([[   1,   17,  185,  475,  124,    3,    0,    0,    0,    0,    0,\n",
            "           0,    0,    0],\n",
            "       [   1,    5,  352,  104,  199,    3,    0,    0,    0,    0,    0,\n",
            "           0,    0,    0],\n",
            "       [   1,   62,  352,   47, 1430,  104, 1718,    3,    0,    0,    0,\n",
            "           0,    0,    0],\n",
            "       [   1,   10,    6,  158, 1269,    3,    0,    0,    0,    0,    0,\n",
            "           0,    0,    0],\n",
            "       [   1,   43,   16,   11, 1071,    7,    0,    0,    0,    0,    0,\n",
            "           0,    0,    0],\n",
            "       [   1,   23,    8,  240,    7,    0,    0,    0,    0,    0,    0,\n",
            "           0,    0,    0],\n",
            "       [   1,   14,    6, 2449,    3,    0,    0,    0,    0,    0,    0,\n",
            "           0,    0,    0],\n",
            "       [   1,  415,    5,  368,    7,    0,    0,    0,    0,    0,    0,\n",
            "           0,    0,    0],\n",
            "       [   1,  344,   85,  199,    3,    0,    0,    0,    0,    0,    0,\n",
            "           0,    0,    0],\n",
            "       [   1,    5,    6,  577,    3,    0,    0,    0,    0,    0,    0,\n",
            "           0,    0,    0],\n",
            "       [   1, 2566,    6,  322,    3,    0,    0,    0,    0,    0,    0,\n",
            "           0,    0,    0],\n",
            "       [   1, 3785,    8,    7,    0,    0,    0,    0,    0,    0,    0,\n",
            "           0,    0,    0],\n",
            "       [   1,   14,    6,   71,  412,    3,    0,    0,    0,    0,    0,\n",
            "           0,    0,    0],\n",
            "       [   1,    4,  133,   61,  292,    3,    0,    0,    0,    0,    0,\n",
            "           0,    0,    0],\n",
            "       [   1,    4,   18,  103, 3828,  494,    3,    0,    0,    0,    0,\n",
            "           0,    0,    0],\n",
            "       [   1, 2350,  737,    3,    0,    0,    0,    0,    0,    0,    0,\n",
            "           0,    0,    0]], dtype=int32)>, <tf.Tensor: shape=(16, 14), dtype=int32, numpy=\n",
            "array([[  17,  185,  475,  124,    3,    2,    0,    0,    0,    0,    0,\n",
            "           0,    0,    0],\n",
            "       [   5,  352,  104,  199,    3,    2,    0,    0,    0,    0,    0,\n",
            "           0,    0,    0],\n",
            "       [  62,  352,   47, 1430,  104, 1718,    3,    2,    0,    0,    0,\n",
            "           0,    0,    0],\n",
            "       [  10,    6,  158, 1269,    3,    2,    0,    0,    0,    0,    0,\n",
            "           0,    0,    0],\n",
            "       [  43,   16,   11, 1071,    7,    2,    0,    0,    0,    0,    0,\n",
            "           0,    0,    0],\n",
            "       [  23,    8,  240,    7,    2,    0,    0,    0,    0,    0,    0,\n",
            "           0,    0,    0],\n",
            "       [  14,    6, 2449,    3,    2,    0,    0,    0,    0,    0,    0,\n",
            "           0,    0,    0],\n",
            "       [ 415,    5,  368,    7,    2,    0,    0,    0,    0,    0,    0,\n",
            "           0,    0,    0],\n",
            "       [ 344,   85,  199,    3,    2,    0,    0,    0,    0,    0,    0,\n",
            "           0,    0,    0],\n",
            "       [   5,    6,  577,    3,    2,    0,    0,    0,    0,    0,    0,\n",
            "           0,    0,    0],\n",
            "       [2566,    6,  322,    3,    2,    0,    0,    0,    0,    0,    0,\n",
            "           0,    0,    0],\n",
            "       [3785,    8,    7,    2,    0,    0,    0,    0,    0,    0,    0,\n",
            "           0,    0,    0],\n",
            "       [  14,    6,   71,  412,    3,    2,    0,    0,    0,    0,    0,\n",
            "           0,    0,    0],\n",
            "       [   4,  133,   61,  292,    3,    2,    0,    0,    0,    0,    0,\n",
            "           0,    0,    0],\n",
            "       [   4,   18,  103, 3828,  494,    3,    2,    0,    0,    0,    0,\n",
            "           0,    0,    0],\n",
            "       [2350,  737,    3,    2,    0,    0,    0,    0,    0,    0,    0,\n",
            "           0,    0,    0]], dtype=int32)>)\n"
          ],
          "name": "stdout"
        }
      ]
    },
    {
      "cell_type": "code",
      "metadata": {
        "id": "Vl5H06811ibx"
      },
      "source": [
        "# Function that computes the forward and backward pass for translation model\n",
        "\n",
        "@tf.function\n",
        "def grad(encoder, decoder, english_input, german_input, german_output, loss):\n",
        "    \n",
        "    with tf.GradientTape() as tape:\n",
        "        state_h, state_c = encoder(english_input)\n",
        "        german_pred, hidden_state, cell_state = decoder(german_input,\n",
        "                                                        state_h, state_c)\n",
        "        loss_value = loss(german_output, german_pred)\n",
        "        variables = encoder.trainable_variables + decoder.trainable_variables\n",
        "        grads = tape.gradient(loss_value, variables)\n",
        "        \n",
        "    return (loss_value, grads, german_pred)\n",
        "    \n",
        "    \n",
        "@tf.function\n",
        "def val_preds(encoder, decoder, english_input, german_input, german_output, loss):\n",
        "    \n",
        "    state_h, state_c = encoder(english_input)\n",
        "    val_pred, hidden_state, cell_state = decoder(german_input, state_h, state_c)\n",
        "    loss_val = loss(german_output, val_pred)\n",
        "    \n",
        "    return (val_pred, loss_val)\n",
        "    "
      ],
      "execution_count": 35,
      "outputs": []
    },
    {
      "cell_type": "code",
      "metadata": {
        "id": "MVWOYJ3l1ib1"
      },
      "source": [
        "# Function that train the translator Neural Network\n",
        "\n",
        "def train_translator(encoder, decoder, num_epochs, train_dataset,\n",
        "                     valid_dataset, optimizer, loss, grad_fn):\n",
        "\n",
        "    start_time = time.time()\n",
        "\n",
        "    # Keep results for plotting\n",
        "    train_loss_results = []\n",
        "    train_accuracy_results = []\n",
        "    val_loss_results = []\n",
        "    val_accuracy_results = []\n",
        "\n",
        "    for epoch in range(num_epochs):\n",
        "    \n",
        "        train_epoch_loss_avg = tf.keras.metrics.Mean()\n",
        "        train_epoch_accuracy = tf.keras.metrics.CategoricalAccuracy()\n",
        "        val_epoch_loss_avg = tf.keras.metrics.Mean()\n",
        "        val_epoch_accuracy = tf.keras.metrics.CategoricalAccuracy()\n",
        "        \n",
        "        #Training Loop\n",
        "        for x, y in train_data:\n",
        "            \n",
        "            english_input = x\n",
        "            german_data = y\n",
        "            german_input, german_output = german_info(german_data)\n",
        "            \n",
        "            # Optimize the model\n",
        "            loss_value, grads, german_pred = grad(encoder, decoder, english_input,\n",
        "                                                  german_input, german_output,\n",
        "                                                  loss)\n",
        "            \n",
        "            optimizer.apply_gradients(zip(grads, (encoder.trainable_variables +\n",
        "                                                  decoder.trainable_variables)))\n",
        "    \n",
        "            # Compute current loss\n",
        "            train_epoch_loss_avg(loss_value)\n",
        "            # Compare predicted label to actual label\n",
        "            train_epoch_accuracy(to_categorical(german_output), german_pred)\n",
        "   \n",
        "        print(\"Training time= {:.3f}, seconds\".format(time.time() - start_time))\n",
        "\n",
        "        for x, y in valid_data.take(val_steps):\n",
        "            \n",
        "            english_input = x\n",
        "            german_data = y\n",
        "            german_input, german_output = german_info(german_data)\n",
        "            \n",
        "            val_pred, loss_val = val_preds(encoder, decoder, english_input,\n",
        "                                           german_input, german_output,\n",
        "                                           loss)\n",
        "            \n",
        "            # Compute validation loss\n",
        "            val_epoch_loss_avg(loss_val)\n",
        "            # Compare predicted label to actual label\n",
        "            val_epoch_accuracy(to_categorical(german_output), val_pred)\n",
        "    \n",
        "        print(\"Validation time= {:.3f}, seconds\".format(time.time() - start_time))\n",
        "\n",
        "        # End epoch\n",
        "        train_loss_results.append(train_epoch_loss_avg.result().numpy())\n",
        "        train_accuracy_results.append(train_epoch_accuracy.result().numpy())\n",
        "        \n",
        "        val_loss_results.append(val_epoch_loss_avg.result().numpy())\n",
        "        val_accuracy_results.append(val_epoch_accuracy.result().numpy())\n",
        "    \n",
        "        print(\"Epoch {:03d}: Train loss: {:.3f}, Train Accuracy: {:.3%}\".format(epoch,\n",
        "                                                                                train_epoch_loss_avg.result(),\n",
        "                                                                                train_epoch_accuracy.result()))\n",
        "        print(\"           Valid loss: {:.3f}, Valid Accuracy: {:.3%}\".format(val_epoch_loss_avg.result(),\n",
        "                                                                             val_epoch_accuracy.result()))\n",
        "    \n",
        "    print(\"Duration:{:.3f}, seconds\".format(time.time() - start_time))\n",
        "\n",
        "    return (train_loss_results, train_accuracy_results, val_loss_results, val_accuracy_results)\n",
        "    "
      ],
      "execution_count": 36,
      "outputs": []
    },
    {
      "cell_type": "code",
      "metadata": {
        "id": "6VSmBdwT1ib4",
        "outputId": "f8c8ff36-1fe7-4066-c30a-22367e9467d3",
        "colab": {
          "base_uri": "https://localhost:8080/",
          "height": 714
        }
      },
      "source": [
        "# Train the model\n",
        "\n",
        "train_loss_res, train_acc_res, val_loss_res, val_acc_res = train_translator(encoder, decoder,\n",
        "                                                                            num_epochs, train_data,\n",
        "                                                                            valid_data, optimizer_obj,\n",
        "                                                                            loss_obj, grad)"
      ],
      "execution_count": 37,
      "outputs": [
        {
          "output_type": "stream",
          "text": [
            "Training time= 114.849, seconds\n",
            "Validation time= 135.893, seconds\n",
            "Epoch 000: Train loss: 5.957, Train Accuracy: 78.040%\n",
            "           Valid loss: 5.134, Valid Accuracy: 81.195%\n",
            "Training time= 248.480, seconds\n",
            "Validation time= 268.312, seconds\n",
            "Epoch 001: Train loss: 4.450, Train Accuracy: 82.858%\n",
            "           Valid loss: 3.846, Valid Accuracy: 83.848%\n",
            "Training time= 382.194, seconds\n",
            "Validation time= 401.987, seconds\n",
            "Epoch 002: Train loss: 3.191, Train Accuracy: 85.070%\n",
            "           Valid loss: 2.658, Valid Accuracy: 85.623%\n",
            "Training time= 514.956, seconds\n",
            "Validation time= 534.677, seconds\n",
            "Epoch 003: Train loss: 2.060, Train Accuracy: 86.929%\n",
            "           Valid loss: 1.639, Valid Accuracy: 87.121%\n",
            "Training time= 646.489, seconds\n",
            "Validation time= 666.268, seconds\n",
            "Epoch 004: Train loss: 1.181, Train Accuracy: 88.961%\n",
            "           Valid loss: 0.963, Valid Accuracy: 88.521%\n",
            "Training time= 778.051, seconds\n",
            "Validation time= 797.765, seconds\n",
            "Epoch 005: Train loss: 0.670, Train Accuracy: 90.966%\n",
            "           Valid loss: 0.630, Valid Accuracy: 89.550%\n",
            "Training time= 909.119, seconds\n",
            "Validation time= 928.818, seconds\n",
            "Epoch 006: Train loss: 0.422, Train Accuracy: 92.760%\n",
            "           Valid loss: 0.467, Valid Accuracy: 90.538%\n",
            "Training time= 1039.479, seconds\n",
            "Validation time= 1059.182, seconds\n",
            "Epoch 007: Train loss: 0.292, Train Accuracy: 94.152%\n",
            "           Valid loss: 0.375, Valid Accuracy: 91.370%\n",
            "Training time= 1170.720, seconds\n",
            "Validation time= 1190.457, seconds\n",
            "Epoch 008: Train loss: 0.215, Train Accuracy: 95.320%\n",
            "           Valid loss: 0.320, Valid Accuracy: 91.964%\n",
            "Training time= 1301.576, seconds\n",
            "Validation time= 1321.427, seconds\n",
            "Epoch 009: Train loss: 0.165, Train Accuracy: 96.127%\n",
            "           Valid loss: 0.283, Valid Accuracy: 92.637%\n",
            "Duration:1321.431, seconds\n"
          ],
          "name": "stdout"
        }
      ]
    },
    {
      "cell_type": "code",
      "metadata": {
        "id": "dpacst2F1ib7",
        "outputId": "94841063-99e4-4c16-9e5e-8427c59a72ca",
        "colab": {
          "base_uri": "https://localhost:8080/",
          "height": 354
        }
      },
      "source": [
        "# Plot the learning curves\n",
        "\n",
        "fig, axes = plt.subplots(1, 2, sharex=True, figsize=(12, 5))\n",
        "\n",
        "axes[0].set_xlabel(\"Epochs\", fontsize=14)\n",
        "axes[0].set_ylabel(\"Loss\", fontsize=14)\n",
        "axes[0].set_title('Loss vs epochs')\n",
        "axes[0].plot(train_loss_res)\n",
        "axes[0].plot(val_loss_res)\n",
        "axes[0].legend(['Training', 'Validation'], loc='upper right')\n",
        "\n",
        "axes[1].set_title('Accuracy vs epochs')\n",
        "axes[1].set_ylabel(\"Accuracy\", fontsize=14)\n",
        "axes[1].set_xlabel(\"Epochs\", fontsize=14)\n",
        "axes[1].plot(train_acc_res)\n",
        "axes[1].plot(val_acc_res)\n",
        "axes[1].legend(['Training', 'Validation'], loc='upper left')\n",
        "plt.show()"
      ],
      "execution_count": 38,
      "outputs": [
        {
          "output_type": "display_data",
          "data": {
            "image/png": "[encoded data removed]",
            "text/plain": [
              "<Figure size 864x360 with 2 Axes>"
            ]
          },
          "metadata": {
            "tags": [],
            "needs_background": "light"
          }
        }
      ]
    },
    {
      "cell_type": "markdown",
      "metadata": {
        "id": "xM2gvBM11ib-"
      },
      "source": [
        "## 7. Use the model to translate\n",
        "Now it's time to put your model into practice! You should run your translation for five randomly sampled English sentences from the dataset. For each sentence, the process is as follows:\n",
        "* Preprocess and embed the English sentence according to the model requirements.\n",
        "* Pass the embedded sentence through the encoder to get the encoder hidden and cell states.\n",
        "* Starting with the special  `\"<start>\"` token, use this token and the final encoder hidden and cell states to get the one-step prediction from the decoder, as well as the decoder’s updated hidden and cell states.\n",
        "* Create a loop to get the next step prediction and updated hidden and cell states from the decoder, using the most recent hidden and cell states. Terminate the loop when the `\"<end>\"` token is emitted, or when the sentence has reached a maximum length.\n",
        "* Decode the output token sequence into German text and print the English text and the model's German translation."
      ]
    },
    {
      "cell_type": "code",
      "metadata": {
        "id": "bGnQtE7L1icA"
      },
      "source": [
        "# Function that preprocess English sentence\n",
        "\n",
        "def preprocess(sentence):\n",
        "    \n",
        "    english_prepro = tf.strings.split(sentence)\n",
        "    english_prepro = embedding_layer(english_prepro)\n",
        "\n",
        "    paddings = tf.constant([[13, 0,], [0, 0]])\n",
        "    english_prepro = tf.pad(english_prepro, paddings)\n",
        "    \n",
        "    return english_prepro[-13:,:]\n",
        "\n"
      ],
      "execution_count": 39,
      "outputs": []
    },
    {
      "cell_type": "code",
      "metadata": {
        "id": "ohleJRcJ1icD"
      },
      "source": [
        "# Evaluate the translator\n",
        "\n",
        "def evaluate(sentence):\n",
        "\n",
        "    inputs = preprocess(sentence)\n",
        "    inputs = tf.expand_dims(inputs, 0)\n",
        "    \n",
        "    state_h, state_c = encoder(inputs)\n",
        "    \n",
        "    result = ''\n",
        "    dec_input = tf.expand_dims([word_index['<start>']], 0)\n",
        "    \n",
        "    for t in range(maxlen):\n",
        "        predictions, state_h, state_c = decoder(dec_input,\n",
        "                                                state_h,\n",
        "                                                state_c)\n",
        "\n",
        "        predicted_id = np.argmax(predictions[0])\n",
        "        \n",
        "        index = str(predicted_id)\n",
        "        \n",
        "        if index_word[index] == '<end>':\n",
        "            return result\n",
        "\n",
        "        result = result + index_word[index] + ' '\n",
        "        \n",
        "        # the predicted ID is fed back into the model\n",
        "        dec_input = tf.expand_dims([predicted_id], 0)\n",
        "\n",
        "    return result\n"
      ],
      "execution_count": 40,
      "outputs": []
    },
    {
      "cell_type": "code",
      "metadata": {
        "id": "upm6_tA-FxdQ",
        "outputId": "53a8a0ef-a9ac-4df8-ed13-2b4064024b9c",
        "colab": {
          "base_uri": "https://localhost:8080/",
          "height": 357
        }
      },
      "source": [
        "# Choose 5 random sentences\n",
        "\n",
        "for dummy in range(5):\n",
        "    index = random.randint(0, len(data_sentences))\n",
        "    \n",
        "    print(\"Original English sentence:\", english_sentences[index])\n",
        "    print(\"German predicted sentence:\", evaluate(english_sentences[index]))\n",
        "    #print(preprocess(english_sentences[index]))\n",
        "    print(\"Correct German sentence:\", (german_sentences[index])[7:-6])\n",
        "    print()\n",
        "\n"
      ],
      "execution_count": 41,
      "outputs": [
        {
          "output_type": "stream",
          "text": [
            "Original English sentence: who cheated\n",
            "German predicted sentence: wer schummelte ? \n",
            "Correct German sentence:  wer schummelte ?\n",
            "\n",
            "Original English sentence: come and look\n",
            "German predicted sentence: komm und schau . \n",
            "Correct German sentence:  komm und schau .\n",
            "\n",
            "Original English sentence: tom looks well\n",
            "German predicted sentence: tom sieht gut aus . \n",
            "Correct German sentence:  tom sieht gut aus .\n",
            "\n",
            "Original English sentence: who can that be\n",
            "German predicted sentence: wer kann das machen ? \n",
            "Correct German sentence:  wer kann das sein ?\n",
            "\n",
            "Original English sentence: i was dizzy\n",
            "German predicted sentence: ich langweilte mich . \n",
            "Correct German sentence:  mir war schwindlig .\n",
            "\n"
          ],
          "name": "stdout"
        }
      ]
    }
  ]
}